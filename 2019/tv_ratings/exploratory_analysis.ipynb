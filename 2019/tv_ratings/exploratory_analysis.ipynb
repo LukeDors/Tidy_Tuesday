{
 "cells": [
  {
   "cell_type": "markdown",
   "metadata": {},
   "source": [
    "# <font color=lightblue>TV Dramas</font>\n",
    "\n",
    "This data is from IMDB, and contains all television dramas from 1990 to 2018. Data credit goes to [Sara Stoudt](https://twitter.com/sastoudt).\n",
    "\n",
    "---\n",
    "|**Variable**  |**Description**                |\n",
    "|:---------|:--------------------------|\n",
    "|titleId   |Unique identifier for series|\n",
    "|seasonNumber|Season number for series|\n",
    "|title|Title of series|\n",
    "|date|Series premiere date|\n",
    "|av_rating|Average IMDB user rating (1-10 scale)|\n",
    "|share|Share of total views among all dramas in the same year|\n",
    "|genres|List of applicable genres to the series|"
   ]
  },
  {
   "cell_type": "markdown",
   "metadata": {},
   "source": [
    "---\n",
    "## <font color=green>Data Collection</font>\n",
    "\n",
    "* Import packages\n",
    "* Read in data\n",
    "* Observe shape, head, and tail\n",
    "---"
   ]
  },
  {
   "cell_type": "code",
   "execution_count": 53,
   "metadata": {},
   "outputs": [],
   "source": [
    "import pandas as pd\n",
    "import numpy as np\n",
    "import matplotlib.pyplot as plt\n",
    "import seaborn as sns\n",
    "from sklearn.preprocessing import StandardScaler\n",
    "import plotly.graph_objects as go\n",
    "import plotly.express as px\n",
    "from plotly.subplots import make_subplots\n",
    "import warnings\n",
    "\n",
    "warnings.filterwarnings('ignore')\n",
    "\n",
    "pd.set_option('display.max_columns', 60)\n",
    "plt.style.use('ggplot')"
   ]
  },
  {
   "cell_type": "code",
   "execution_count": 54,
   "metadata": {},
   "outputs": [],
   "source": [
    "data = pd.read_csv('IMDb_Economist_tv_ratings.csv')"
   ]
  },
  {
   "cell_type": "code",
   "execution_count": 55,
   "metadata": {},
   "outputs": [
    {
     "data": {
      "text/plain": [
       "(2266, 7)"
      ]
     },
     "execution_count": 55,
     "metadata": {},
     "output_type": "execute_result"
    }
   ],
   "source": [
    "data.shape"
   ]
  },
  {
   "cell_type": "code",
   "execution_count": 56,
   "metadata": {},
   "outputs": [
    {
     "data": {
      "text/html": [
       "<div>\n",
       "<style scoped>\n",
       "    .dataframe tbody tr th:only-of-type {\n",
       "        vertical-align: middle;\n",
       "    }\n",
       "\n",
       "    .dataframe tbody tr th {\n",
       "        vertical-align: top;\n",
       "    }\n",
       "\n",
       "    .dataframe thead th {\n",
       "        text-align: right;\n",
       "    }\n",
       "</style>\n",
       "<table border=\"1\" class=\"dataframe\">\n",
       "  <thead>\n",
       "    <tr style=\"text-align: right;\">\n",
       "      <th></th>\n",
       "      <th>titleId</th>\n",
       "      <th>seasonNumber</th>\n",
       "      <th>title</th>\n",
       "      <th>date</th>\n",
       "      <th>av_rating</th>\n",
       "      <th>share</th>\n",
       "      <th>genres</th>\n",
       "    </tr>\n",
       "  </thead>\n",
       "  <tbody>\n",
       "    <tr>\n",
       "      <th>0</th>\n",
       "      <td>tt2879552</td>\n",
       "      <td>1</td>\n",
       "      <td>11.22.63</td>\n",
       "      <td>2016-03-10</td>\n",
       "      <td>8.4890</td>\n",
       "      <td>0.51</td>\n",
       "      <td>Drama,Mystery,Sci-Fi</td>\n",
       "    </tr>\n",
       "    <tr>\n",
       "      <th>1</th>\n",
       "      <td>tt3148266</td>\n",
       "      <td>1</td>\n",
       "      <td>12 Monkeys</td>\n",
       "      <td>2015-02-27</td>\n",
       "      <td>8.3407</td>\n",
       "      <td>0.46</td>\n",
       "      <td>Adventure,Drama,Mystery</td>\n",
       "    </tr>\n",
       "    <tr>\n",
       "      <th>2</th>\n",
       "      <td>tt3148266</td>\n",
       "      <td>2</td>\n",
       "      <td>12 Monkeys</td>\n",
       "      <td>2016-05-30</td>\n",
       "      <td>8.8196</td>\n",
       "      <td>0.25</td>\n",
       "      <td>Adventure,Drama,Mystery</td>\n",
       "    </tr>\n",
       "    <tr>\n",
       "      <th>3</th>\n",
       "      <td>tt3148266</td>\n",
       "      <td>3</td>\n",
       "      <td>12 Monkeys</td>\n",
       "      <td>2017-05-19</td>\n",
       "      <td>9.0369</td>\n",
       "      <td>0.19</td>\n",
       "      <td>Adventure,Drama,Mystery</td>\n",
       "    </tr>\n",
       "    <tr>\n",
       "      <th>4</th>\n",
       "      <td>tt3148266</td>\n",
       "      <td>4</td>\n",
       "      <td>12 Monkeys</td>\n",
       "      <td>2018-06-26</td>\n",
       "      <td>9.1363</td>\n",
       "      <td>0.38</td>\n",
       "      <td>Adventure,Drama,Mystery</td>\n",
       "    </tr>\n",
       "  </tbody>\n",
       "</table>\n",
       "</div>"
      ],
      "text/plain": [
       "     titleId  seasonNumber       title        date  av_rating  share  \\\n",
       "0  tt2879552             1    11.22.63  2016-03-10     8.4890   0.51   \n",
       "1  tt3148266             1  12 Monkeys  2015-02-27     8.3407   0.46   \n",
       "2  tt3148266             2  12 Monkeys  2016-05-30     8.8196   0.25   \n",
       "3  tt3148266             3  12 Monkeys  2017-05-19     9.0369   0.19   \n",
       "4  tt3148266             4  12 Monkeys  2018-06-26     9.1363   0.38   \n",
       "\n",
       "                    genres  \n",
       "0     Drama,Mystery,Sci-Fi  \n",
       "1  Adventure,Drama,Mystery  \n",
       "2  Adventure,Drama,Mystery  \n",
       "3  Adventure,Drama,Mystery  \n",
       "4  Adventure,Drama,Mystery  "
      ]
     },
     "execution_count": 56,
     "metadata": {},
     "output_type": "execute_result"
    }
   ],
   "source": [
    "data.head()"
   ]
  },
  {
   "cell_type": "code",
   "execution_count": 57,
   "metadata": {},
   "outputs": [
    {
     "data": {
      "text/html": [
       "<div>\n",
       "<style scoped>\n",
       "    .dataframe tbody tr th:only-of-type {\n",
       "        vertical-align: middle;\n",
       "    }\n",
       "\n",
       "    .dataframe tbody tr th {\n",
       "        vertical-align: top;\n",
       "    }\n",
       "\n",
       "    .dataframe thead th {\n",
       "        text-align: right;\n",
       "    }\n",
       "</style>\n",
       "<table border=\"1\" class=\"dataframe\">\n",
       "  <thead>\n",
       "    <tr style=\"text-align: right;\">\n",
       "      <th></th>\n",
       "      <th>titleId</th>\n",
       "      <th>seasonNumber</th>\n",
       "      <th>title</th>\n",
       "      <th>date</th>\n",
       "      <th>av_rating</th>\n",
       "      <th>share</th>\n",
       "      <th>genres</th>\n",
       "    </tr>\n",
       "  </thead>\n",
       "  <tbody>\n",
       "    <tr>\n",
       "      <th>2261</th>\n",
       "      <td>tt3250026</td>\n",
       "      <td>3</td>\n",
       "      <td>Zoo</td>\n",
       "      <td>2017-07-31</td>\n",
       "      <td>7.4132</td>\n",
       "      <td>0.09</td>\n",
       "      <td>Drama,Mystery,Sci-Fi</td>\n",
       "    </tr>\n",
       "    <tr>\n",
       "      <th>2262</th>\n",
       "      <td>tt3501584</td>\n",
       "      <td>1</td>\n",
       "      <td>iZombie</td>\n",
       "      <td>2015-04-28</td>\n",
       "      <td>8.4296</td>\n",
       "      <td>0.59</td>\n",
       "      <td>Comedy,Crime,Drama</td>\n",
       "    </tr>\n",
       "    <tr>\n",
       "      <th>2263</th>\n",
       "      <td>tt3501584</td>\n",
       "      <td>2</td>\n",
       "      <td>iZombie</td>\n",
       "      <td>2016-01-07</td>\n",
       "      <td>8.5641</td>\n",
       "      <td>0.43</td>\n",
       "      <td>Comedy,Crime,Drama</td>\n",
       "    </tr>\n",
       "    <tr>\n",
       "      <th>2264</th>\n",
       "      <td>tt3501584</td>\n",
       "      <td>3</td>\n",
       "      <td>iZombie</td>\n",
       "      <td>2017-05-16</td>\n",
       "      <td>8.4077</td>\n",
       "      <td>0.23</td>\n",
       "      <td>Comedy,Crime,Drama</td>\n",
       "    </tr>\n",
       "    <tr>\n",
       "      <th>2265</th>\n",
       "      <td>tt3501584</td>\n",
       "      <td>4</td>\n",
       "      <td>iZombie</td>\n",
       "      <td>2018-04-13</td>\n",
       "      <td>8.1214</td>\n",
       "      <td>0.32</td>\n",
       "      <td>Comedy,Crime,Drama</td>\n",
       "    </tr>\n",
       "  </tbody>\n",
       "</table>\n",
       "</div>"
      ],
      "text/plain": [
       "        titleId  seasonNumber    title        date  av_rating  share  \\\n",
       "2261  tt3250026             3      Zoo  2017-07-31     7.4132   0.09   \n",
       "2262  tt3501584             1  iZombie  2015-04-28     8.4296   0.59   \n",
       "2263  tt3501584             2  iZombie  2016-01-07     8.5641   0.43   \n",
       "2264  tt3501584             3  iZombie  2017-05-16     8.4077   0.23   \n",
       "2265  tt3501584             4  iZombie  2018-04-13     8.1214   0.32   \n",
       "\n",
       "                    genres  \n",
       "2261  Drama,Mystery,Sci-Fi  \n",
       "2262    Comedy,Crime,Drama  \n",
       "2263    Comedy,Crime,Drama  \n",
       "2264    Comedy,Crime,Drama  \n",
       "2265    Comedy,Crime,Drama  "
      ]
     },
     "execution_count": 57,
     "metadata": {},
     "output_type": "execute_result"
    }
   ],
   "source": [
    "data.tail()"
   ]
  },
  {
   "cell_type": "markdown",
   "metadata": {},
   "source": [
    "---\n",
    "## <font color='red'>Findings and Results</font>\n",
    "\n",
    "* 2266 observations in the data\n",
    "* 7 columns\n",
    "* `genres` needs to be expanded into multiple columns\n",
    "\n",
    "---"
   ]
  },
  {
   "cell_type": "markdown",
   "metadata": {},
   "source": [
    "---\n",
    "## <font color=green>Data Cleaning</font>\n",
    "\n",
    "* Observe data types\n",
    "* Expand `genres` into several binary columns of genre identifiers, remove `genres` column\n",
    "* Explicitly cast `date` as a DateTime type\n",
    "* Create `year` and `month` columns from the `date` column\n",
    "---"
   ]
  },
  {
   "cell_type": "code",
   "execution_count": 58,
   "metadata": {},
   "outputs": [
    {
     "name": "stdout",
     "output_type": "stream",
     "text": [
      "<class 'pandas.core.frame.DataFrame'>\n",
      "RangeIndex: 2266 entries, 0 to 2265\n",
      "Data columns (total 7 columns):\n",
      " #   Column        Non-Null Count  Dtype  \n",
      "---  ------        --------------  -----  \n",
      " 0   titleId       2266 non-null   object \n",
      " 1   seasonNumber  2266 non-null   int64  \n",
      " 2   title         2266 non-null   object \n",
      " 3   date          2266 non-null   object \n",
      " 4   av_rating     2266 non-null   float64\n",
      " 5   share         2266 non-null   float64\n",
      " 6   genres        2266 non-null   object \n",
      "dtypes: float64(2), int64(1), object(4)\n",
      "memory usage: 124.0+ KB\n"
     ]
    }
   ],
   "source": [
    "#see dtypes of columns\n",
    "\n",
    "data.info()"
   ]
  },
  {
   "cell_type": "code",
   "execution_count": 59,
   "metadata": {},
   "outputs": [],
   "source": [
    "#expand genres column\n",
    "\n",
    "data['genres'] = data['genres'].str.split(',')\n",
    "data_exploded = data.explode('genres')\n",
    "\n",
    "genre_dummies = pd.get_dummies(data_exploded['genres'], prefix='genre')\n",
    "genre_dummies = genre_dummies.groupby(level=0).sum()\n",
    "data = pd.concat([data, genre_dummies], axis=1)\n",
    "data = data.drop('genres', axis=1)\n",
    "data = data.drop('genre_Drama', axis=1)"
   ]
  },
  {
   "cell_type": "code",
   "execution_count": 60,
   "metadata": {},
   "outputs": [],
   "source": [
    "#set data column as datetime\n",
    "\n",
    "data['date'] = pd.to_datetime(data['date'])"
   ]
  },
  {
   "cell_type": "code",
   "execution_count": 61,
   "metadata": {},
   "outputs": [],
   "source": [
    "#create year and month columns\n",
    "\n",
    "data['year'] = data['date'].dt.year.astype('int64')\n",
    "data['month'] = data['date'].dt.month.astype('int64')"
   ]
  },
  {
   "cell_type": "code",
   "execution_count": 62,
   "metadata": {},
   "outputs": [
    {
     "data": {
      "text/plain": [
       "29"
      ]
     },
     "execution_count": 62,
     "metadata": {},
     "output_type": "execute_result"
    }
   ],
   "source": [
    "#new column count\n",
    "\n",
    "len(data.columns)"
   ]
  },
  {
   "cell_type": "markdown",
   "metadata": {},
   "source": [
    "---\n",
    "## <font color='red'>Findings and Results</font>\n",
    "\n",
    "* `genres` column is removed\n",
    "* 20 additional columns of genre identifiers added\n",
    "\n",
    "---"
   ]
  },
  {
   "cell_type": "markdown",
   "metadata": {},
   "source": [
    "---\n",
    "## <font color='green'>Data Exploration</font>\n",
    "\n",
    "* Examine aggregate statistics of cleaned data\n",
    "* Find distribution of numeric columns with histograms\n",
    "* Scale data and create a correlation graph of all numeric columns\n",
    "* Find highest `seasonNumber`/`title` combinations with highest `share` values\n",
    "* Evaluate `share` column: documentation not clear. Does it mean share of total views, or exclusively drama views?\n",
    "---"
   ]
  },
  {
   "cell_type": "code",
   "execution_count": 63,
   "metadata": {},
   "outputs": [
    {
     "data": {
      "text/html": [
       "<div>\n",
       "<style scoped>\n",
       "    .dataframe tbody tr th:only-of-type {\n",
       "        vertical-align: middle;\n",
       "    }\n",
       "\n",
       "    .dataframe tbody tr th {\n",
       "        vertical-align: top;\n",
       "    }\n",
       "\n",
       "    .dataframe thead th {\n",
       "        text-align: right;\n",
       "    }\n",
       "</style>\n",
       "<table border=\"1\" class=\"dataframe\">\n",
       "  <thead>\n",
       "    <tr style=\"text-align: right;\">\n",
       "      <th></th>\n",
       "      <th>titleId</th>\n",
       "      <th>title</th>\n",
       "    </tr>\n",
       "  </thead>\n",
       "  <tbody>\n",
       "    <tr>\n",
       "      <th>count</th>\n",
       "      <td>2266</td>\n",
       "      <td>2266</td>\n",
       "    </tr>\n",
       "    <tr>\n",
       "      <th>unique</th>\n",
       "      <td>876</td>\n",
       "      <td>868</td>\n",
       "    </tr>\n",
       "    <tr>\n",
       "      <th>top</th>\n",
       "      <td>tt0203259</td>\n",
       "      <td>Law &amp; Order: Special Victims Unit</td>\n",
       "    </tr>\n",
       "    <tr>\n",
       "      <th>freq</th>\n",
       "      <td>20</td>\n",
       "      <td>20</td>\n",
       "    </tr>\n",
       "  </tbody>\n",
       "</table>\n",
       "</div>"
      ],
      "text/plain": [
       "          titleId                              title\n",
       "count        2266                               2266\n",
       "unique        876                                868\n",
       "top     tt0203259  Law & Order: Special Victims Unit\n",
       "freq           20                                 20"
      ]
     },
     "execution_count": 63,
     "metadata": {},
     "output_type": "execute_result"
    }
   ],
   "source": [
    "#descriptive stats for non-numeric columns\n",
    "\n",
    "data.describe(exclude=['int64', 'float64', 'datetime', 'uint8'])"
   ]
  },
  {
   "cell_type": "code",
   "execution_count": 64,
   "metadata": {},
   "outputs": [
    {
     "data": {
      "text/html": [
       "<div>\n",
       "<style scoped>\n",
       "    .dataframe tbody tr th:only-of-type {\n",
       "        vertical-align: middle;\n",
       "    }\n",
       "\n",
       "    .dataframe tbody tr th {\n",
       "        vertical-align: top;\n",
       "    }\n",
       "\n",
       "    .dataframe thead th {\n",
       "        text-align: right;\n",
       "    }\n",
       "</style>\n",
       "<table border=\"1\" class=\"dataframe\">\n",
       "  <thead>\n",
       "    <tr style=\"text-align: right;\">\n",
       "      <th></th>\n",
       "      <th>seasonNumber</th>\n",
       "      <th>av_rating</th>\n",
       "      <th>share</th>\n",
       "      <th>genre_Action</th>\n",
       "      <th>genre_Adventure</th>\n",
       "      <th>genre_Animation</th>\n",
       "      <th>genre_Biography</th>\n",
       "      <th>genre_Comedy</th>\n",
       "      <th>genre_Crime</th>\n",
       "      <th>genre_Documentary</th>\n",
       "      <th>genre_Family</th>\n",
       "      <th>genre_Fantasy</th>\n",
       "      <th>genre_History</th>\n",
       "      <th>genre_Horror</th>\n",
       "      <th>genre_Music</th>\n",
       "      <th>genre_Musical</th>\n",
       "      <th>genre_Mystery</th>\n",
       "      <th>genre_Reality-TV</th>\n",
       "      <th>genre_Romance</th>\n",
       "      <th>genre_Sci-Fi</th>\n",
       "      <th>genre_Sport</th>\n",
       "      <th>genre_Thriller</th>\n",
       "      <th>genre_War</th>\n",
       "      <th>genre_Western</th>\n",
       "      <th>year</th>\n",
       "      <th>month</th>\n",
       "    </tr>\n",
       "  </thead>\n",
       "  <tbody>\n",
       "    <tr>\n",
       "      <th>count</th>\n",
       "      <td>2266.000000</td>\n",
       "      <td>2266.000000</td>\n",
       "      <td>2266.000000</td>\n",
       "      <td>2266.000000</td>\n",
       "      <td>2266.000000</td>\n",
       "      <td>2266.000000</td>\n",
       "      <td>2266.000000</td>\n",
       "      <td>2266.000000</td>\n",
       "      <td>2266.000000</td>\n",
       "      <td>2266.000000</td>\n",
       "      <td>2266.000000</td>\n",
       "      <td>2266.000000</td>\n",
       "      <td>2266.000000</td>\n",
       "      <td>2266.000000</td>\n",
       "      <td>2266.000000</td>\n",
       "      <td>2266.000000</td>\n",
       "      <td>2266.000000</td>\n",
       "      <td>2266.000000</td>\n",
       "      <td>2266.000000</td>\n",
       "      <td>2266.000000</td>\n",
       "      <td>2266.000000</td>\n",
       "      <td>2266.000000</td>\n",
       "      <td>2266.000000</td>\n",
       "      <td>2266.000000</td>\n",
       "      <td>2266.000000</td>\n",
       "      <td>2266.000000</td>\n",
       "    </tr>\n",
       "    <tr>\n",
       "      <th>mean</th>\n",
       "      <td>3.264342</td>\n",
       "      <td>8.060557</td>\n",
       "      <td>1.279982</td>\n",
       "      <td>0.170786</td>\n",
       "      <td>0.090026</td>\n",
       "      <td>0.015887</td>\n",
       "      <td>0.012798</td>\n",
       "      <td>0.227714</td>\n",
       "      <td>0.362754</td>\n",
       "      <td>0.001765</td>\n",
       "      <td>0.033539</td>\n",
       "      <td>0.098411</td>\n",
       "      <td>0.027361</td>\n",
       "      <td>0.054722</td>\n",
       "      <td>0.014122</td>\n",
       "      <td>0.002648</td>\n",
       "      <td>0.246249</td>\n",
       "      <td>0.000883</td>\n",
       "      <td>0.103707</td>\n",
       "      <td>0.067961</td>\n",
       "      <td>0.012798</td>\n",
       "      <td>0.070609</td>\n",
       "      <td>0.004413</td>\n",
       "      <td>0.003972</td>\n",
       "      <td>2010.438658</td>\n",
       "      <td>5.459400</td>\n",
       "    </tr>\n",
       "    <tr>\n",
       "      <th>std</th>\n",
       "      <td>3.438046</td>\n",
       "      <td>0.671286</td>\n",
       "      <td>3.384226</td>\n",
       "      <td>0.376405</td>\n",
       "      <td>0.286283</td>\n",
       "      <td>0.125066</td>\n",
       "      <td>0.112426</td>\n",
       "      <td>0.419450</td>\n",
       "      <td>0.480901</td>\n",
       "      <td>0.041987</td>\n",
       "      <td>0.180080</td>\n",
       "      <td>0.297936</td>\n",
       "      <td>0.163169</td>\n",
       "      <td>0.227487</td>\n",
       "      <td>0.118019</td>\n",
       "      <td>0.051400</td>\n",
       "      <td>0.430920</td>\n",
       "      <td>0.029702</td>\n",
       "      <td>0.304947</td>\n",
       "      <td>0.251735</td>\n",
       "      <td>0.112426</td>\n",
       "      <td>0.256227</td>\n",
       "      <td>0.066299</td>\n",
       "      <td>0.062910</td>\n",
       "      <td>6.806112</td>\n",
       "      <td>3.850677</td>\n",
       "    </tr>\n",
       "    <tr>\n",
       "      <th>min</th>\n",
       "      <td>1.000000</td>\n",
       "      <td>2.703900</td>\n",
       "      <td>0.000000</td>\n",
       "      <td>0.000000</td>\n",
       "      <td>0.000000</td>\n",
       "      <td>0.000000</td>\n",
       "      <td>0.000000</td>\n",
       "      <td>0.000000</td>\n",
       "      <td>0.000000</td>\n",
       "      <td>0.000000</td>\n",
       "      <td>0.000000</td>\n",
       "      <td>0.000000</td>\n",
       "      <td>0.000000</td>\n",
       "      <td>0.000000</td>\n",
       "      <td>0.000000</td>\n",
       "      <td>0.000000</td>\n",
       "      <td>0.000000</td>\n",
       "      <td>0.000000</td>\n",
       "      <td>0.000000</td>\n",
       "      <td>0.000000</td>\n",
       "      <td>0.000000</td>\n",
       "      <td>0.000000</td>\n",
       "      <td>0.000000</td>\n",
       "      <td>0.000000</td>\n",
       "      <td>1990.000000</td>\n",
       "      <td>1.000000</td>\n",
       "    </tr>\n",
       "    <tr>\n",
       "      <th>25%</th>\n",
       "      <td>1.000000</td>\n",
       "      <td>7.731300</td>\n",
       "      <td>0.100000</td>\n",
       "      <td>0.000000</td>\n",
       "      <td>0.000000</td>\n",
       "      <td>0.000000</td>\n",
       "      <td>0.000000</td>\n",
       "      <td>0.000000</td>\n",
       "      <td>0.000000</td>\n",
       "      <td>0.000000</td>\n",
       "      <td>0.000000</td>\n",
       "      <td>0.000000</td>\n",
       "      <td>0.000000</td>\n",
       "      <td>0.000000</td>\n",
       "      <td>0.000000</td>\n",
       "      <td>0.000000</td>\n",
       "      <td>0.000000</td>\n",
       "      <td>0.000000</td>\n",
       "      <td>0.000000</td>\n",
       "      <td>0.000000</td>\n",
       "      <td>0.000000</td>\n",
       "      <td>0.000000</td>\n",
       "      <td>0.000000</td>\n",
       "      <td>0.000000</td>\n",
       "      <td>2007.000000</td>\n",
       "      <td>2.000000</td>\n",
       "    </tr>\n",
       "    <tr>\n",
       "      <th>50%</th>\n",
       "      <td>2.000000</td>\n",
       "      <td>8.114850</td>\n",
       "      <td>0.320000</td>\n",
       "      <td>0.000000</td>\n",
       "      <td>0.000000</td>\n",
       "      <td>0.000000</td>\n",
       "      <td>0.000000</td>\n",
       "      <td>0.000000</td>\n",
       "      <td>0.000000</td>\n",
       "      <td>0.000000</td>\n",
       "      <td>0.000000</td>\n",
       "      <td>0.000000</td>\n",
       "      <td>0.000000</td>\n",
       "      <td>0.000000</td>\n",
       "      <td>0.000000</td>\n",
       "      <td>0.000000</td>\n",
       "      <td>0.000000</td>\n",
       "      <td>0.000000</td>\n",
       "      <td>0.000000</td>\n",
       "      <td>0.000000</td>\n",
       "      <td>0.000000</td>\n",
       "      <td>0.000000</td>\n",
       "      <td>0.000000</td>\n",
       "      <td>0.000000</td>\n",
       "      <td>2012.000000</td>\n",
       "      <td>5.000000</td>\n",
       "    </tr>\n",
       "    <tr>\n",
       "      <th>75%</th>\n",
       "      <td>4.000000</td>\n",
       "      <td>8.489850</td>\n",
       "      <td>1.090000</td>\n",
       "      <td>0.000000</td>\n",
       "      <td>0.000000</td>\n",
       "      <td>0.000000</td>\n",
       "      <td>0.000000</td>\n",
       "      <td>0.000000</td>\n",
       "      <td>1.000000</td>\n",
       "      <td>0.000000</td>\n",
       "      <td>0.000000</td>\n",
       "      <td>0.000000</td>\n",
       "      <td>0.000000</td>\n",
       "      <td>0.000000</td>\n",
       "      <td>0.000000</td>\n",
       "      <td>0.000000</td>\n",
       "      <td>0.000000</td>\n",
       "      <td>0.000000</td>\n",
       "      <td>0.000000</td>\n",
       "      <td>0.000000</td>\n",
       "      <td>0.000000</td>\n",
       "      <td>0.000000</td>\n",
       "      <td>0.000000</td>\n",
       "      <td>0.000000</td>\n",
       "      <td>2016.000000</td>\n",
       "      <td>9.000000</td>\n",
       "    </tr>\n",
       "    <tr>\n",
       "      <th>max</th>\n",
       "      <td>44.000000</td>\n",
       "      <td>9.682400</td>\n",
       "      <td>55.650000</td>\n",
       "      <td>1.000000</td>\n",
       "      <td>1.000000</td>\n",
       "      <td>1.000000</td>\n",
       "      <td>1.000000</td>\n",
       "      <td>1.000000</td>\n",
       "      <td>1.000000</td>\n",
       "      <td>1.000000</td>\n",
       "      <td>1.000000</td>\n",
       "      <td>1.000000</td>\n",
       "      <td>1.000000</td>\n",
       "      <td>1.000000</td>\n",
       "      <td>1.000000</td>\n",
       "      <td>1.000000</td>\n",
       "      <td>1.000000</td>\n",
       "      <td>1.000000</td>\n",
       "      <td>1.000000</td>\n",
       "      <td>1.000000</td>\n",
       "      <td>1.000000</td>\n",
       "      <td>1.000000</td>\n",
       "      <td>1.000000</td>\n",
       "      <td>1.000000</td>\n",
       "      <td>2018.000000</td>\n",
       "      <td>12.000000</td>\n",
       "    </tr>\n",
       "  </tbody>\n",
       "</table>\n",
       "</div>"
      ],
      "text/plain": [
       "       seasonNumber    av_rating        share  genre_Action  genre_Adventure  \\\n",
       "count   2266.000000  2266.000000  2266.000000   2266.000000      2266.000000   \n",
       "mean       3.264342     8.060557     1.279982      0.170786         0.090026   \n",
       "std        3.438046     0.671286     3.384226      0.376405         0.286283   \n",
       "min        1.000000     2.703900     0.000000      0.000000         0.000000   \n",
       "25%        1.000000     7.731300     0.100000      0.000000         0.000000   \n",
       "50%        2.000000     8.114850     0.320000      0.000000         0.000000   \n",
       "75%        4.000000     8.489850     1.090000      0.000000         0.000000   \n",
       "max       44.000000     9.682400    55.650000      1.000000         1.000000   \n",
       "\n",
       "       genre_Animation  genre_Biography  genre_Comedy  genre_Crime  \\\n",
       "count      2266.000000      2266.000000   2266.000000  2266.000000   \n",
       "mean          0.015887         0.012798      0.227714     0.362754   \n",
       "std           0.125066         0.112426      0.419450     0.480901   \n",
       "min           0.000000         0.000000      0.000000     0.000000   \n",
       "25%           0.000000         0.000000      0.000000     0.000000   \n",
       "50%           0.000000         0.000000      0.000000     0.000000   \n",
       "75%           0.000000         0.000000      0.000000     1.000000   \n",
       "max           1.000000         1.000000      1.000000     1.000000   \n",
       "\n",
       "       genre_Documentary  genre_Family  genre_Fantasy  genre_History  \\\n",
       "count        2266.000000   2266.000000    2266.000000    2266.000000   \n",
       "mean            0.001765      0.033539       0.098411       0.027361   \n",
       "std             0.041987      0.180080       0.297936       0.163169   \n",
       "min             0.000000      0.000000       0.000000       0.000000   \n",
       "25%             0.000000      0.000000       0.000000       0.000000   \n",
       "50%             0.000000      0.000000       0.000000       0.000000   \n",
       "75%             0.000000      0.000000       0.000000       0.000000   \n",
       "max             1.000000      1.000000       1.000000       1.000000   \n",
       "\n",
       "       genre_Horror  genre_Music  genre_Musical  genre_Mystery  \\\n",
       "count   2266.000000  2266.000000    2266.000000    2266.000000   \n",
       "mean       0.054722     0.014122       0.002648       0.246249   \n",
       "std        0.227487     0.118019       0.051400       0.430920   \n",
       "min        0.000000     0.000000       0.000000       0.000000   \n",
       "25%        0.000000     0.000000       0.000000       0.000000   \n",
       "50%        0.000000     0.000000       0.000000       0.000000   \n",
       "75%        0.000000     0.000000       0.000000       0.000000   \n",
       "max        1.000000     1.000000       1.000000       1.000000   \n",
       "\n",
       "       genre_Reality-TV  genre_Romance  genre_Sci-Fi  genre_Sport  \\\n",
       "count       2266.000000    2266.000000   2266.000000  2266.000000   \n",
       "mean           0.000883       0.103707      0.067961     0.012798   \n",
       "std            0.029702       0.304947      0.251735     0.112426   \n",
       "min            0.000000       0.000000      0.000000     0.000000   \n",
       "25%            0.000000       0.000000      0.000000     0.000000   \n",
       "50%            0.000000       0.000000      0.000000     0.000000   \n",
       "75%            0.000000       0.000000      0.000000     0.000000   \n",
       "max            1.000000       1.000000      1.000000     1.000000   \n",
       "\n",
       "       genre_Thriller    genre_War  genre_Western         year        month  \n",
       "count     2266.000000  2266.000000    2266.000000  2266.000000  2266.000000  \n",
       "mean         0.070609     0.004413       0.003972  2010.438658     5.459400  \n",
       "std          0.256227     0.066299       0.062910     6.806112     3.850677  \n",
       "min          0.000000     0.000000       0.000000  1990.000000     1.000000  \n",
       "25%          0.000000     0.000000       0.000000  2007.000000     2.000000  \n",
       "50%          0.000000     0.000000       0.000000  2012.000000     5.000000  \n",
       "75%          0.000000     0.000000       0.000000  2016.000000     9.000000  \n",
       "max          1.000000     1.000000       1.000000  2018.000000    12.000000  "
      ]
     },
     "execution_count": 64,
     "metadata": {},
     "output_type": "execute_result"
    }
   ],
   "source": [
    "#descriptive stats for numeric columns\n",
    "\n",
    "data.describe(exclude=['object', 'datetime'])"
   ]
  },
  {
   "cell_type": "code",
   "execution_count": 65,
   "metadata": {},
   "outputs": [
    {
     "data": {
      "image/png": "[encoded data removed]",
      "text/plain": [
       "<Figure size 800x1200 with 4 Axes>"
      ]
     },
     "metadata": {},
     "output_type": "display_data"
    }
   ],
   "source": [
    "#histograms of numeric data\n",
    "\n",
    "fig, axes = plt.subplots(nrows=2, ncols=2, figsize=(8, 12))\n",
    "\n",
    "cols = ['av_rating', 'share', 'seasonNumber', 'year']\n",
    "\n",
    "for i in range(len(cols)):\n",
    "    axes[i%2][i//2].hist(data[cols[i]], bins=20, color='blue', edgecolor='black')\n",
    "    axes[i%2][i//2].set_xlabel(cols[i])\n",
    "    axes[i%2][i//2].set_ylabel('Frequency')\n",
    "    axes[i%2][i//2].set_title(cols[i])"
   ]
  },
  {
   "cell_type": "code",
   "execution_count": 66,
   "metadata": {},
   "outputs": [
    {
     "data": {
      "text/plain": [
       "Text(0.5, 1.0, 'Correlation Values')"
      ]
     },
     "execution_count": 66,
     "metadata": {},
     "output_type": "execute_result"
    },
    {
     "data": {
      "image/png": "[encoded data removed]",
      "text/plain": [
       "<Figure size 2000x2000 with 2 Axes>"
      ]
     },
     "metadata": {},
     "output_type": "display_data"
    }
   ],
   "source": [
    "#remove non numeric columns from data\n",
    "numeric_columns = list(data.columns)\n",
    "numeric_columns.remove('titleId')\n",
    "numeric_columns.remove('title')\n",
    "numeric_columns.remove('date')\n",
    "\n",
    "scaled_data = data[numeric_columns].copy()\n",
    "\n",
    "#scale data\n",
    "scaler = StandardScaler()\n",
    "scaled_data = scaler.fit_transform(scaled_data)\n",
    "scaled_data = pd.DataFrame(scaled_data, columns=numeric_columns)\n",
    "\n",
    "corr_matrix = scaled_data.corr().round(2)\n",
    "\n",
    "plt.figure(figsize=(20,20))\n",
    "sns.heatmap(corr_matrix, annot=True, cmap='coolwarm')\n",
    "plt.title('Correlation Values')"
   ]
  },
  {
   "cell_type": "code",
   "execution_count": 67,
   "metadata": {},
   "outputs": [
    {
     "data": {
      "text/html": [
       "<div>\n",
       "<style scoped>\n",
       "    .dataframe tbody tr th:only-of-type {\n",
       "        vertical-align: middle;\n",
       "    }\n",
       "\n",
       "    .dataframe tbody tr th {\n",
       "        vertical-align: top;\n",
       "    }\n",
       "\n",
       "    .dataframe thead th {\n",
       "        text-align: right;\n",
       "    }\n",
       "</style>\n",
       "<table border=\"1\" class=\"dataframe\">\n",
       "  <thead>\n",
       "    <tr style=\"text-align: right;\">\n",
       "      <th></th>\n",
       "      <th>titleId</th>\n",
       "      <th>seasonNumber</th>\n",
       "      <th>title</th>\n",
       "      <th>date</th>\n",
       "      <th>av_rating</th>\n",
       "      <th>share</th>\n",
       "      <th>genre_Action</th>\n",
       "      <th>genre_Adventure</th>\n",
       "      <th>genre_Animation</th>\n",
       "      <th>genre_Biography</th>\n",
       "      <th>genre_Comedy</th>\n",
       "      <th>genre_Crime</th>\n",
       "      <th>genre_Documentary</th>\n",
       "      <th>genre_Family</th>\n",
       "      <th>genre_Fantasy</th>\n",
       "      <th>genre_History</th>\n",
       "      <th>genre_Horror</th>\n",
       "      <th>genre_Music</th>\n",
       "      <th>genre_Musical</th>\n",
       "      <th>genre_Mystery</th>\n",
       "      <th>genre_Reality-TV</th>\n",
       "      <th>genre_Romance</th>\n",
       "      <th>genre_Sci-Fi</th>\n",
       "      <th>genre_Sport</th>\n",
       "      <th>genre_Thriller</th>\n",
       "      <th>genre_War</th>\n",
       "      <th>genre_Western</th>\n",
       "      <th>year</th>\n",
       "      <th>month</th>\n",
       "    </tr>\n",
       "  </thead>\n",
       "  <tbody>\n",
       "    <tr>\n",
       "      <th>2061</th>\n",
       "      <td>tt0106179</td>\n",
       "      <td>1</td>\n",
       "      <td>The X-Files</td>\n",
       "      <td>1994-01-04</td>\n",
       "      <td>7.9288</td>\n",
       "      <td>55.65</td>\n",
       "      <td>0</td>\n",
       "      <td>0</td>\n",
       "      <td>0</td>\n",
       "      <td>0</td>\n",
       "      <td>0</td>\n",
       "      <td>0</td>\n",
       "      <td>0</td>\n",
       "      <td>0</td>\n",
       "      <td>0</td>\n",
       "      <td>0</td>\n",
       "      <td>0</td>\n",
       "      <td>0</td>\n",
       "      <td>0</td>\n",
       "      <td>1</td>\n",
       "      <td>0</td>\n",
       "      <td>0</td>\n",
       "      <td>1</td>\n",
       "      <td>0</td>\n",
       "      <td>0</td>\n",
       "      <td>0</td>\n",
       "      <td>0</td>\n",
       "      <td>1994</td>\n",
       "      <td>1</td>\n",
       "    </tr>\n",
       "    <tr>\n",
       "      <th>2121</th>\n",
       "      <td>tt0098936</td>\n",
       "      <td>2</td>\n",
       "      <td>Twin Peaks</td>\n",
       "      <td>1991-01-11</td>\n",
       "      <td>8.4187</td>\n",
       "      <td>55.01</td>\n",
       "      <td>0</td>\n",
       "      <td>0</td>\n",
       "      <td>0</td>\n",
       "      <td>0</td>\n",
       "      <td>0</td>\n",
       "      <td>1</td>\n",
       "      <td>0</td>\n",
       "      <td>0</td>\n",
       "      <td>0</td>\n",
       "      <td>0</td>\n",
       "      <td>0</td>\n",
       "      <td>0</td>\n",
       "      <td>0</td>\n",
       "      <td>1</td>\n",
       "      <td>0</td>\n",
       "      <td>0</td>\n",
       "      <td>0</td>\n",
       "      <td>0</td>\n",
       "      <td>0</td>\n",
       "      <td>0</td>\n",
       "      <td>0</td>\n",
       "      <td>1991</td>\n",
       "      <td>1</td>\n",
       "    </tr>\n",
       "    <tr>\n",
       "      <th>2062</th>\n",
       "      <td>tt0106179</td>\n",
       "      <td>2</td>\n",
       "      <td>The X-Files</td>\n",
       "      <td>1995-01-11</td>\n",
       "      <td>8.1062</td>\n",
       "      <td>49.15</td>\n",
       "      <td>0</td>\n",
       "      <td>0</td>\n",
       "      <td>0</td>\n",
       "      <td>0</td>\n",
       "      <td>0</td>\n",
       "      <td>0</td>\n",
       "      <td>0</td>\n",
       "      <td>0</td>\n",
       "      <td>0</td>\n",
       "      <td>0</td>\n",
       "      <td>0</td>\n",
       "      <td>0</td>\n",
       "      <td>0</td>\n",
       "      <td>1</td>\n",
       "      <td>0</td>\n",
       "      <td>0</td>\n",
       "      <td>1</td>\n",
       "      <td>0</td>\n",
       "      <td>0</td>\n",
       "      <td>0</td>\n",
       "      <td>0</td>\n",
       "      <td>1995</td>\n",
       "      <td>1</td>\n",
       "    </tr>\n",
       "    <tr>\n",
       "      <th>2063</th>\n",
       "      <td>tt0106179</td>\n",
       "      <td>3</td>\n",
       "      <td>The X-Files</td>\n",
       "      <td>1996-01-12</td>\n",
       "      <td>8.2933</td>\n",
       "      <td>46.29</td>\n",
       "      <td>0</td>\n",
       "      <td>0</td>\n",
       "      <td>0</td>\n",
       "      <td>0</td>\n",
       "      <td>0</td>\n",
       "      <td>0</td>\n",
       "      <td>0</td>\n",
       "      <td>0</td>\n",
       "      <td>0</td>\n",
       "      <td>0</td>\n",
       "      <td>0</td>\n",
       "      <td>0</td>\n",
       "      <td>0</td>\n",
       "      <td>1</td>\n",
       "      <td>0</td>\n",
       "      <td>0</td>\n",
       "      <td>1</td>\n",
       "      <td>0</td>\n",
       "      <td>0</td>\n",
       "      <td>0</td>\n",
       "      <td>0</td>\n",
       "      <td>1996</td>\n",
       "      <td>1</td>\n",
       "    </tr>\n",
       "    <tr>\n",
       "      <th>1667</th>\n",
       "      <td>tt0106145</td>\n",
       "      <td>1</td>\n",
       "      <td>Star Trek: Deep Space Nine</td>\n",
       "      <td>1993-03-25</td>\n",
       "      <td>7.0936</td>\n",
       "      <td>37.11</td>\n",
       "      <td>1</td>\n",
       "      <td>1</td>\n",
       "      <td>0</td>\n",
       "      <td>0</td>\n",
       "      <td>0</td>\n",
       "      <td>0</td>\n",
       "      <td>0</td>\n",
       "      <td>0</td>\n",
       "      <td>0</td>\n",
       "      <td>0</td>\n",
       "      <td>0</td>\n",
       "      <td>0</td>\n",
       "      <td>0</td>\n",
       "      <td>0</td>\n",
       "      <td>0</td>\n",
       "      <td>0</td>\n",
       "      <td>0</td>\n",
       "      <td>0</td>\n",
       "      <td>0</td>\n",
       "      <td>0</td>\n",
       "      <td>0</td>\n",
       "      <td>1993</td>\n",
       "      <td>3</td>\n",
       "    </tr>\n",
       "    <tr>\n",
       "      <th>2065</th>\n",
       "      <td>tt0106179</td>\n",
       "      <td>5</td>\n",
       "      <td>The X-Files</td>\n",
       "      <td>1998-02-04</td>\n",
       "      <td>8.4239</td>\n",
       "      <td>32.43</td>\n",
       "      <td>0</td>\n",
       "      <td>0</td>\n",
       "      <td>0</td>\n",
       "      <td>0</td>\n",
       "      <td>0</td>\n",
       "      <td>0</td>\n",
       "      <td>0</td>\n",
       "      <td>0</td>\n",
       "      <td>0</td>\n",
       "      <td>0</td>\n",
       "      <td>0</td>\n",
       "      <td>0</td>\n",
       "      <td>0</td>\n",
       "      <td>1</td>\n",
       "      <td>0</td>\n",
       "      <td>0</td>\n",
       "      <td>1</td>\n",
       "      <td>0</td>\n",
       "      <td>0</td>\n",
       "      <td>0</td>\n",
       "      <td>0</td>\n",
       "      <td>1998</td>\n",
       "      <td>2</td>\n",
       "    </tr>\n",
       "    <tr>\n",
       "      <th>2120</th>\n",
       "      <td>tt0098936</td>\n",
       "      <td>1</td>\n",
       "      <td>Twin Peaks</td>\n",
       "      <td>1990-04-29</td>\n",
       "      <td>8.7429</td>\n",
       "      <td>29.25</td>\n",
       "      <td>0</td>\n",
       "      <td>0</td>\n",
       "      <td>0</td>\n",
       "      <td>0</td>\n",
       "      <td>0</td>\n",
       "      <td>1</td>\n",
       "      <td>0</td>\n",
       "      <td>0</td>\n",
       "      <td>0</td>\n",
       "      <td>0</td>\n",
       "      <td>0</td>\n",
       "      <td>0</td>\n",
       "      <td>0</td>\n",
       "      <td>1</td>\n",
       "      <td>0</td>\n",
       "      <td>0</td>\n",
       "      <td>0</td>\n",
       "      <td>0</td>\n",
       "      <td>0</td>\n",
       "      <td>0</td>\n",
       "      <td>0</td>\n",
       "      <td>1990</td>\n",
       "      <td>4</td>\n",
       "    </tr>\n",
       "    <tr>\n",
       "      <th>517</th>\n",
       "      <td>tt0092337</td>\n",
       "      <td>1</td>\n",
       "      <td>Dekalog</td>\n",
       "      <td>1990-04-13</td>\n",
       "      <td>8.2218</td>\n",
       "      <td>27.24</td>\n",
       "      <td>0</td>\n",
       "      <td>0</td>\n",
       "      <td>0</td>\n",
       "      <td>0</td>\n",
       "      <td>0</td>\n",
       "      <td>0</td>\n",
       "      <td>0</td>\n",
       "      <td>0</td>\n",
       "      <td>0</td>\n",
       "      <td>0</td>\n",
       "      <td>0</td>\n",
       "      <td>0</td>\n",
       "      <td>0</td>\n",
       "      <td>0</td>\n",
       "      <td>0</td>\n",
       "      <td>0</td>\n",
       "      <td>0</td>\n",
       "      <td>0</td>\n",
       "      <td>0</td>\n",
       "      <td>0</td>\n",
       "      <td>0</td>\n",
       "      <td>1990</td>\n",
       "      <td>4</td>\n",
       "    </tr>\n",
       "    <tr>\n",
       "      <th>2064</th>\n",
       "      <td>tt0106179</td>\n",
       "      <td>4</td>\n",
       "      <td>The X-Files</td>\n",
       "      <td>1997-01-22</td>\n",
       "      <td>8.2685</td>\n",
       "      <td>24.76</td>\n",
       "      <td>0</td>\n",
       "      <td>0</td>\n",
       "      <td>0</td>\n",
       "      <td>0</td>\n",
       "      <td>0</td>\n",
       "      <td>0</td>\n",
       "      <td>0</td>\n",
       "      <td>0</td>\n",
       "      <td>0</td>\n",
       "      <td>0</td>\n",
       "      <td>0</td>\n",
       "      <td>0</td>\n",
       "      <td>0</td>\n",
       "      <td>1</td>\n",
       "      <td>0</td>\n",
       "      <td>0</td>\n",
       "      <td>1</td>\n",
       "      <td>0</td>\n",
       "      <td>0</td>\n",
       "      <td>0</td>\n",
       "      <td>0</td>\n",
       "      <td>1997</td>\n",
       "      <td>1</td>\n",
       "    </tr>\n",
       "    <tr>\n",
       "      <th>2066</th>\n",
       "      <td>tt0106179</td>\n",
       "      <td>6</td>\n",
       "      <td>The X-Files</td>\n",
       "      <td>1999-02-09</td>\n",
       "      <td>8.4180</td>\n",
       "      <td>19.67</td>\n",
       "      <td>0</td>\n",
       "      <td>0</td>\n",
       "      <td>0</td>\n",
       "      <td>0</td>\n",
       "      <td>0</td>\n",
       "      <td>0</td>\n",
       "      <td>0</td>\n",
       "      <td>0</td>\n",
       "      <td>0</td>\n",
       "      <td>0</td>\n",
       "      <td>0</td>\n",
       "      <td>0</td>\n",
       "      <td>0</td>\n",
       "      <td>1</td>\n",
       "      <td>0</td>\n",
       "      <td>0</td>\n",
       "      <td>1</td>\n",
       "      <td>0</td>\n",
       "      <td>0</td>\n",
       "      <td>0</td>\n",
       "      <td>0</td>\n",
       "      <td>1999</td>\n",
       "      <td>2</td>\n",
       "    </tr>\n",
       "  </tbody>\n",
       "</table>\n",
       "</div>"
      ],
      "text/plain": [
       "        titleId  seasonNumber                       title       date  \\\n",
       "2061  tt0106179             1                 The X-Files 1994-01-04   \n",
       "2121  tt0098936             2                  Twin Peaks 1991-01-11   \n",
       "2062  tt0106179             2                 The X-Files 1995-01-11   \n",
       "2063  tt0106179             3                 The X-Files 1996-01-12   \n",
       "1667  tt0106145             1  Star Trek: Deep Space Nine 1993-03-25   \n",
       "2065  tt0106179             5                 The X-Files 1998-02-04   \n",
       "2120  tt0098936             1                  Twin Peaks 1990-04-29   \n",
       "517   tt0092337             1                     Dekalog 1990-04-13   \n",
       "2064  tt0106179             4                 The X-Files 1997-01-22   \n",
       "2066  tt0106179             6                 The X-Files 1999-02-09   \n",
       "\n",
       "      av_rating  share  genre_Action  genre_Adventure  genre_Animation  \\\n",
       "2061     7.9288  55.65             0                0                0   \n",
       "2121     8.4187  55.01             0                0                0   \n",
       "2062     8.1062  49.15             0                0                0   \n",
       "2063     8.2933  46.29             0                0                0   \n",
       "1667     7.0936  37.11             1                1                0   \n",
       "2065     8.4239  32.43             0                0                0   \n",
       "2120     8.7429  29.25             0                0                0   \n",
       "517      8.2218  27.24             0                0                0   \n",
       "2064     8.2685  24.76             0                0                0   \n",
       "2066     8.4180  19.67             0                0                0   \n",
       "\n",
       "      genre_Biography  genre_Comedy  genre_Crime  genre_Documentary  \\\n",
       "2061                0             0            0                  0   \n",
       "2121                0             0            1                  0   \n",
       "2062                0             0            0                  0   \n",
       "2063                0             0            0                  0   \n",
       "1667                0             0            0                  0   \n",
       "2065                0             0            0                  0   \n",
       "2120                0             0            1                  0   \n",
       "517                 0             0            0                  0   \n",
       "2064                0             0            0                  0   \n",
       "2066                0             0            0                  0   \n",
       "\n",
       "      genre_Family  genre_Fantasy  genre_History  genre_Horror  genre_Music  \\\n",
       "2061             0              0              0             0            0   \n",
       "2121             0              0              0             0            0   \n",
       "2062             0              0              0             0            0   \n",
       "2063             0              0              0             0            0   \n",
       "1667             0              0              0             0            0   \n",
       "2065             0              0              0             0            0   \n",
       "2120             0              0              0             0            0   \n",
       "517              0              0              0             0            0   \n",
       "2064             0              0              0             0            0   \n",
       "2066             0              0              0             0            0   \n",
       "\n",
       "      genre_Musical  genre_Mystery  genre_Reality-TV  genre_Romance  \\\n",
       "2061              0              1                 0              0   \n",
       "2121              0              1                 0              0   \n",
       "2062              0              1                 0              0   \n",
       "2063              0              1                 0              0   \n",
       "1667              0              0                 0              0   \n",
       "2065              0              1                 0              0   \n",
       "2120              0              1                 0              0   \n",
       "517               0              0                 0              0   \n",
       "2064              0              1                 0              0   \n",
       "2066              0              1                 0              0   \n",
       "\n",
       "      genre_Sci-Fi  genre_Sport  genre_Thriller  genre_War  genre_Western  \\\n",
       "2061             1            0               0          0              0   \n",
       "2121             0            0               0          0              0   \n",
       "2062             1            0               0          0              0   \n",
       "2063             1            0               0          0              0   \n",
       "1667             0            0               0          0              0   \n",
       "2065             1            0               0          0              0   \n",
       "2120             0            0               0          0              0   \n",
       "517              0            0               0          0              0   \n",
       "2064             1            0               0          0              0   \n",
       "2066             1            0               0          0              0   \n",
       "\n",
       "      year  month  \n",
       "2061  1994      1  \n",
       "2121  1991      1  \n",
       "2062  1995      1  \n",
       "2063  1996      1  \n",
       "1667  1993      3  \n",
       "2065  1998      2  \n",
       "2120  1990      4  \n",
       "517   1990      4  \n",
       "2064  1997      1  \n",
       "2066  1999      2  "
      ]
     },
     "execution_count": 67,
     "metadata": {},
     "output_type": "execute_result"
    }
   ],
   "source": [
    "#top 10 columns by share\n",
    "\n",
    "data.sort_values(by='share', ascending=False).head(10)"
   ]
  },
  {
   "cell_type": "code",
   "execution_count": 68,
   "metadata": {},
   "outputs": [
    {
     "data": {
      "text/plain": [
       "year\n",
       "1990     99.99\n",
       "1991     99.99\n",
       "1992    100.00\n",
       "1993    100.02\n",
       "1994     99.98\n",
       "1995    100.01\n",
       "1996    100.00\n",
       "1997    100.00\n",
       "1998    100.00\n",
       "1999    100.00\n",
       "2000    100.01\n",
       "2001    100.01\n",
       "2002    100.01\n",
       "2003     99.99\n",
       "2004    100.02\n",
       "2005     99.99\n",
       "2006     99.96\n",
       "2007     99.98\n",
       "2008    100.04\n",
       "2009     99.96\n",
       "2010    100.07\n",
       "2011    100.05\n",
       "2012    100.03\n",
       "2013    100.05\n",
       "2014    100.07\n",
       "2015    100.08\n",
       "2016    100.03\n",
       "2017    100.05\n",
       "2018    100.05\n",
       "Name: share, dtype: float64"
      ]
     },
     "execution_count": 68,
     "metadata": {},
     "output_type": "execute_result"
    }
   ],
   "source": [
    "#evaluate the share column\n",
    "\n",
    "data.groupby('year')['share'].sum()"
   ]
  },
  {
   "cell_type": "markdown",
   "metadata": {},
   "source": [
    "---\n",
    "## <font color='red'>Findings and Results</font>\n",
    "\n",
    "* Show with most season is Law & Order: SVU\n",
    "* `av_rating` follows a normal distribution with a mean of ~8/10\n",
    "* The number of released dramas have slowly increased each `year`\n",
    "* There are few correlations, but fantasy/horror, mystery/crime, and history/war all have slight positive correlations\n",
    "* `share` column is confirmed to be ONLY of dramas and not all IMDB series\n",
    "---"
   ]
  },
  {
   "cell_type": "markdown",
   "metadata": {},
   "source": [
    "---\n",
    "## <font color='green'>Further In-Depth Data Exploration</font>\n",
    "\n",
    "* Identify the greatest variance between lowest and highest `av_rating` for seasons within a `title`\n",
    "* Find top 10 series based on `av_rating` alone\n",
    "* Total shows of each type per year over time\n",
    "* Find \"Trendsetters\" (shows of a genre which sparked an unprecedented number of similar shows in the same genre) for popular genres\n",
    "* Find some metric of \"quality\"? aka is there a point where bad shows were mass produced, and can that be shown in a feature\n",
    "* Use quality metric for per-genre analysis\n",
    "---"
   ]
  },
  {
   "cell_type": "code",
   "execution_count": 69,
   "metadata": {},
   "outputs": [
    {
     "data": {
      "text/html": [
       "<div>\n",
       "<style scoped>\n",
       "    .dataframe tbody tr th:only-of-type {\n",
       "        vertical-align: middle;\n",
       "    }\n",
       "\n",
       "    .dataframe tbody tr th {\n",
       "        vertical-align: top;\n",
       "    }\n",
       "\n",
       "    .dataframe thead th {\n",
       "        text-align: right;\n",
       "    }\n",
       "</style>\n",
       "<table border=\"1\" class=\"dataframe\">\n",
       "  <thead>\n",
       "    <tr style=\"text-align: right;\">\n",
       "      <th></th>\n",
       "      <th>av_rating</th>\n",
       "    </tr>\n",
       "    <tr>\n",
       "      <th>title</th>\n",
       "      <th></th>\n",
       "    </tr>\n",
       "  </thead>\n",
       "  <tbody>\n",
       "    <tr>\n",
       "      <th>Third Watch</th>\n",
       "      <td>4.8500</td>\n",
       "    </tr>\n",
       "    <tr>\n",
       "      <th>NYPD Blue</th>\n",
       "      <td>3.6153</td>\n",
       "    </tr>\n",
       "    <tr>\n",
       "      <th>Are You Afraid of the Dark?</th>\n",
       "      <td>3.4112</td>\n",
       "    </tr>\n",
       "    <tr>\n",
       "      <th>Lethal Weapon</th>\n",
       "      <td>2.3756</td>\n",
       "    </tr>\n",
       "    <tr>\n",
       "      <th>Law &amp; Order: Special Victims Unit</th>\n",
       "      <td>2.3548</td>\n",
       "    </tr>\n",
       "  </tbody>\n",
       "</table>\n",
       "</div>"
      ],
      "text/plain": [
       "                                   av_rating\n",
       "title                                       \n",
       "Third Watch                           4.8500\n",
       "NYPD Blue                             3.6153\n",
       "Are You Afraid of the Dark?           3.4112\n",
       "Lethal Weapon                         2.3756\n",
       "Law & Order: Special Victims Unit     2.3548"
      ]
     },
     "execution_count": 69,
     "metadata": {},
     "output_type": "execute_result"
    }
   ],
   "source": [
    "#largest difference between series within an single title\n",
    "\n",
    "pd.DataFrame(data.groupby('title')['av_rating'].max() - data.groupby('title')['av_rating'].min()).sort_values('av_rating', ascending=False).head()"
   ]
  },
  {
   "cell_type": "code",
   "execution_count": 70,
   "metadata": {},
   "outputs": [
    {
     "data": {
      "text/html": [
       "<div>\n",
       "<style scoped>\n",
       "    .dataframe tbody tr th:only-of-type {\n",
       "        vertical-align: middle;\n",
       "    }\n",
       "\n",
       "    .dataframe tbody tr th {\n",
       "        vertical-align: top;\n",
       "    }\n",
       "\n",
       "    .dataframe thead th {\n",
       "        text-align: right;\n",
       "    }\n",
       "</style>\n",
       "<table border=\"1\" class=\"dataframe\">\n",
       "  <thead>\n",
       "    <tr style=\"text-align: right;\">\n",
       "      <th></th>\n",
       "      <th>titleId</th>\n",
       "      <th>seasonNumber</th>\n",
       "      <th>title</th>\n",
       "      <th>date</th>\n",
       "      <th>av_rating</th>\n",
       "      <th>share</th>\n",
       "      <th>genre_Action</th>\n",
       "      <th>genre_Adventure</th>\n",
       "      <th>genre_Animation</th>\n",
       "      <th>genre_Biography</th>\n",
       "      <th>genre_Comedy</th>\n",
       "      <th>genre_Crime</th>\n",
       "      <th>genre_Documentary</th>\n",
       "      <th>genre_Family</th>\n",
       "      <th>genre_Fantasy</th>\n",
       "      <th>genre_History</th>\n",
       "      <th>genre_Horror</th>\n",
       "      <th>genre_Music</th>\n",
       "      <th>genre_Musical</th>\n",
       "      <th>genre_Mystery</th>\n",
       "      <th>genre_Reality-TV</th>\n",
       "      <th>genre_Romance</th>\n",
       "      <th>genre_Sci-Fi</th>\n",
       "      <th>genre_Sport</th>\n",
       "      <th>genre_Thriller</th>\n",
       "      <th>genre_War</th>\n",
       "      <th>genre_Western</th>\n",
       "      <th>year</th>\n",
       "      <th>month</th>\n",
       "    </tr>\n",
       "  </thead>\n",
       "  <tbody>\n",
       "    <tr>\n",
       "      <th>2072</th>\n",
       "      <td>tt0197182</td>\n",
       "      <td>1</td>\n",
       "      <td>Third Watch</td>\n",
       "      <td>2000-02-17</td>\n",
       "      <td>4.55</td>\n",
       "      <td>0.09</td>\n",
       "      <td>1</td>\n",
       "      <td>0</td>\n",
       "      <td>0</td>\n",
       "      <td>0</td>\n",
       "      <td>0</td>\n",
       "      <td>1</td>\n",
       "      <td>0</td>\n",
       "      <td>0</td>\n",
       "      <td>0</td>\n",
       "      <td>0</td>\n",
       "      <td>0</td>\n",
       "      <td>0</td>\n",
       "      <td>0</td>\n",
       "      <td>0</td>\n",
       "      <td>0</td>\n",
       "      <td>0</td>\n",
       "      <td>0</td>\n",
       "      <td>0</td>\n",
       "      <td>0</td>\n",
       "      <td>0</td>\n",
       "      <td>0</td>\n",
       "      <td>2000</td>\n",
       "      <td>2</td>\n",
       "    </tr>\n",
       "    <tr>\n",
       "      <th>2073</th>\n",
       "      <td>tt0197182</td>\n",
       "      <td>6</td>\n",
       "      <td>Third Watch</td>\n",
       "      <td>2005-05-06</td>\n",
       "      <td>9.40</td>\n",
       "      <td>0.02</td>\n",
       "      <td>1</td>\n",
       "      <td>0</td>\n",
       "      <td>0</td>\n",
       "      <td>0</td>\n",
       "      <td>0</td>\n",
       "      <td>1</td>\n",
       "      <td>0</td>\n",
       "      <td>0</td>\n",
       "      <td>0</td>\n",
       "      <td>0</td>\n",
       "      <td>0</td>\n",
       "      <td>0</td>\n",
       "      <td>0</td>\n",
       "      <td>0</td>\n",
       "      <td>0</td>\n",
       "      <td>0</td>\n",
       "      <td>0</td>\n",
       "      <td>0</td>\n",
       "      <td>0</td>\n",
       "      <td>0</td>\n",
       "      <td>0</td>\n",
       "      <td>2005</td>\n",
       "      <td>5</td>\n",
       "    </tr>\n",
       "  </tbody>\n",
       "</table>\n",
       "</div>"
      ],
      "text/plain": [
       "        titleId  seasonNumber        title       date  av_rating  share  \\\n",
       "2072  tt0197182             1  Third Watch 2000-02-17       4.55   0.09   \n",
       "2073  tt0197182             6  Third Watch 2005-05-06       9.40   0.02   \n",
       "\n",
       "      genre_Action  genre_Adventure  genre_Animation  genre_Biography  \\\n",
       "2072             1                0                0                0   \n",
       "2073             1                0                0                0   \n",
       "\n",
       "      genre_Comedy  genre_Crime  genre_Documentary  genre_Family  \\\n",
       "2072             0            1                  0             0   \n",
       "2073             0            1                  0             0   \n",
       "\n",
       "      genre_Fantasy  genre_History  genre_Horror  genre_Music  genre_Musical  \\\n",
       "2072              0              0             0            0              0   \n",
       "2073              0              0             0            0              0   \n",
       "\n",
       "      genre_Mystery  genre_Reality-TV  genre_Romance  genre_Sci-Fi  \\\n",
       "2072              0                 0              0             0   \n",
       "2073              0                 0              0             0   \n",
       "\n",
       "      genre_Sport  genre_Thriller  genre_War  genre_Western  year  month  \n",
       "2072            0               0          0              0  2000      2  \n",
       "2073            0               0          0              0  2005      5  "
      ]
     },
     "execution_count": 70,
     "metadata": {},
     "output_type": "execute_result"
    }
   ],
   "source": [
    "#evaluate Third Watch in detail\n",
    "\n",
    "data.query('title == \"Third Watch\"')"
   ]
  },
  {
   "cell_type": "code",
   "execution_count": 71,
   "metadata": {},
   "outputs": [
    {
     "data": {
      "text/html": [
       "<div>\n",
       "<style scoped>\n",
       "    .dataframe tbody tr th:only-of-type {\n",
       "        vertical-align: middle;\n",
       "    }\n",
       "\n",
       "    .dataframe tbody tr th {\n",
       "        vertical-align: top;\n",
       "    }\n",
       "\n",
       "    .dataframe thead th {\n",
       "        text-align: right;\n",
       "    }\n",
       "</style>\n",
       "<table border=\"1\" class=\"dataframe\">\n",
       "  <thead>\n",
       "    <tr style=\"text-align: right;\">\n",
       "      <th></th>\n",
       "      <th>title</th>\n",
       "      <th>av_rating</th>\n",
       "    </tr>\n",
       "  </thead>\n",
       "  <tbody>\n",
       "    <tr>\n",
       "      <th>800</th>\n",
       "      <td>Touched by an Angel</td>\n",
       "      <td>9.600000</td>\n",
       "    </tr>\n",
       "    <tr>\n",
       "      <th>576</th>\n",
       "      <td>Santa Barbara</td>\n",
       "      <td>9.400000</td>\n",
       "    </tr>\n",
       "    <tr>\n",
       "      <th>379</th>\n",
       "      <td>L.A. Law</td>\n",
       "      <td>9.350000</td>\n",
       "    </tr>\n",
       "    <tr>\n",
       "      <th>270</th>\n",
       "      <td>Game of Thrones</td>\n",
       "      <td>9.265114</td>\n",
       "    </tr>\n",
       "    <tr>\n",
       "      <th>696</th>\n",
       "      <td>The Fugitive Chronicles</td>\n",
       "      <td>9.200000</td>\n",
       "    </tr>\n",
       "    <tr>\n",
       "      <th>838</th>\n",
       "      <td>When Calls the Heart</td>\n",
       "      <td>9.157440</td>\n",
       "    </tr>\n",
       "    <tr>\n",
       "      <th>146</th>\n",
       "      <td>Code Black</td>\n",
       "      <td>9.120533</td>\n",
       "    </tr>\n",
       "    <tr>\n",
       "      <th>508</th>\n",
       "      <td>Person of Interest</td>\n",
       "      <td>9.119000</td>\n",
       "    </tr>\n",
       "    <tr>\n",
       "      <th>723</th>\n",
       "      <td>The Leftovers</td>\n",
       "      <td>9.057667</td>\n",
       "    </tr>\n",
       "    <tr>\n",
       "      <th>836</th>\n",
       "      <td>Wentworth</td>\n",
       "      <td>9.047980</td>\n",
       "    </tr>\n",
       "  </tbody>\n",
       "</table>\n",
       "</div>"
      ],
      "text/plain": [
       "                       title  av_rating\n",
       "800      Touched by an Angel   9.600000\n",
       "576            Santa Barbara   9.400000\n",
       "379                 L.A. Law   9.350000\n",
       "270          Game of Thrones   9.265114\n",
       "696  The Fugitive Chronicles   9.200000\n",
       "838     When Calls the Heart   9.157440\n",
       "146               Code Black   9.120533\n",
       "508       Person of Interest   9.119000\n",
       "723            The Leftovers   9.057667\n",
       "836                Wentworth   9.047980"
      ]
     },
     "execution_count": 71,
     "metadata": {},
     "output_type": "execute_result"
    }
   ],
   "source": [
    "#top 10 shows by rating\n",
    "\n",
    "top_rated = data.groupby(['title'], as_index=False)['av_rating'].mean().sort_values(by='av_rating', ascending=False).head(10)\n",
    "top_rated"
   ]
  },
  {
   "cell_type": "code",
   "execution_count": 72,
   "metadata": {},
   "outputs": [
    {
     "data": {
      "application/vnd.plotly.v1+json": {
       "config": {
        "plotlyServerURL": "https://plot.ly"
       },
       "data": [
        {
         "connectgaps": true,
         "name": "Action",
         "type": "scatter",
         "x": [
          1990,
          1991,
          1992,
          1993,
          1994,
          1995,
          1996,
          1997,
          1998,
          1999,
          2000,
          2001,
          2002,
          2003,
          2004,
          2005,
          2006,
          2007,
          2008,
          2009,
          2010,
          2011,
          2012,
          2013,
          2014,
          2015,
          2016,
          2017,
          2018
         ],
         "y": [
          1,
          1,
          1,
          2,
          2,
          4,
          6,
          11,
          6,
          7,
          7,
          8,
          9,
          10,
          7,
          14,
          11,
          13,
          11,
          9,
          11,
          23,
          20,
          26,
          27,
          30,
          32,
          38,
          40
         ]
        },
        {
         "connectgaps": true,
         "name": "Adventure",
         "type": "scatter",
         "x": [
          1990,
          1991,
          1992,
          1993,
          1994,
          1995,
          1996,
          1997,
          1998,
          1999,
          2000,
          2001,
          2002,
          2003,
          2004,
          2005,
          2006,
          2007,
          2008,
          2009,
          2010,
          2011,
          2012,
          2013,
          2014,
          2015,
          2016,
          2017,
          2018
         ],
         "y": [
          2,
          2,
          1,
          2,
          4,
          4,
          6,
          7,
          4,
          7,
          4,
          4,
          7,
          6,
          5,
          9,
          8,
          7,
          5,
          7,
          6,
          8,
          4,
          10,
          13,
          9,
          16,
          18,
          19
         ]
        },
        {
         "connectgaps": true,
         "name": "Animation",
         "type": "scatter",
         "x": [
          1990,
          1991,
          1992,
          1993,
          1994,
          1995,
          1996,
          1997,
          1998,
          1999,
          2000,
          2001,
          2002,
          2003,
          2004,
          2005,
          2006,
          2007,
          2008,
          2009,
          2010,
          2011,
          2012,
          2013,
          2014,
          2015,
          2016,
          2017,
          2018
         ],
         "y": [
          0,
          0,
          0,
          0,
          1,
          0,
          2,
          2,
          2,
          2,
          3,
          2,
          2,
          1,
          2,
          2,
          1,
          2,
          1,
          1,
          0,
          0,
          0,
          0,
          3,
          2,
          2,
          2,
          1
         ]
        },
        {
         "connectgaps": true,
         "name": "Biography",
         "type": "scatter",
         "x": [
          1990,
          1991,
          1992,
          1993,
          1994,
          1995,
          1996,
          1997,
          1998,
          1999,
          2000,
          2001,
          2002,
          2003,
          2004,
          2005,
          2006,
          2007,
          2008,
          2009,
          2010,
          2011,
          2012,
          2013,
          2014,
          2015,
          2016,
          2017,
          2018
         ],
         "y": [
          1,
          0,
          0,
          0,
          0,
          0,
          0,
          0,
          0,
          0,
          0,
          0,
          0,
          0,
          0,
          0,
          1,
          0,
          1,
          0,
          1,
          0,
          0,
          3,
          2,
          5,
          4,
          7,
          4
         ]
        },
        {
         "connectgaps": true,
         "name": "Comedy",
         "type": "scatter",
         "x": [
          1990,
          1991,
          1992,
          1993,
          1994,
          1995,
          1996,
          1997,
          1998,
          1999,
          2000,
          2001,
          2002,
          2003,
          2004,
          2005,
          2006,
          2007,
          2008,
          2009,
          2010,
          2011,
          2012,
          2013,
          2014,
          2015,
          2016,
          2017,
          2018
         ],
         "y": [
          11,
          7,
          6,
          5,
          7,
          4,
          5,
          7,
          6,
          4,
          7,
          6,
          9,
          10,
          13,
          9,
          16,
          20,
          19,
          28,
          27,
          36,
          30,
          27,
          32,
          39,
          50,
          43,
          33
         ]
        },
        {
         "connectgaps": true,
         "name": "Crime",
         "type": "scatter",
         "x": [
          1990,
          1991,
          1992,
          1993,
          1994,
          1995,
          1996,
          1997,
          1998,
          1999,
          2000,
          2001,
          2002,
          2003,
          2004,
          2005,
          2006,
          2007,
          2008,
          2009,
          2010,
          2011,
          2012,
          2013,
          2014,
          2015,
          2016,
          2017,
          2018
         ],
         "y": [
          4,
          6,
          3,
          6,
          7,
          3,
          5,
          10,
          4,
          7,
          10,
          8,
          13,
          16,
          19,
          28,
          31,
          33,
          30,
          36,
          48,
          52,
          47,
          57,
          57,
          73,
          66,
          82,
          61
         ]
        },
        {
         "connectgaps": true,
         "name": "Documentary",
         "type": "scatter",
         "x": [
          1990,
          1991,
          1992,
          1993,
          1994,
          1995,
          1996,
          1997,
          1998,
          1999,
          2000,
          2001,
          2002,
          2003,
          2004,
          2005,
          2006,
          2007,
          2008,
          2009,
          2010,
          2011,
          2012,
          2013,
          2014,
          2015,
          2016,
          2017,
          2018
         ],
         "y": [
          0,
          0,
          0,
          0,
          0,
          0,
          0,
          0,
          0,
          0,
          0,
          0,
          0,
          0,
          0,
          0,
          0,
          1,
          0,
          0,
          0,
          0,
          0,
          1,
          0,
          0,
          1,
          0,
          1
         ]
        },
        {
         "connectgaps": true,
         "name": "Family",
         "type": "scatter",
         "x": [
          1990,
          1991,
          1992,
          1993,
          1994,
          1995,
          1996,
          1997,
          1998,
          1999,
          2000,
          2001,
          2002,
          2003,
          2004,
          2005,
          2006,
          2007,
          2008,
          2009,
          2010,
          2011,
          2012,
          2013,
          2014,
          2015,
          2016,
          2017,
          2018
         ],
         "y": [
          4,
          1,
          3,
          5,
          4,
          3,
          2,
          1,
          3,
          1,
          2,
          1,
          0,
          0,
          0,
          0,
          4,
          2,
          5,
          1,
          4,
          7,
          4,
          4,
          5,
          3,
          3,
          2,
          2
         ]
        },
        {
         "connectgaps": true,
         "name": "Fantasy",
         "type": "scatter",
         "x": [
          1990,
          1991,
          1992,
          1993,
          1994,
          1995,
          1996,
          1997,
          1998,
          1999,
          2000,
          2001,
          2002,
          2003,
          2004,
          2005,
          2006,
          2007,
          2008,
          2009,
          2010,
          2011,
          2012,
          2013,
          2014,
          2015,
          2016,
          2017,
          2018
         ],
         "y": [
          1,
          1,
          2,
          2,
          4,
          2,
          1,
          6,
          2,
          5,
          7,
          5,
          5,
          8,
          6,
          6,
          6,
          10,
          7,
          10,
          9,
          7,
          7,
          11,
          18,
          16,
          22,
          24,
          13
         ]
        },
        {
         "connectgaps": true,
         "name": "History",
         "type": "scatter",
         "x": [
          1990,
          1991,
          1992,
          1993,
          1994,
          1995,
          1996,
          1997,
          1998,
          1999,
          2000,
          2001,
          2002,
          2003,
          2004,
          2005,
          2006,
          2007,
          2008,
          2009,
          2010,
          2011,
          2012,
          2013,
          2014,
          2015,
          2016,
          2017,
          2018
         ],
         "y": [
          0,
          0,
          0,
          0,
          0,
          0,
          0,
          0,
          1,
          0,
          0,
          1,
          0,
          0,
          1,
          2,
          2,
          0,
          1,
          0,
          2,
          3,
          5,
          5,
          6,
          8,
          9,
          9,
          7
         ]
        },
        {
         "connectgaps": true,
         "name": "Horror",
         "type": "scatter",
         "x": [
          1990,
          1991,
          1992,
          1993,
          1994,
          1995,
          1996,
          1997,
          1998,
          1999,
          2000,
          2001,
          2002,
          2003,
          2004,
          2005,
          2006,
          2007,
          2008,
          2009,
          2010,
          2011,
          2012,
          2013,
          2014,
          2015,
          2016,
          2017,
          2018
         ],
         "y": [
          0,
          0,
          0,
          0,
          0,
          2,
          1,
          3,
          2,
          2,
          1,
          1,
          0,
          0,
          2,
          1,
          2,
          2,
          2,
          2,
          3,
          6,
          7,
          10,
          12,
          18,
          19,
          17,
          9
         ]
        },
        {
         "connectgaps": true,
         "name": "Music",
         "type": "scatter",
         "x": [
          1990,
          1991,
          1992,
          1993,
          1994,
          1995,
          1996,
          1997,
          1998,
          1999,
          2000,
          2001,
          2002,
          2003,
          2004,
          2005,
          2006,
          2007,
          2008,
          2009,
          2010,
          2011,
          2012,
          2013,
          2014,
          2015,
          2016,
          2017,
          2018
         ],
         "y": [
          0,
          0,
          0,
          0,
          0,
          0,
          0,
          0,
          0,
          0,
          0,
          0,
          0,
          0,
          0,
          0,
          0,
          0,
          0,
          0,
          2,
          2,
          2,
          3,
          4,
          4,
          7,
          5,
          3
         ]
        },
        {
         "connectgaps": true,
         "name": "Musical",
         "type": "scatter",
         "x": [
          1990,
          1991,
          1992,
          1993,
          1994,
          1995,
          1996,
          1997,
          1998,
          1999,
          2000,
          2001,
          2002,
          2003,
          2004,
          2005,
          2006,
          2007,
          2008,
          2009,
          2010,
          2011,
          2012,
          2013,
          2014,
          2015,
          2016,
          2017,
          2018
         ],
         "y": [
          0,
          0,
          0,
          0,
          0,
          0,
          0,
          0,
          0,
          0,
          0,
          0,
          0,
          0,
          0,
          0,
          0,
          0,
          0,
          0,
          0,
          0,
          1,
          1,
          0,
          0,
          3,
          1,
          0
         ]
        },
        {
         "connectgaps": true,
         "name": "Mystery",
         "type": "scatter",
         "x": [
          1990,
          1991,
          1992,
          1993,
          1994,
          1995,
          1996,
          1997,
          1998,
          1999,
          2000,
          2001,
          2002,
          2003,
          2004,
          2005,
          2006,
          2007,
          2008,
          2009,
          2010,
          2011,
          2012,
          2013,
          2014,
          2015,
          2016,
          2017,
          2018
         ],
         "y": [
          4,
          6,
          3,
          7,
          8,
          4,
          6,
          5,
          3,
          6,
          8,
          11,
          14,
          12,
          11,
          21,
          22,
          23,
          19,
          29,
          32,
          29,
          32,
          39,
          39,
          44,
          38,
          45,
          38
         ]
        },
        {
         "connectgaps": true,
         "name": "Reality-TV",
         "type": "scatter",
         "x": [
          1990,
          1991,
          1992,
          1993,
          1994,
          1995,
          1996,
          1997,
          1998,
          1999,
          2000,
          2001,
          2002,
          2003,
          2004,
          2005,
          2006,
          2007,
          2008,
          2009,
          2010,
          2011,
          2012,
          2013,
          2014,
          2015,
          2016,
          2017,
          2018
         ],
         "y": [
          0,
          0,
          0,
          0,
          0,
          0,
          0,
          0,
          0,
          0,
          0,
          0,
          0,
          0,
          0,
          0,
          0,
          1,
          0,
          0,
          0,
          1,
          0,
          0,
          0,
          0,
          0,
          0,
          0
         ]
        },
        {
         "connectgaps": true,
         "name": "Romance",
         "type": "scatter",
         "x": [
          1990,
          1991,
          1992,
          1993,
          1994,
          1995,
          1996,
          1997,
          1998,
          1999,
          2000,
          2001,
          2002,
          2003,
          2004,
          2005,
          2006,
          2007,
          2008,
          2009,
          2010,
          2011,
          2012,
          2013,
          2014,
          2015,
          2016,
          2017,
          2018
         ],
         "y": [
          2,
          3,
          0,
          2,
          1,
          4,
          3,
          1,
          4,
          3,
          4,
          5,
          4,
          7,
          6,
          7,
          10,
          14,
          8,
          12,
          9,
          13,
          15,
          16,
          20,
          17,
          22,
          13,
          10
         ]
        },
        {
         "connectgaps": true,
         "name": "Sci-Fi",
         "type": "scatter",
         "x": [
          1990,
          1991,
          1992,
          1993,
          1994,
          1995,
          1996,
          1997,
          1998,
          1999,
          2000,
          2001,
          2002,
          2003,
          2004,
          2005,
          2006,
          2007,
          2008,
          2009,
          2010,
          2011,
          2012,
          2013,
          2014,
          2015,
          2016,
          2017,
          2018
         ],
         "y": [
          0,
          0,
          0,
          0,
          1,
          1,
          3,
          1,
          2,
          2,
          3,
          3,
          6,
          0,
          1,
          2,
          3,
          6,
          4,
          9,
          6,
          9,
          6,
          8,
          12,
          14,
          17,
          16,
          19
         ]
        },
        {
         "connectgaps": true,
         "name": "Sport",
         "type": "scatter",
         "x": [
          1990,
          1991,
          1992,
          1993,
          1994,
          1995,
          1996,
          1997,
          1998,
          1999,
          2000,
          2001,
          2002,
          2003,
          2004,
          2005,
          2006,
          2007,
          2008,
          2009,
          2010,
          2011,
          2012,
          2013,
          2014,
          2015,
          2016,
          2017,
          2018
         ],
         "y": [
          0,
          0,
          0,
          0,
          0,
          0,
          0,
          0,
          1,
          0,
          0,
          0,
          0,
          0,
          1,
          1,
          1,
          3,
          3,
          3,
          2,
          1,
          4,
          1,
          0,
          1,
          2,
          3,
          2
         ]
        },
        {
         "connectgaps": true,
         "name": "Thriller",
         "type": "scatter",
         "x": [
          1990,
          1991,
          1992,
          1993,
          1994,
          1995,
          1996,
          1997,
          1998,
          1999,
          2000,
          2001,
          2002,
          2003,
          2004,
          2005,
          2006,
          2007,
          2008,
          2009,
          2010,
          2011,
          2012,
          2013,
          2014,
          2015,
          2016,
          2017,
          2018
         ],
         "y": [
          0,
          0,
          0,
          0,
          0,
          2,
          0,
          1,
          1,
          1,
          1,
          0,
          4,
          5,
          4,
          3,
          4,
          4,
          6,
          6,
          6,
          9,
          7,
          13,
          14,
          17,
          15,
          23,
          14
         ]
        },
        {
         "connectgaps": true,
         "name": "War",
         "type": "scatter",
         "x": [
          1990,
          1991,
          1992,
          1993,
          1994,
          1995,
          1996,
          1997,
          1998,
          1999,
          2000,
          2001,
          2002,
          2003,
          2004,
          2005,
          2006,
          2007,
          2008,
          2009,
          2010,
          2011,
          2012,
          2013,
          2014,
          2015,
          2016,
          2017,
          2018
         ],
         "y": [
          0,
          0,
          0,
          0,
          0,
          0,
          0,
          0,
          0,
          0,
          0,
          0,
          0,
          0,
          0,
          0,
          0,
          0,
          1,
          0,
          0,
          0,
          0,
          0,
          2,
          4,
          1,
          1,
          1
         ]
        },
        {
         "connectgaps": true,
         "name": "Western",
         "type": "scatter",
         "x": [
          1990,
          1991,
          1992,
          1993,
          1994,
          1995,
          1996,
          1997,
          1998,
          1999,
          2000,
          2001,
          2002,
          2003,
          2004,
          2005,
          2006,
          2007,
          2008,
          2009,
          2010,
          2011,
          2012,
          2013,
          2014,
          2015,
          2016,
          2017,
          2018
         ],
         "y": [
          0,
          0,
          0,
          2,
          0,
          0,
          0,
          0,
          0,
          0,
          0,
          0,
          0,
          0,
          0,
          0,
          0,
          0,
          0,
          0,
          0,
          0,
          0,
          0,
          2,
          1,
          0,
          3,
          1
         ]
        }
       ],
       "layout": {
        "template": {
         "data": {
          "bar": [
           {
            "error_x": {
             "color": "#2a3f5f"
            },
            "error_y": {
             "color": "#2a3f5f"
            },
            "marker": {
             "line": {
              "color": "#E5ECF6",
              "width": 0.5
             },
             "pattern": {
              "fillmode": "overlay",
              "size": 10,
              "solidity": 0.2
             }
            },
            "type": "bar"
           }
          ],
          "barpolar": [
           {
            "marker": {
             "line": {
              "color": "#E5ECF6",
              "width": 0.5
             },
             "pattern": {
              "fillmode": "overlay",
              "size": 10,
              "solidity": 0.2
             }
            },
            "type": "barpolar"
           }
          ],
          "carpet": [
           {
            "aaxis": {
             "endlinecolor": "#2a3f5f",
             "gridcolor": "white",
             "linecolor": "white",
             "minorgridcolor": "white",
             "startlinecolor": "#2a3f5f"
            },
            "baxis": {
             "endlinecolor": "#2a3f5f",
             "gridcolor": "white",
             "linecolor": "white",
             "minorgridcolor": "white",
             "startlinecolor": "#2a3f5f"
            },
            "type": "carpet"
           }
          ],
          "choropleth": [
           {
            "colorbar": {
             "outlinewidth": 0,
             "ticks": ""
            },
            "type": "choropleth"
           }
          ],
          "contour": [
           {
            "colorbar": {
             "outlinewidth": 0,
             "ticks": ""
            },
            "colorscale": [
             [
              0,
              "#0d0887"
             ],
             [
              0.1111111111111111,
              "#46039f"
             ],
             [
              0.2222222222222222,
              "#7201a8"
             ],
             [
              0.3333333333333333,
              "#9c179e"
             ],
             [
              0.4444444444444444,
              "#bd3786"
             ],
             [
              0.5555555555555556,
              "#d8576b"
             ],
             [
              0.6666666666666666,
              "#ed7953"
             ],
             [
              0.7777777777777778,
              "#fb9f3a"
             ],
             [
              0.8888888888888888,
              "#fdca26"
             ],
             [
              1,
              "#f0f921"
             ]
            ],
            "type": "contour"
           }
          ],
          "contourcarpet": [
           {
            "colorbar": {
             "outlinewidth": 0,
             "ticks": ""
            },
            "type": "contourcarpet"
           }
          ],
          "heatmap": [
           {
            "colorbar": {
             "outlinewidth": 0,
             "ticks": ""
            },
            "colorscale": [
             [
              0,
              "#0d0887"
             ],
             [
              0.1111111111111111,
              "#46039f"
             ],
             [
              0.2222222222222222,
              "#7201a8"
             ],
             [
              0.3333333333333333,
              "#9c179e"
             ],
             [
              0.4444444444444444,
              "#bd3786"
             ],
             [
              0.5555555555555556,
              "#d8576b"
             ],
             [
              0.6666666666666666,
              "#ed7953"
             ],
             [
              0.7777777777777778,
              "#fb9f3a"
             ],
             [
              0.8888888888888888,
              "#fdca26"
             ],
             [
              1,
              "#f0f921"
             ]
            ],
            "type": "heatmap"
           }
          ],
          "heatmapgl": [
           {
            "colorbar": {
             "outlinewidth": 0,
             "ticks": ""
            },
            "colorscale": [
             [
              0,
              "#0d0887"
             ],
             [
              0.1111111111111111,
              "#46039f"
             ],
             [
              0.2222222222222222,
              "#7201a8"
             ],
             [
              0.3333333333333333,
              "#9c179e"
             ],
             [
              0.4444444444444444,
              "#bd3786"
             ],
             [
              0.5555555555555556,
              "#d8576b"
             ],
             [
              0.6666666666666666,
              "#ed7953"
             ],
             [
              0.7777777777777778,
              "#fb9f3a"
             ],
             [
              0.8888888888888888,
              "#fdca26"
             ],
             [
              1,
              "#f0f921"
             ]
            ],
            "type": "heatmapgl"
           }
          ],
          "histogram": [
           {
            "marker": {
             "pattern": {
              "fillmode": "overlay",
              "size": 10,
              "solidity": 0.2
             }
            },
            "type": "histogram"
           }
          ],
          "histogram2d": [
           {
            "colorbar": {
             "outlinewidth": 0,
             "ticks": ""
            },
            "colorscale": [
             [
              0,
              "#0d0887"
             ],
             [
              0.1111111111111111,
              "#46039f"
             ],
             [
              0.2222222222222222,
              "#7201a8"
             ],
             [
              0.3333333333333333,
              "#9c179e"
             ],
             [
              0.4444444444444444,
              "#bd3786"
             ],
             [
              0.5555555555555556,
              "#d8576b"
             ],
             [
              0.6666666666666666,
              "#ed7953"
             ],
             [
              0.7777777777777778,
              "#fb9f3a"
             ],
             [
              0.8888888888888888,
              "#fdca26"
             ],
             [
              1,
              "#f0f921"
             ]
            ],
            "type": "histogram2d"
           }
          ],
          "histogram2dcontour": [
           {
            "colorbar": {
             "outlinewidth": 0,
             "ticks": ""
            },
            "colorscale": [
             [
              0,
              "#0d0887"
             ],
             [
              0.1111111111111111,
              "#46039f"
             ],
             [
              0.2222222222222222,
              "#7201a8"
             ],
             [
              0.3333333333333333,
              "#9c179e"
             ],
             [
              0.4444444444444444,
              "#bd3786"
             ],
             [
              0.5555555555555556,
              "#d8576b"
             ],
             [
              0.6666666666666666,
              "#ed7953"
             ],
             [
              0.7777777777777778,
              "#fb9f3a"
             ],
             [
              0.8888888888888888,
              "#fdca26"
             ],
             [
              1,
              "#f0f921"
             ]
            ],
            "type": "histogram2dcontour"
           }
          ],
          "mesh3d": [
           {
            "colorbar": {
             "outlinewidth": 0,
             "ticks": ""
            },
            "type": "mesh3d"
           }
          ],
          "parcoords": [
           {
            "line": {
             "colorbar": {
              "outlinewidth": 0,
              "ticks": ""
             }
            },
            "type": "parcoords"
           }
          ],
          "pie": [
           {
            "automargin": true,
            "type": "pie"
           }
          ],
          "scatter": [
           {
            "fillpattern": {
             "fillmode": "overlay",
             "size": 10,
             "solidity": 0.2
            },
            "type": "scatter"
           }
          ],
          "scatter3d": [
           {
            "line": {
             "colorbar": {
              "outlinewidth": 0,
              "ticks": ""
             }
            },
            "marker": {
             "colorbar": {
              "outlinewidth": 0,
              "ticks": ""
             }
            },
            "type": "scatter3d"
           }
          ],
          "scattercarpet": [
           {
            "marker": {
             "colorbar": {
              "outlinewidth": 0,
              "ticks": ""
             }
            },
            "type": "scattercarpet"
           }
          ],
          "scattergeo": [
           {
            "marker": {
             "colorbar": {
              "outlinewidth": 0,
              "ticks": ""
             }
            },
            "type": "scattergeo"
           }
          ],
          "scattergl": [
           {
            "marker": {
             "colorbar": {
              "outlinewidth": 0,
              "ticks": ""
             }
            },
            "type": "scattergl"
           }
          ],
          "scattermapbox": [
           {
            "marker": {
             "colorbar": {
              "outlinewidth": 0,
              "ticks": ""
             }
            },
            "type": "scattermapbox"
           }
          ],
          "scatterpolar": [
           {
            "marker": {
             "colorbar": {
              "outlinewidth": 0,
              "ticks": ""
             }
            },
            "type": "scatterpolar"
           }
          ],
          "scatterpolargl": [
           {
            "marker": {
             "colorbar": {
              "outlinewidth": 0,
              "ticks": ""
             }
            },
            "type": "scatterpolargl"
           }
          ],
          "scatterternary": [
           {
            "marker": {
             "colorbar": {
              "outlinewidth": 0,
              "ticks": ""
             }
            },
            "type": "scatterternary"
           }
          ],
          "surface": [
           {
            "colorbar": {
             "outlinewidth": 0,
             "ticks": ""
            },
            "colorscale": [
             [
              0,
              "#0d0887"
             ],
             [
              0.1111111111111111,
              "#46039f"
             ],
             [
              0.2222222222222222,
              "#7201a8"
             ],
             [
              0.3333333333333333,
              "#9c179e"
             ],
             [
              0.4444444444444444,
              "#bd3786"
             ],
             [
              0.5555555555555556,
              "#d8576b"
             ],
             [
              0.6666666666666666,
              "#ed7953"
             ],
             [
              0.7777777777777778,
              "#fb9f3a"
             ],
             [
              0.8888888888888888,
              "#fdca26"
             ],
             [
              1,
              "#f0f921"
             ]
            ],
            "type": "surface"
           }
          ],
          "table": [
           {
            "cells": {
             "fill": {
              "color": "#EBF0F8"
             },
             "line": {
              "color": "white"
             }
            },
            "header": {
             "fill": {
              "color": "#C8D4E3"
             },
             "line": {
              "color": "white"
             }
            },
            "type": "table"
           }
          ]
         },
         "layout": {
          "annotationdefaults": {
           "arrowcolor": "#2a3f5f",
           "arrowhead": 0,
           "arrowwidth": 1
          },
          "autotypenumbers": "strict",
          "coloraxis": {
           "colorbar": {
            "outlinewidth": 0,
            "ticks": ""
           }
          },
          "colorscale": {
           "diverging": [
            [
             0,
             "#8e0152"
            ],
            [
             0.1,
             "#c51b7d"
            ],
            [
             0.2,
             "#de77ae"
            ],
            [
             0.3,
             "#f1b6da"
            ],
            [
             0.4,
             "#fde0ef"
            ],
            [
             0.5,
             "#f7f7f7"
            ],
            [
             0.6,
             "#e6f5d0"
            ],
            [
             0.7,
             "#b8e186"
            ],
            [
             0.8,
             "#7fbc41"
            ],
            [
             0.9,
             "#4d9221"
            ],
            [
             1,
             "#276419"
            ]
           ],
           "sequential": [
            [
             0,
             "#0d0887"
            ],
            [
             0.1111111111111111,
             "#46039f"
            ],
            [
             0.2222222222222222,
             "#7201a8"
            ],
            [
             0.3333333333333333,
             "#9c179e"
            ],
            [
             0.4444444444444444,
             "#bd3786"
            ],
            [
             0.5555555555555556,
             "#d8576b"
            ],
            [
             0.6666666666666666,
             "#ed7953"
            ],
            [
             0.7777777777777778,
             "#fb9f3a"
            ],
            [
             0.8888888888888888,
             "#fdca26"
            ],
            [
             1,
             "#f0f921"
            ]
           ],
           "sequentialminus": [
            [
             0,
             "#0d0887"
            ],
            [
             0.1111111111111111,
             "#46039f"
            ],
            [
             0.2222222222222222,
             "#7201a8"
            ],
            [
             0.3333333333333333,
             "#9c179e"
            ],
            [
             0.4444444444444444,
             "#bd3786"
            ],
            [
             0.5555555555555556,
             "#d8576b"
            ],
            [
             0.6666666666666666,
             "#ed7953"
            ],
            [
             0.7777777777777778,
             "#fb9f3a"
            ],
            [
             0.8888888888888888,
             "#fdca26"
            ],
            [
             1,
             "#f0f921"
            ]
           ]
          },
          "colorway": [
           "#636efa",
           "#EF553B",
           "#00cc96",
           "#ab63fa",
           "#FFA15A",
           "#19d3f3",
           "#FF6692",
           "#B6E880",
           "#FF97FF",
           "#FECB52"
          ],
          "font": {
           "color": "#2a3f5f"
          },
          "geo": {
           "bgcolor": "white",
           "lakecolor": "white",
           "landcolor": "#E5ECF6",
           "showlakes": true,
           "showland": true,
           "subunitcolor": "white"
          },
          "hoverlabel": {
           "align": "left"
          },
          "hovermode": "closest",
          "mapbox": {
           "style": "light"
          },
          "paper_bgcolor": "white",
          "plot_bgcolor": "#E5ECF6",
          "polar": {
           "angularaxis": {
            "gridcolor": "white",
            "linecolor": "white",
            "ticks": ""
           },
           "bgcolor": "#E5ECF6",
           "radialaxis": {
            "gridcolor": "white",
            "linecolor": "white",
            "ticks": ""
           }
          },
          "scene": {
           "xaxis": {
            "backgroundcolor": "#E5ECF6",
            "gridcolor": "white",
            "gridwidth": 2,
            "linecolor": "white",
            "showbackground": true,
            "ticks": "",
            "zerolinecolor": "white"
           },
           "yaxis": {
            "backgroundcolor": "#E5ECF6",
            "gridcolor": "white",
            "gridwidth": 2,
            "linecolor": "white",
            "showbackground": true,
            "ticks": "",
            "zerolinecolor": "white"
           },
           "zaxis": {
            "backgroundcolor": "#E5ECF6",
            "gridcolor": "white",
            "gridwidth": 2,
            "linecolor": "white",
            "showbackground": true,
            "ticks": "",
            "zerolinecolor": "white"
           }
          },
          "shapedefaults": {
           "line": {
            "color": "#2a3f5f"
           }
          },
          "ternary": {
           "aaxis": {
            "gridcolor": "white",
            "linecolor": "white",
            "ticks": ""
           },
           "baxis": {
            "gridcolor": "white",
            "linecolor": "white",
            "ticks": ""
           },
           "bgcolor": "#E5ECF6",
           "caxis": {
            "gridcolor": "white",
            "linecolor": "white",
            "ticks": ""
           }
          },
          "title": {
           "x": 0.05
          },
          "xaxis": {
           "automargin": true,
           "gridcolor": "white",
           "linecolor": "white",
           "ticks": "",
           "title": {
            "standoff": 15
           },
           "zerolinecolor": "white",
           "zerolinewidth": 2
          },
          "yaxis": {
           "automargin": true,
           "gridcolor": "white",
           "linecolor": "white",
           "ticks": "",
           "title": {
            "standoff": 15
           },
           "zerolinecolor": "white",
           "zerolinewidth": 2
          }
         }
        },
        "title": {
         "text": "TV Drama Genres Aired"
        },
        "xaxis": {
         "title": {
          "text": "Year"
         }
        },
        "yaxis": {
         "title": {
          "text": "Total Series"
         }
        }
       }
      }
     },
     "metadata": {},
     "output_type": "display_data"
    }
   ],
   "source": [
    "#graph of all types of shows over years\n",
    "\n",
    "genres = [col for col in data.columns if 'genre_' in col]\n",
    "\n",
    "year_grouped = data.groupby('year', as_index=False).sum()\n",
    "fig = go.Figure()\n",
    "\n",
    "for genre in genres:\n",
    "    fig.add_trace(go.Scatter(\n",
    "        x=year_grouped['year'],\n",
    "        y=year_grouped[genre],\n",
    "        connectgaps=True,\n",
    "        name=genre.replace('genre_', '')\n",
    "    ))\n",
    "\n",
    "fig.update_layout(\n",
    "    title=\"TV Drama Genres Aired\",\n",
    "    xaxis_title=\"Year\",\n",
    "    yaxis_title=\"Total Series\"\n",
    ")\n",
    "\n",
    "fig.show()"
   ]
  },
  {
   "cell_type": "markdown",
   "metadata": {},
   "source": [
    "---\n",
    "## <font color='red'>Findings and Results</font>\n",
    "\n",
    "* The series \"Third Watch\" has a >4.8 point rating disparity between seasons 1 and 6\n",
    "* (**DATA LIMITATION**) Only seasons 1 and 6 of \"Third Watch\" are present, indicating that this dataset is incomplete\n",
    "* The most popular 5 genres (most to least popular) as of the most recent year are:\n",
    "  * Crime - by a large margin\n",
    "  * Action\n",
    "  * Mystery\n",
    "  * Comedy\n",
    "  * Sci-Fi (Tie with Adventure)\n",
    "---"
   ]
  },
  {
   "cell_type": "markdown",
   "metadata": {},
   "source": [
    "---\n",
    "## <font color=green>Genre Pioneers</font>\n",
    "\n",
    "* Find genre pioneers: <ins>**shows of a genre which sparked an unprecedented number of similar shows in the same genre**</ins> for the most popular genres\n",
    "\n",
    "---"
   ]
  },
  {
   "cell_type": "code",
   "execution_count": 73,
   "metadata": {},
   "outputs": [
    {
     "data": {
      "application/vnd.plotly.v1+json": {
       "config": {
        "plotlyServerURL": "https://plot.ly"
       },
       "data": [
        {
         "mode": "markers",
         "text": [
          "24",
          "24",
          "24",
          "24",
          "24",
          "24",
          "24",
          "24",
          "24: Legacy",
          "24: Live Another Day",
          "APB",
          "Absentia",
          "Agatha Christie's Marple",
          "Agatha Christie's Marple",
          "Agatha Christie's Marple",
          "Agatha Christie's Marple",
          "Agatha Christie's Marple",
          "Agatha Christie's Marple",
          "Alcatraz",
          "Alias Grace",
          "Almost Human",
          "American Crime",
          "American Crime",
          "American Crime",
          "American Crime Story",
          "American Crime Story",
          "American Gothic",
          "American Vandal",
          "American Vandal",
          "And Then There Were None",
          "Animal Kingdom",
          "Animal Kingdom",
          "Animal Kingdom",
          "Aquarius",
          "Aquarius",
          "Backstrom",
          "Banshee",
          "Banshee",
          "Banshee",
          "Banshee",
          "Barry",
          "Battle Creek",
          "Better Call Saul",
          "Better Call Saul",
          "Better Call Saul",
          "Better Call Saul",
          "Big Little Lies",
          "Blindspot",
          "Blindspot",
          "Blindspot",
          "Blood & Oil",
          "Blue Bloods",
          "Blue Bloods",
          "Blue Bloods",
          "Blue Bloods",
          "Blue Bloods",
          "Blue Bloods",
          "Blue Bloods",
          "Blue Bloods",
          "Boardwalk Empire",
          "Boardwalk Empire",
          "Boardwalk Empire",
          "Boardwalk Empire",
          "Boardwalk Empire",
          "Body of Proof",
          "Body of Proof",
          "Body of Proof",
          "Bodyguard",
          "Bones",
          "Bones",
          "Bones",
          "Bones",
          "Bones",
          "Bones",
          "Bones",
          "Bones",
          "Bones",
          "Bones",
          "Bones",
          "Bones",
          "Bonnie & Clyde",
          "Bored to Death",
          "Bored to Death",
          "Bored to Death",
          "Bosch",
          "Bosch",
          "Bosch",
          "Boss",
          "Boss",
          "Boston Legal",
          "Boston Legal",
          "Boston Legal",
          "Boston Legal",
          "Boston Legal",
          "Breaking Bad",
          "Breaking Bad",
          "Breaking Bad",
          "Breaking Bad",
          "Breaking Bad",
          "Breaking Bad: Original Minisodes",
          "Breakout Kings",
          "Breakout Kings",
          "Brooklyn South",
          "Brotherhood",
          "Bull",
          "Bull",
          "Burn Notice",
          "Burn Notice",
          "Burn Notice",
          "Burn Notice",
          "Burn Notice",
          "Burn Notice",
          "Burn Notice",
          "C.B. Strike",
          "C.B. Strike",
          "CSI: Crime Scene Investigation",
          "CSI: Crime Scene Investigation",
          "CSI: Crime Scene Investigation",
          "CSI: Crime Scene Investigation",
          "CSI: Crime Scene Investigation",
          "CSI: Crime Scene Investigation",
          "CSI: Crime Scene Investigation",
          "CSI: Crime Scene Investigation",
          "CSI: Crime Scene Investigation",
          "CSI: Crime Scene Investigation",
          "CSI: Crime Scene Investigation",
          "CSI: Crime Scene Investigation",
          "CSI: Crime Scene Investigation",
          "CSI: Crime Scene Investigation",
          "CSI: Crime Scene Investigation",
          "CSI: Cyber",
          "CSI: Cyber",
          "CSI: Miami",
          "CSI: Miami",
          "CSI: Miami",
          "CSI: Miami",
          "CSI: Miami",
          "CSI: Miami",
          "CSI: Miami",
          "CSI: Miami",
          "CSI: Miami",
          "CSI: Miami",
          "CSI: NY",
          "CSI: NY",
          "CSI: NY",
          "CSI: NY",
          "CSI: NY",
          "CSI: NY",
          "CSI: NY",
          "CSI: NY",
          "CSI: NY",
          "Carlos",
          "Castle",
          "Castle",
          "Castle",
          "Castle",
          "Castle",
          "Castle",
          "Castle",
          "Castle",
          "Chase",
          "Chicago Justice",
          "Chicago P.D.",
          "Chicago P.D.",
          "Chicago P.D.",
          "Chicago P.D.",
          "Chicago P.D.",
          "Claws",
          "Cold Case",
          "Cold Case",
          "Cold Case",
          "Cold Case",
          "Cold Case",
          "Cold Case",
          "Cold Case",
          "Collateral",
          "Columbo",
          "Columbo",
          "Columbo",
          "Columbo",
          "Columbo",
          "Complications",
          "Covert Affairs",
          "Covert Affairs",
          "Covert Affairs",
          "Covert Affairs",
          "Covert Affairs",
          "Criminal Minds",
          "Criminal Minds",
          "Criminal Minds",
          "Criminal Minds",
          "Criminal Minds",
          "Criminal Minds",
          "Criminal Minds",
          "Criminal Minds",
          "Criminal Minds",
          "Criminal Minds",
          "Criminal Minds",
          "Criminal Minds",
          "Criminal Minds",
          "Criminal Minds",
          "Criminal Minds: Beyond Borders",
          "Criminal Minds: Beyond Borders",
          "Criminal Minds: Suspect Behavior",
          "Crossing Jordan",
          "Crossing Jordan",
          "Crossing Jordan",
          "Damages",
          "Damages",
          "Damages",
          "Damages",
          "Damages",
          "Damnation",
          "Daredevil",
          "Daredevil",
          "Dark Blue",
          "Deadwood",
          "Deadwood",
          "Deadwood",
          "Death Note",
          "Death in Paradise",
          "Death in Paradise",
          "Death in Paradise",
          "Death in Paradise",
          "Death in Paradise",
          "Death in Paradise",
          "Death in Paradise",
          "Deception",
          "Deception",
          "Dexter",
          "Dexter",
          "Dexter",
          "Dexter",
          "Dexter",
          "Dexter",
          "Dexter",
          "Dexter",
          "Diagnosis Murder",
          "Diamond Geezer",
          "EZ Streets",
          "El Chapo",
          "El Chapo",
          "Elementary",
          "Elementary",
          "Elementary",
          "Elementary",
          "Elementary",
          "Elementary",
          "Eleventh Hour",
          "Eye Candy",
          "FBI",
          "Fargo",
          "Fargo",
          "Fargo",
          "Fearless",
          "Feed the Beast",
          "Forever",
          "Gang Related",
          "Gomorrah",
          "Gomorrah",
          "Gomorrah",
          "Good Behavior",
          "Good Behavior",
          "Good Girls",
          "Gotham",
          "Gotham",
          "Gotham",
          "Gotham",
          "Graceland",
          "Graceland",
          "Graceland",
          "Hand of God",
          "Hand of God",
          "Hannibal",
          "Hannibal",
          "Hannibal",
          "Hap and Leonard",
          "Hap and Leonard",
          "Harry's Law",
          "Hawaii Five-0",
          "Hawaii Five-0",
          "Hawaii Five-0",
          "Hawaii Five-0",
          "Hawaii Five-0",
          "Hawaii Five-0",
          "Hawaii Five-0",
          "Hawaii Five-0",
          "Hawaii Five-0",
          "Homeland",
          "Homeland",
          "Homeland",
          "Homeland",
          "Homeland",
          "Homeland",
          "Homeland",
          "Homicide: Life on the Street",
          "Homicide: Life on the Street",
          "Homicide: Life on the Street",
          "Homicide: Life on the Street",
          "Homicide: Life on the Street",
          "Hotel Beau Séjour",
          "How to Get Away with Murder",
          "How to Get Away with Murder",
          "How to Get Away with Murder",
          "How to Get Away with Murder",
          "How to Get Away with Murder",
          "Hunters",
          "Hustle",
          "Hustle",
          "Hustle",
          "Hustle",
          "Hustle",
          "Hustle",
          "Il commissario Montalbano",
          "Il commissario Montalbano",
          "Il commissario Montalbano",
          "Il commissario Montalbano",
          "Il commissario Montalbano",
          "In Plain Sight",
          "In the Dark",
          "Incorporated",
          "Innocent",
          "Inspector Lewis",
          "Inspector Lewis",
          "Inspector Lewis",
          "Inspector Lewis",
          "Inspector Lewis",
          "Inspector Lewis",
          "Inspector Lewis",
          "Inspector Lewis",
          "Inspector Lewis",
          "Instinct",
          "JAG",
          "JAG",
          "JAG",
          "JAG",
          "JAG",
          "Jessica Jones",
          "Jessica Jones",
          "Justified",
          "Justified",
          "Justified",
          "Justified",
          "Justified",
          "Justified",
          "Karen Sisco",
          "King & Maxwell",
          "Kojak",
          "La forêt",
          "Las Vegas",
          "Las Vegas",
          "Las Vegas",
          "Las Vegas",
          "Las Vegas",
          "Law & Order",
          "Law & Order",
          "Law & Order",
          "Law & Order",
          "Law & Order",
          "Law & Order",
          "Law & Order",
          "Law & Order",
          "Law & Order",
          "Law & Order",
          "Law & Order",
          "Law & Order",
          "Law & Order",
          "Law & Order",
          "Law & Order",
          "Law & Order",
          "Law & Order",
          "Law & Order",
          "Law & Order",
          "Law & Order",
          "Law & Order True Crime",
          "Law & Order: Criminal Intent",
          "Law & Order: Criminal Intent",
          "Law & Order: Criminal Intent",
          "Law & Order: Criminal Intent",
          "Law & Order: Criminal Intent",
          "Law & Order: Criminal Intent",
          "Law & Order: Criminal Intent",
          "Law & Order: Criminal Intent",
          "Law & Order: Criminal Intent",
          "Law & Order: Criminal Intent",
          "Law & Order: LA",
          "Law & Order: Special Victims Unit",
          "Law & Order: Special Victims Unit",
          "Law & Order: Special Victims Unit",
          "Law & Order: Special Victims Unit",
          "Law & Order: Special Victims Unit",
          "Law & Order: Special Victims Unit",
          "Law & Order: Special Victims Unit",
          "Law & Order: Special Victims Unit",
          "Law & Order: Special Victims Unit",
          "Law & Order: Special Victims Unit",
          "Law & Order: Special Victims Unit",
          "Law & Order: Special Victims Unit",
          "Law & Order: Special Victims Unit",
          "Law & Order: Special Victims Unit",
          "Law & Order: Special Victims Unit",
          "Law & Order: Special Victims Unit",
          "Law & Order: Special Victims Unit",
          "Law & Order: Special Victims Unit",
          "Law & Order: Special Victims Unit",
          "Law & Order: Special Victims Unit",
          "Legends",
          "Legends",
          "Les petits meurtres d'Agatha Christie",
          "Lethal Weapon",
          "Lethal Weapon",
          "Lethal Weapon",
          "Lie to Me",
          "Lie to Me",
          "Lie to Me",
          "Life",
          "Life",
          "Life on Mars",
          "Limitless",
          "London Spy",
          "Longmire",
          "Longmire",
          "Longmire",
          "Longmire",
          "Longmire",
          "Longmire",
          "Low Winter Sun",
          "Lucifer",
          "Lucifer",
          "Lucifer",
          "Luke Cage",
          "Luke Cage",
          "Mad Dogs",
          "Magic City",
          "Magic City",
          "Major Crimes",
          "Major Crimes",
          "Major Crimes",
          "Major Crimes",
          "Major Crimes",
          "Major Crimes",
          "Manhunt: Unabomber",
          "Matlock",
          "Mayans M.C.",
          "Medium",
          "Medium",
          "Medium",
          "Medium",
          "Medium",
          "Medium",
          "Medium",
          "Midsomer Murders",
          "Midsomer Murders",
          "Midsomer Murders",
          "Midsomer Murders",
          "Midsomer Murders",
          "Midsomer Murders",
          "Midsomer Murders",
          "Midsomer Murders",
          "Midsomer Murders",
          "Midsomer Murders",
          "Midsomer Murders",
          "Midsomer Murders",
          "Midsomer Murders",
          "Midsomer Murders",
          "Midsomer Murders",
          "Midsomer Murders",
          "Midsomer Murders",
          "Midsomer Murders",
          "Midsomer Murders",
          "Millennium",
          "Millennium",
          "Millennium",
          "Mindhunter",
          "Minority Report",
          "Mob City",
          "Monk",
          "Monk",
          "Monk",
          "Monk",
          "Monk",
          "Monk",
          "Monk",
          "Monk",
          "Mosaic",
          "Mr Inbetween",
          "Mr. Robot",
          "Mr. Robot",
          "Mr. Robot",
          "Murder Rooms: Mysteries of the Real Sherlock Holmes",
          "Murder in the First",
          "Murder in the First",
          "Murder, She Wrote",
          "Murder, She Wrote",
          "Murder, She Wrote",
          "Murder, She Wrote",
          "Murder, She Wrote",
          "Murder, She Wrote",
          "Murder, She Wrote",
          "Murdoch Mysteries",
          "Murdoch Mysteries",
          "Murdoch Mysteries",
          "Murdoch Mysteries",
          "Murdoch Mysteries",
          "Murdoch Mysteries",
          "Murdoch Mysteries",
          "Murdoch Mysteries",
          "Murdoch Mysteries",
          "Murdoch Mysteries",
          "Murdoch Mysteries",
          "Mystery!: Cadfael",
          "Mystery!: Cadfael",
          "Mystery!: Cadfael",
          "NCIS: Los Angeles",
          "NCIS: Los Angeles",
          "NCIS: Los Angeles",
          "NCIS: Los Angeles",
          "NCIS: Los Angeles",
          "NCIS: Los Angeles",
          "NCIS: Los Angeles",
          "NCIS: Los Angeles",
          "NCIS: Los Angeles",
          "NCIS: Los Angeles",
          "NCIS: New Orleans",
          "NCIS: New Orleans",
          "NCIS: New Orleans",
          "NCIS: New Orleans",
          "NYPD Blue",
          "NYPD Blue",
          "Narcos",
          "Narcos",
          "Narcos",
          "New Amsterdam",
          "Nikita",
          "Nikita",
          "Nikita",
          "Nikita",
          "Numb3rs",
          "Numb3rs",
          "Numb3rs",
          "Numb3rs",
          "Numb3rs",
          "Numb3rs",
          "Orange Is the New Black",
          "Orange Is the New Black",
          "Orange Is the New Black",
          "Orange Is the New Black",
          "Orange Is the New Black",
          "Orange Is the New Black",
          "Oz",
          "Oz",
          "Oz",
          "Oz",
          "Oz",
          "Oz",
          "Ozark",
          "Ozark",
          "Pacific Blue",
          "Paranoid",
          "Peaky Blinders",
          "Peaky Blinders",
          "Peaky Blinders",
          "Peaky Blinders",
          "Perception",
          "Perception",
          "Perception",
          "Person of Interest",
          "Person of Interest",
          "Person of Interest",
          "Person of Interest",
          "Person of Interest",
          "Polizeiruf 110",
          "Polizeiruf 110",
          "Polizeiruf 110",
          "Polizeiruf 110",
          "Power",
          "Power",
          "Power",
          "Power",
          "Power",
          "Powers",
          "Powers",
          "Prime Suspect",
          "Prime Suspect",
          "Prime Suspect 1973",
          "Prison Break",
          "Prison Break",
          "Prison Break",
          "Prison Break",
          "Prison Break",
          "Public Morals",
          "Quantico",
          "Quantico",
          "Quantico",
          "Quarry",
          "Queen of the South",
          "Queen of the South",
          "Queen of the South",
          "Raines",
          "Rake",
          "Ray Donovan",
          "Ray Donovan",
          "Ray Donovan",
          "Ray Donovan",
          "Ray Donovan",
          "Rellik",
          "Ringer",
          "River",
          "Riverdale",
          "Riverdale",
          "Riverdale",
          "Rizzoli & Isles",
          "Rizzoli & Isles",
          "Rizzoli & Isles",
          "Rizzoli & Isles",
          "Rizzoli & Isles",
          "Rizzoli & Isles",
          "Rizzoli & Isles",
          "Rogue",
          "Rookie Blue",
          "Rookie Blue",
          "Rookie Blue",
          "Rookie Blue",
          "Rookie Blue",
          "Rosewood",
          "Rosewood",
          "Rubicon",
          "Sahsiyet",
          "Scorpion",
          "Scorpion",
          "Scorpion",
          "Scorpion",
          "Scream: The TV Series",
          "Scream: The TV Series",
          "Search Party",
          "Secrets and Lies",
          "Secrets and Lies",
          "Seven Seconds",
          "Shades of Blue",
          "Shades of Blue",
          "Shades of Blue",
          "Shark",
          "Sharp Objects",
          "Sherlock",
          "Sherlock",
          "Sherlock",
          "Sherlock",
          "Shots Fired",
          "Shut Eye",
          "Silk Stalkings",
          "Sleeper Cell",
          "Sneaky Pete",
          "Sneaky Pete",
          "Snowfall",
          "Snowfall",
          "Sons of Anarchy",
          "Sons of Anarchy",
          "Sons of Anarchy",
          "Sons of Anarchy",
          "Sons of Anarchy",
          "Sons of Anarchy",
          "Sons of Anarchy",
          "Southland",
          "Southland",
          "Southland",
          "Southland",
          "Southland",
          "Stalker",
          "Take Two",
          "Terriers",
          "The Americans",
          "The Americans",
          "The Americans",
          "The Americans",
          "The Americans",
          "The Americans",
          "The Black Donnellys",
          "The Blacklist",
          "The Blacklist",
          "The Blacklist",
          "The Blacklist",
          "The Blacklist",
          "The Blacklist: Redemption",
          "The Borgias",
          "The Borgias",
          "The Borgias",
          "The Bridge",
          "The Bridge",
          "The Case-Book of Sherlock Holmes",
          "The Case-Book of Sherlock Holmes",
          "The Case-Book of Sherlock Holmes",
          "The Catch",
          "The Catch",
          "The Chicago Code",
          "The Closer",
          "The Closer",
          "The Closer",
          "The Closer",
          "The Closer",
          "The Closer",
          "The Closer",
          "The Confession",
          "The Corner",
          "The District",
          "The Event",
          "The Finder",
          "The Five",
          "The Following",
          "The Following",
          "The Following",
          "The Fugitive Chronicles",
          "The Gates",
          "The Glades",
          "The Glades",
          "The Glades",
          "The Glades",
          "The Good Fight",
          "The Good Fight",
          "The Good Wife",
          "The Good Wife",
          "The Good Wife",
          "The Good Wife",
          "The Good Wife",
          "The Good Wife",
          "The Good Wife",
          "The Great Train Robbery",
          "The Guardian",
          "The Huntress",
          "The Kill Point",
          "The Killing",
          "The Killing",
          "The Killing",
          "The Killing",
          "The Lizzie Borden Chronicles",
          "The Loch",
          "The Mentalist",
          "The Mentalist",
          "The Mentalist",
          "The Mentalist",
          "The Mentalist",
          "The Mentalist",
          "The Mentalist",
          "The Mob Doctor",
          "The Night Of",
          "The Playboy Club",
          "The Player",
          "The Riches",
          "The Shield",
          "The Shield",
          "The Shield",
          "The Shield",
          "The Shield",
          "The Shield",
          "The Shield",
          "The Sinner",
          "The Sinner",
          "The Sopranos",
          "The Sopranos",
          "The Sopranos",
          "The Sopranos",
          "The Sopranos",
          "The Sopranos",
          "The Staircase",
          "The Take",
          "The Wire",
          "The Wire",
          "The Wire",
          "The Wire",
          "The Wire",
          "Third Watch",
          "Third Watch",
          "Thirteen",
          "Touching Evil",
          "Training Day",
          "True Detective",
          "True Detective",
          "True Justice",
          "True Justice",
          "Trust",
          "Twin Peaks",
          "Twin Peaks",
          "Twin Peaks",
          "Unforgettable",
          "Unforgettable",
          "Unforgettable",
          "Unforgettable",
          "Vegas",
          "Veronica Mars",
          "Veronica Mars",
          "Veronica Mars",
          "Waco",
          "Weeds",
          "Weeds",
          "Weeds",
          "Weeds",
          "Weeds",
          "Weeds",
          "Weeds",
          "Weeds",
          "Wentworth",
          "Wentworth",
          "Wentworth",
          "Wentworth",
          "Wentworth",
          "White Collar",
          "White Collar",
          "White Collar",
          "White Collar",
          "White Collar",
          "White Collar",
          "Wicked City",
          "Wisdom of the Crowd",
          "Without a Trace",
          "Without a Trace",
          "Without a Trace",
          "Without a Trace",
          "XIII: The Series",
          "You",
          "iZombie",
          "iZombie",
          "iZombie",
          "iZombie"
         ],
         "type": "scatter",
         "x": [
          "2002-02-16T00:00:00",
          "2003-02-09T00:00:00",
          "2004-02-09T00:00:00",
          "2005-03-08T00:00:00",
          "2006-03-10T00:00:00",
          "2007-03-08T00:00:00",
          "2009-03-10T00:00:00",
          "2010-03-17T00:00:00",
          "2017-03-05T00:00:00",
          "2014-06-06T00:00:00",
          "2017-03-15T00:00:00",
          "2017-11-02T00:00:00",
          "2005-01-23T00:00:00",
          "2006-03-03T00:00:00",
          "2008-03-27T00:00:00",
          "2009-07-15T00:00:00",
          "2010-09-19T00:00:00",
          "2014-09-23T00:00:00",
          "2012-02-20T00:00:00",
          "2017-11-03T00:00:00",
          "2013-12-28T00:00:00",
          "2015-04-09T00:00:00",
          "2016-02-03T00:00:00",
          "2017-04-02T00:00:00",
          "2016-03-04T00:00:00",
          "2018-02-11T00:00:00",
          "2016-08-05T00:00:00",
          "2017-09-15T00:00:00",
          "2018-09-14T00:00:00",
          "2015-12-27T00:00:00",
          "2016-07-12T00:00:00",
          "2017-07-15T00:00:00",
          "2018-07-10T00:00:00",
          "2015-06-23T00:00:00",
          "2016-07-25T00:00:00",
          "2015-03-11T00:00:00",
          "2013-02-11T00:00:00",
          "2014-02-10T00:00:00",
          "2015-02-09T00:00:00",
          "2016-04-25T00:00:00",
          "2018-04-09T00:00:00",
          "2015-04-14T00:00:00",
          "2015-03-06T00:00:00",
          "2016-03-17T00:00:00",
          "2017-05-13T00:00:00",
          "2018-09-06T00:00:00",
          "2017-03-11T00:00:00",
          "2016-01-27T00:00:00",
          "2017-01-10T00:00:00",
          "2018-02-04T00:00:00",
          "2015-10-11T00:00:00",
          "2011-01-09T00:00:00",
          "2012-01-13T00:00:00",
          "2013-01-14T00:00:00",
          "2014-01-08T00:00:00",
          "2015-01-07T00:00:00",
          "2016-01-07T00:00:00",
          "2017-01-04T00:00:00",
          "2018-01-13T00:00:00",
          "2010-10-27T00:00:00",
          "2011-11-02T00:00:00",
          "2012-10-20T00:00:00",
          "2013-10-16T00:00:00",
          "2014-09-30T00:00:00",
          "2011-04-22T00:00:00",
          "2011-12-28T00:00:00",
          "2013-04-04T00:00:00",
          "2018-09-06T00:00:00",
          "2006-01-22T00:00:00",
          "2006-12-30T00:00:00",
          "2008-01-10T00:00:00",
          "2009-01-19T00:00:00",
          "2010-01-16T00:00:00",
          "2011-01-25T00:00:00",
          "2012-02-15T00:00:00",
          "2013-01-13T00:00:00",
          "2014-01-09T00:00:00",
          "2015-02-08T00:00:00",
          "2016-02-23T00:00:00",
          "2017-02-07T00:00:00",
          "2013-12-08T00:00:00",
          "2009-10-14T00:00:00",
          "2010-10-20T00:00:00",
          "2011-11-06T00:00:00",
          "2015-01-06T00:00:00",
          "2016-03-11T00:00:00",
          "2017-04-21T00:00:00",
          "2011-11-14T00:00:00",
          "2012-09-17T00:00:00",
          "2004-12-17T00:00:00",
          "2006-01-27T00:00:00",
          "2007-01-19T00:00:00",
          "2008-01-12T00:00:00",
          "2008-11-02T00:00:00",
          "2008-02-15T00:00:00",
          "2009-04-19T00:00:00",
          "2010-05-02T00:00:00",
          "2011-08-28T00:00:00",
          "2013-02-20T00:00:00",
          "2009-02-17T00:00:00",
          "2011-04-13T00:00:00",
          "2012-04-03T00:00:00",
          "1997-10-13T00:00:00",
          "2006-07-09T00:00:00",
          "2017-01-28T00:00:00",
          "2017-12-31T00:00:00",
          "2007-08-08T00:00:00",
          "2008-10-30T00:00:00",
          "2009-10-10T00:00:00",
          "2010-08-26T00:00:00",
          "2011-09-08T00:00:00",
          "2012-09-17T00:00:00",
          "2013-07-23T00:00:00",
          "2017-10-30T00:00:00",
          "2018-02-28T00:00:00",
          "2001-01-20T00:00:00",
          "2002-01-10T00:00:00",
          "2003-01-15T00:00:00",
          "2004-01-18T00:00:00",
          "2005-01-24T00:00:00",
          "2006-01-16T00:00:00",
          "2007-01-14T00:00:00",
          "2008-01-07T00:00:00",
          "2009-01-27T00:00:00",
          "2010-01-23T00:00:00",
          "2011-01-07T00:00:00",
          "2012-01-09T00:00:00",
          "2013-01-14T00:00:00",
          "2014-01-04T00:00:00",
          "2014-12-09T00:00:00",
          "2015-04-14T00:00:00",
          "2015-12-20T00:00:00",
          "2003-01-12T00:00:00",
          "2004-01-18T00:00:00",
          "2005-01-14T00:00:00",
          "2006-01-16T00:00:00",
          "2007-01-11T00:00:00",
          "2008-01-10T00:00:00",
          "2009-01-17T00:00:00",
          "2010-01-15T00:00:00",
          "2011-01-17T00:00:00",
          "2011-12-30T00:00:00",
          "2005-01-15T00:00:00",
          "2006-01-18T00:00:00",
          "2007-01-06T00:00:00",
          "2008-01-11T00:00:00",
          "2009-01-24T00:00:00",
          "2010-01-14T00:00:00",
          "2011-01-08T00:00:00",
          "2012-01-02T00:00:00",
          "2012-12-07T00:00:00",
          "2010-10-12T00:00:00",
          "2009-04-09T00:00:00",
          "2010-01-12T00:00:00",
          "2011-01-12T00:00:00",
          "2012-01-06T00:00:00",
          "2013-01-20T00:00:00",
          "2014-01-09T00:00:00",
          "2015-01-15T00:00:00",
          "2016-01-28T00:00:00",
          "2010-09-20T00:00:00",
          "2017-03-27T00:00:00",
          "2014-03-13T00:00:00",
          "2015-01-18T00:00:00",
          "2016-01-20T00:00:00",
          "2017-01-18T00:00:00",
          "2018-01-16T00:00:00",
          "2017-06-25T00:00:00",
          "2004-01-06T00:00:00",
          "2005-01-18T00:00:00",
          "2006-01-23T00:00:00",
          "2007-01-26T00:00:00",
          "2007-12-17T00:00:00",
          "2008-12-13T00:00:00",
          "2010-05-02T00:00:00",
          "2018-02-28T00:00:00",
          "1990-03-02T00:00:00",
          "1991-02-18T00:00:00",
          "1992-05-07T00:00:00",
          "1994-01-23T00:00:00",
          "1999-02-25T00:00:00",
          "2015-06-18T00:00:00",
          "2010-08-16T00:00:00",
          "2011-08-27T00:00:00",
          "2012-09-13T00:00:00",
          "2013-09-15T00:00:00",
          "2014-08-23T00:00:00",
          "2006-01-06T00:00:00",
          "2007-01-02T00:00:00",
          "2008-01-09T00:00:00",
          "2009-01-20T00:00:00",
          "2010-01-14T00:00:00",
          "2011-01-13T00:00:00",
          "2012-01-20T00:00:00",
          "2013-01-21T00:00:00",
          "2014-01-12T00:00:00",
          "2015-01-14T00:00:00",
          "2016-01-09T00:00:00",
          "2017-01-21T00:00:00",
          "2018-01-10T00:00:00",
          "2018-10-03T00:00:00",
          "2016-04-12T00:00:00",
          "2017-04-07T00:00:00",
          "2011-04-03T00:00:00",
          "2001-10-20T00:00:00",
          "2004-11-14T00:00:00",
          "2005-11-27T00:00:00",
          "2007-09-07T00:00:00",
          "2009-02-19T00:00:00",
          "2010-03-08T00:00:00",
          "2011-08-12T00:00:00",
          "2012-08-16T00:00:00",
          "2017-12-14T00:00:00",
          "2015-04-10T00:00:00",
          "2016-03-18T00:00:00",
          "2009-07-15T00:00:00",
          "2004-04-29T00:00:00",
          "2005-04-13T00:00:00",
          "2006-07-19T00:00:00",
          "2007-02-13T00:00:00",
          "2011-11-18T00:00:00",
          "2013-01-30T00:00:00",
          "2014-02-07T00:00:00",
          "2015-02-01T00:00:00",
          "2016-01-31T00:00:00",
          "2017-01-29T00:00:00",
          "2018-01-27T00:00:00",
          "2013-01-07T00:00:00",
          "2018-04-22T00:00:00",
          "2006-11-08T00:00:00",
          "2007-11-07T00:00:00",
          "2008-11-05T00:00:00",
          "2009-11-04T00:00:00",
          "2010-11-03T00:00:00",
          "2011-11-09T00:00:00",
          "2012-11-07T00:00:00",
          "2013-08-09T00:00:00",
          "2000-02-10T00:00:00",
          "2005-03-20T00:00:00",
          "1996-10-27T00:00:00",
          "2017-05-07T00:00:00",
          "2017-10-25T00:00:00",
          "2013-01-19T00:00:00",
          "2014-01-12T00:00:00",
          "2015-02-03T00:00:00",
          "2016-02-11T00:00:00",
          "2017-01-26T00:00:00",
          "2018-07-10T00:00:00",
          "2008-10-16T00:00:00",
          "2015-02-12T00:00:00",
          "2018-09-28T00:00:00",
          "2014-05-16T00:00:00",
          "2015-11-12T00:00:00",
          "2017-05-20T00:00:00",
          "2017-06-12T00:00:00",
          "2016-06-17T00:00:00",
          "2014-12-30T00:00:00",
          "2014-07-03T00:00:00",
          "2014-05-23T00:00:00",
          "2016-05-27T00:00:00",
          "2017-12-04T00:00:00",
          "2016-12-13T00:00:00",
          "2017-11-15T00:00:00",
          "2018-02-26T00:00:00",
          "2015-01-02T00:00:00",
          "2016-01-17T00:00:00",
          "2017-01-19T00:00:00",
          "2018-01-16T00:00:00",
          "2013-07-23T00:00:00",
          "2014-07-28T00:00:00",
          "2015-07-04T00:00:00",
          "2015-07-24T00:00:00",
          "2017-03-10T00:00:00",
          "2013-05-11T00:00:00",
          "2014-04-11T00:00:00",
          "2015-07-17T00:00:00",
          "2016-03-17T00:00:00",
          "2017-04-03T00:00:00",
          "2011-01-20T00:00:00",
          "2011-01-04T00:00:00",
          "2011-12-31T00:00:00",
          "2013-01-15T00:00:00",
          "2014-01-08T00:00:00",
          "2015-01-19T00:00:00",
          "2016-01-22T00:00:00",
          "2017-01-11T00:00:00",
          "2018-01-21T00:00:00",
          "2018-09-28T00:00:00",
          "2011-11-09T00:00:00",
          "2012-11-07T00:00:00",
          "2013-11-06T00:00:00",
          "2014-11-07T00:00:00",
          "2015-11-11T00:00:00",
          "2017-02-27T00:00:00",
          "2018-03-21T00:00:00",
          "1993-02-25T00:00:00",
          "1994-01-06T00:00:00",
          "1994-12-02T00:00:00",
          "1995-12-01T00:00:00",
          "1997-12-05T00:00:00",
          "2017-01-08T00:00:00",
          "2014-12-07T00:00:00",
          "2015-12-12T00:00:00",
          "2016-12-04T00:00:00",
          "2017-12-14T00:00:00",
          "2018-09-30T00:00:00",
          "2016-04-14T00:00:00",
          "2004-03-16T00:00:00",
          "2005-04-07T00:00:00",
          "2006-03-25T00:00:00",
          "2007-05-05T00:00:00",
          "2009-01-25T00:00:00",
          "2012-02-17T00:00:00",
          "1999-05-09T00:00:00",
          "2000-05-05T00:00:00",
          "2002-11-06T00:00:00",
          "2003-03-31T00:00:00",
          "2013-04-15T00:00:00",
          "2008-06-04T00:00:00",
          "2017-07-11T00:00:00",
          "2016-12-30T00:00:00",
          "2018-03-22T00:00:00",
          "2008-01-06T00:00:00",
          "2008-03-05T00:00:00",
          "2009-08-05T00:00:00",
          "2010-09-15T00:00:00",
          "2011-09-21T00:00:00",
          "2012-07-05T00:00:00",
          "2013-04-04T00:00:00",
          "2014-10-21T00:00:00",
          "2015-10-23T00:00:00",
          "2018-05-11T00:00:00",
          "1995-11-13T00:00:00",
          "1997-01-03T00:00:00",
          "1997-10-28T00:00:00",
          "2003-04-25T00:00:00",
          "2005-04-29T00:00:00",
          "2015-11-20T00:00:00",
          "2018-03-08T00:00:00",
          "2010-04-27T00:00:00",
          "2011-03-23T00:00:00",
          "2012-02-28T00:00:00",
          "2013-02-19T00:00:00",
          "2014-02-21T00:00:00",
          "2015-03-03T00:00:00",
          "2004-03-31T00:00:00",
          "2013-07-01T00:00:00",
          "2005-03-25T00:00:00",
          "2017-05-30T00:00:00",
          "2003-12-30T00:00:00",
          "2004-12-31T00:00:00",
          "2006-02-08T00:00:00",
          "2007-03-09T00:00:00",
          "2007-12-07T00:00:00",
          "1990-12-31T00:00:00",
          "1992-01-04T00:00:00",
          "1993-01-27T00:00:00",
          "1994-01-13T00:00:00",
          "1995-01-13T00:00:00",
          "1996-02-02T00:00:00",
          "1997-02-14T00:00:00",
          "1998-01-22T00:00:00",
          "1999-02-09T00:00:00",
          "2000-01-30T00:00:00",
          "2001-02-04T00:00:00",
          "2002-01-14T00:00:00",
          "2003-01-24T00:00:00",
          "2004-01-12T00:00:00",
          "2005-01-30T00:00:00",
          "2006-01-29T00:00:00",
          "2007-01-16T00:00:00",
          "2008-03-02T00:00:00",
          "2009-02-17T00:00:00",
          "2010-01-28T00:00:00",
          "2017-10-20T00:00:00",
          "2002-01-14T00:00:00",
          "2003-01-22T00:00:00",
          "2004-01-13T00:00:00",
          "2005-01-21T00:00:00",
          "2006-01-20T00:00:00",
          "2007-01-03T00:00:00",
          "2008-04-03T00:00:00",
          "2009-06-09T00:00:00",
          "2010-06-09T00:00:00",
          "2011-05-31T00:00:00",
          "2010-09-29T00:00:00",
          "2000-01-14T00:00:00",
          "2001-01-23T00:00:00",
          "2002-01-12T00:00:00",
          "2003-01-18T00:00:00",
          "2004-01-14T00:00:00",
          "2005-01-14T00:00:00",
          "2006-01-01T00:00:00",
          "2006-12-31T00:00:00",
          "2007-12-29T00:00:00",
          "2009-01-06T00:00:00",
          "2010-01-21T00:00:00",
          "2011-01-06T00:00:00",
          "2012-01-13T00:00:00",
          "2013-01-18T00:00:00",
          "2014-01-18T00:00:00",
          "2015-01-18T00:00:00",
          "2016-01-14T00:00:00",
          "2017-02-02T00:00:00",
          "2018-01-30T00:00:00",
          "2018-09-29T00:00:00",
          "2014-09-12T00:00:00",
          "2015-12-07T00:00:00",
          "2015-06-12T00:00:00",
          "2016-12-17T00:00:00",
          "2018-01-09T00:00:00",
          "2018-10-02T00:00:00",
          "2009-03-19T00:00:00",
          "2010-03-25T00:00:00",
          "2010-12-01T00:00:00",
          "2007-11-01T00:00:00",
          "2009-01-29T00:00:00",
          "2009-01-14T00:00:00",
          "2015-12-31T00:00:00",
          "2015-11-23T00:00:00",
          "2012-07-05T00:00:00",
          "2013-07-10T00:00:00",
          "2014-07-03T00:00:00",
          "2015-09-10T00:00:00",
          "2016-09-23T00:00:00",
          "2017-11-17T00:00:00",
          "2013-09-03T00:00:00",
          "2016-03-08T00:00:00",
          "2017-01-05T00:00:00",
          "2018-01-29T00:00:00",
          "2016-09-30T00:00:00",
          "2018-06-22T00:00:00",
          "2015-12-15T00:00:00",
          "2012-04-30T00:00:00",
          "2013-07-12T00:00:00",
          "2012-09-16T00:00:00",
          "2013-09-19T00:00:00",
          "2014-09-26T00:00:00",
          "2015-10-17T00:00:00",
          "2016-10-20T00:00:00",
          "2017-12-05T00:00:00",
          "2017-08-19T00:00:00",
          "1992-11-05T00:00:00",
          "2018-09-21T00:00:00",
          "2005-03-05T00:00:00",
          "2006-01-09T00:00:00",
          "2007-02-18T00:00:00",
          "2008-03-07T00:00:00",
          "2009-04-04T00:00:00",
          "2010-02-06T00:00:00",
          "2010-11-22T00:00:00",
          "1998-05-19T00:00:00",
          "1999-05-22T00:00:00",
          "2000-01-21T00:00:00",
          "2001-07-10T00:00:00",
          "2002-07-21T00:00:00",
          "2003-01-17T00:00:00",
          "2004-02-28T00:00:00",
          "2005-02-10T00:00:00",
          "2006-05-20T00:00:00",
          "2007-06-17T00:00:00",
          "2008-07-10T00:00:00",
          "2009-10-21T00:00:00",
          "2010-09-10T00:00:00",
          "2011-07-25T00:00:00",
          "2012-09-09T00:00:00",
          "2014-01-21T00:00:00",
          "2015-02-08T00:00:00",
          "2016-01-24T00:00:00",
          "2017-01-18T00:00:00",
          "1997-01-06T00:00:00",
          "1998-02-03T00:00:00",
          "1999-01-04T00:00:00",
          "2017-10-13T00:00:00",
          "2015-10-24T00:00:00",
          "2013-12-11T00:00:00",
          "2002-08-23T00:00:00",
          "2003-10-31T00:00:00",
          "2004-10-22T00:00:00",
          "2005-11-07T00:00:00",
          "2006-10-11T00:00:00",
          "2007-10-03T00:00:00",
          "2008-11-15T00:00:00",
          "2009-10-11T00:00:00",
          "2018-01-24T00:00:00",
          "2018-09-25T00:00:00",
          "2015-07-26T00:00:00",
          "2016-08-13T00:00:00",
          "2017-11-11T00:00:00",
          "2001-05-20T00:00:00",
          "2014-07-10T00:00:00",
          "2015-07-01T00:00:00",
          "1990-01-07T00:00:00",
          "1991-01-28T00:00:00",
          "1991-12-26T00:00:00",
          "1993-01-06T00:00:00",
          "1993-12-22T00:00:00",
          "1994-12-22T00:00:00",
          "1996-01-07T00:00:00",
          "2008-03-01T00:00:00",
          "2009-03-11T00:00:00",
          "2010-05-02T00:00:00",
          "2011-07-20T00:00:00",
          "2012-07-02T00:00:00",
          "2013-02-02T00:00:00",
          "2013-12-26T00:00:00",
          "2015-01-02T00:00:00",
          "2015-12-02T00:00:00",
          "2017-01-20T00:00:00",
          "2017-10-19T00:00:00",
          "1994-06-08T00:00:00",
          "1996-06-02T00:00:00",
          "1997-08-15T00:00:00",
          "2010-01-18T00:00:00",
          "2010-12-29T00:00:00",
          "2012-01-11T00:00:00",
          "2013-01-19T00:00:00",
          "2014-01-12T00:00:00",
          "2015-01-15T00:00:00",
          "2016-01-09T00:00:00",
          "2017-01-17T00:00:00",
          "2018-01-20T00:00:00",
          "2018-09-30T00:00:00",
          "2015-01-12T00:00:00",
          "2016-01-11T00:00:00",
          "2017-01-21T00:00:00",
          "2018-01-13T00:00:00",
          "1993-09-30T00:00:00",
          "1997-04-22T00:00:00",
          "2015-08-28T00:00:00",
          "2016-09-02T00:00:00",
          "2017-09-01T00:00:00",
          "2008-03-04T00:00:00",
          "2011-01-04T00:00:00",
          "2012-01-15T00:00:00",
          "2013-02-12T00:00:00",
          "2013-12-09T00:00:00",
          "2005-03-17T00:00:00",
          "2006-01-24T00:00:00",
          "2007-01-06T00:00:00",
          "2008-01-14T00:00:00",
          "2009-01-21T00:00:00",
          "2009-12-08T00:00:00",
          "2013-07-11T00:00:00",
          "2014-06-06T00:00:00",
          "2015-06-11T00:00:00",
          "2016-06-17T00:00:00",
          "2017-06-09T00:00:00",
          "2018-07-27T00:00:00",
          "1997-08-01T00:00:00",
          "1998-08-06T00:00:00",
          "1999-08-07T00:00:00",
          "2000-11-03T00:00:00",
          "2002-01-23T00:00:00",
          "2003-01-29T00:00:00",
          "2017-07-21T00:00:00",
          "2018-08-31T00:00:00",
          "1997-09-28T00:00:00",
          "2016-10-16T00:00:00",
          "2014-09-30T00:00:00",
          "2014-10-19T00:00:00",
          "2016-05-31T00:00:00",
          "2017-12-18T00:00:00",
          "2012-08-13T00:00:00",
          "2013-09-28T00:00:00",
          "2014-10-02T00:00:00",
          "2012-01-14T00:00:00",
          "2013-01-10T00:00:00",
          "2014-01-10T00:00:00",
          "2015-01-07T00:00:00",
          "2016-05-24T00:00:00",
          "2005-02-20T00:00:00",
          "2010-05-02T00:00:00",
          "2011-09-06T00:00:00",
          "2015-06-28T00:00:00",
          "2014-07-05T00:00:00",
          "2015-07-11T00:00:00",
          "2016-08-18T00:00:00",
          "2017-07-27T00:00:00",
          "2018-08-01T00:00:00",
          "2015-04-10T00:00:00",
          "2016-05-31T00:00:00",
          "1991-04-07T00:00:00",
          "2011-09-25T00:00:00",
          "2017-04-10T00:00:00",
          "2005-12-26T00:00:00",
          "2006-12-04T00:00:00",
          "2007-11-26T00:00:00",
          "2008-12-28T00:00:00",
          "2017-05-02T00:00:00",
          "2015-08-25T00:00:00",
          "2016-01-21T00:00:00",
          "2017-01-28T00:00:00",
          "2018-06-17T00:00:00",
          "2016-10-02T00:00:00",
          "2016-08-04T00:00:00",
          "2017-07-20T00:00:00",
          "2018-07-02T00:00:00",
          "2007-03-15T00:00:00",
          "2014-01-23T00:00:00",
          "2013-08-08T00:00:00",
          "2014-08-20T00:00:00",
          "2015-08-19T00:00:00",
          "2016-08-04T00:00:00",
          "2017-09-18T00:00:00",
          "2017-09-14T00:00:00",
          "2012-01-15T00:00:00",
          "2015-09-04T00:00:00",
          "2017-03-17T00:00:00",
          "2018-01-25T00:00:00",
          "2018-10-10T00:00:00",
          "2010-08-12T00:00:00",
          "2011-09-21T00:00:00",
          "2012-08-28T00:00:00",
          "2013-09-25T00:00:00",
          "2014-10-07T00:00:00",
          "2015-10-05T00:00:00",
          "2016-07-18T00:00:00",
          "2013-04-03T00:00:00",
          "2010-08-04T00:00:00",
          "2011-08-02T00:00:00",
          "2012-07-03T00:00:00",
          "2013-07-13T00:00:00",
          "2014-06-19T00:00:00",
          "2015-12-17T00:00:00",
          "2017-03-03T00:00:00",
          "2010-08-11T00:00:00",
          "2018-04-20T00:00:00",
          "2014-12-24T00:00:00",
          "2016-01-01T00:00:00",
          "2017-01-13T00:00:00",
          "2017-12-26T00:00:00",
          "2015-07-31T00:00:00",
          "2016-07-16T00:00:00",
          "2016-11-22T00:00:00",
          "2015-03-29T00:00:00",
          "2016-11-06T00:00:00",
          "2018-02-23T00:00:00",
          "2016-02-14T00:00:00",
          "2017-04-14T00:00:00",
          "2018-06-24T00:00:00",
          "2007-01-01T00:00:00",
          "2018-07-22T00:00:00",
          "2010-12-24T00:00:00",
          "2012-05-13T00:00:00",
          "2014-01-24T00:00:00",
          "2016-10-06T00:00:00",
          "2017-03-22T00:00:00",
          "2016-12-07T00:00:00",
          "1996-11-24T00:00:00",
          "2005-12-04T00:00:00",
          "2016-11-15T00:00:00",
          "2018-03-09T00:00:00",
          "2017-08-05T00:00:00",
          "2018-08-02T00:00:00",
          "2008-10-15T00:00:00",
          "2009-10-20T00:00:00",
          "2010-10-19T00:00:00",
          "2011-10-21T00:00:00",
          "2012-10-23T00:00:00",
          "2013-10-23T00:00:00",
          "2014-10-22T00:00:00",
          "2009-04-30T00:00:00",
          "2010-03-19T00:00:00",
          "2011-02-04T00:00:00",
          "2012-02-17T00:00:00",
          "2013-03-16T00:00:00",
          "2014-12-28T00:00:00",
          "2018-08-02T00:00:00",
          "2010-10-25T00:00:00",
          "2013-03-15T00:00:00",
          "2014-04-09T00:00:00",
          "2015-03-11T00:00:00",
          "2016-04-27T00:00:00",
          "2017-04-18T00:00:00",
          "2018-04-28T00:00:00",
          "2007-03-26T00:00:00",
          "2014-01-11T00:00:00",
          "2015-01-22T00:00:00",
          "2016-01-24T00:00:00",
          "2017-01-21T00:00:00",
          "2018-01-19T00:00:00",
          "2017-03-19T00:00:00",
          "2011-04-24T00:00:00",
          "2012-05-11T00:00:00",
          "2013-05-15T00:00:00",
          "2013-08-21T00:00:00",
          "2014-08-20T00:00:00",
          "1991-03-10T00:00:00",
          "1993-05-06T00:00:00",
          "1994-02-03T00:00:00",
          "2016-04-23T00:00:00",
          "2017-04-20T00:00:00",
          "2011-02-26T00:00:00",
          "2005-07-25T00:00:00",
          "2006-08-11T00:00:00",
          "2007-08-08T00:00:00",
          "2008-10-13T00:00:00",
          "2009-08-15T00:00:00",
          "2010-09-28T00:00:00",
          "2011-12-19T00:00:00",
          "2011-03-14T00:00:00",
          "2000-04-23T00:00:00",
          "2003-10-18T00:00:00",
          "2011-01-18T00:00:00",
          "2012-03-04T00:00:00",
          "2016-04-29T00:00:00",
          "2013-03-11T00:00:00",
          "2014-03-09T00:00:00",
          "2015-04-13T00:00:00",
          "2010-04-01T00:00:00",
          "2010-07-04T00:00:00",
          "2010-08-15T00:00:00",
          "2011-07-10T00:00:00",
          "2012-06-03T00:00:00",
          "2013-07-11T00:00:00",
          "2017-03-16T00:00:00",
          "2018-04-15T00:00:00",
          "2010-01-17T00:00:00",
          "2011-01-20T00:00:00",
          "2012-01-03T00:00:00",
          "2013-01-09T00:00:00",
          "2014-01-19T00:00:00",
          "2015-01-11T00:00:00",
          "2016-01-13T00:00:00",
          "2013-12-18T00:00:00",
          "2001-10-02T00:00:00",
          "2000-03-07T00:00:00",
          "2007-07-22T00:00:00",
          "2011-05-08T00:00:00",
          "2012-05-06T00:00:00",
          "2013-07-03T00:00:00",
          "2014-08-01T00:00:00",
          "2015-04-28T00:00:00",
          "2017-07-05T00:00:00",
          "2009-01-17T00:00:00",
          "2010-01-20T00:00:00",
          "2011-01-18T00:00:00",
          "2012-01-16T00:00:00",
          "2013-01-11T00:00:00",
          "2014-01-21T00:00:00",
          "2015-01-12T00:00:00",
          "2012-10-25T00:00:00",
          "2016-08-01T00:00:00",
          "2011-09-19T00:00:00",
          "2015-10-22T00:00:00",
          "2007-03-19T00:00:00",
          "2002-04-23T00:00:00",
          "2003-02-14T00:00:00",
          "2004-04-30T00:00:00",
          "2005-04-28T00:00:00",
          "2006-02-13T00:00:00",
          "2007-05-04T00:00:00",
          "2008-10-14T00:00:00",
          "2017-08-26T00:00:00",
          "2018-08-24T00:00:00",
          "1999-02-21T00:00:00",
          "2000-02-27T00:00:00",
          "2001-04-08T00:00:00",
          "2002-10-27T00:00:00",
          "2004-04-18T00:00:00",
          "2006-10-01T00:00:00",
          "2018-06-08T00:00:00",
          "2009-06-21T00:00:00",
          "2002-07-18T00:00:00",
          "2003-07-12T00:00:00",
          "2004-11-01T00:00:00",
          "2006-10-25T00:00:00",
          "2008-02-06T00:00:00",
          "2000-02-17T00:00:00",
          "2005-05-06T00:00:00",
          "2016-04-05T00:00:00",
          "2004-03-12T00:00:00",
          "2017-02-19T00:00:00",
          "2014-02-09T00:00:00",
          "2015-07-15T00:00:00",
          "2011-09-25T00:00:00",
          "2012-04-01T00:00:00",
          "2018-04-24T00:00:00",
          "1990-04-29T00:00:00",
          "1991-01-11T00:00:00",
          "2017-07-09T00:00:00",
          "2011-12-31T00:00:00",
          "2013-11-29T00:00:00",
          "2014-08-02T00:00:00",
          "2015-12-28T00:00:00",
          "2012-10-09T00:00:00",
          "2005-01-24T00:00:00",
          "2006-01-19T00:00:00",
          "2007-01-18T00:00:00",
          "2018-02-14T00:00:00",
          "2005-09-08T00:00:00",
          "2006-09-21T00:00:00",
          "2007-10-01T00:00:00",
          "2008-07-29T00:00:00",
          "2009-07-20T00:00:00",
          "2010-10-02T00:00:00",
          "2011-08-09T00:00:00",
          "2012-08-11T00:00:00",
          "2013-06-01T00:00:00",
          "2014-06-27T00:00:00",
          "2015-05-15T00:00:00",
          "2016-06-17T00:00:00",
          "2017-05-12T00:00:00",
          "2009-12-28T00:00:00",
          "2010-10-29T00:00:00",
          "2011-09-26T00:00:00",
          "2012-10-21T00:00:00",
          "2013-12-06T00:00:00",
          "2014-11-27T00:00:00",
          "2015-11-03T00:00:00",
          "2017-10-18T00:00:00",
          "2002-12-23T00:00:00",
          "2003-11-18T00:00:00",
          "2005-05-12T00:00:00",
          "2006-02-06T00:00:00",
          "2012-06-29T00:00:00",
          "2018-09-20T00:00:00",
          "2015-04-28T00:00:00",
          "2016-01-07T00:00:00",
          "2017-05-16T00:00:00",
          "2018-04-13T00:00:00"
         ],
         "xaxis": "x",
         "y": [
          6.67,
          7.13,
          5.88,
          3.48,
          2.15,
          2.23,
          2.04,
          1.55,
          0.22,
          0.63,
          0.09,
          0.1,
          0.94,
          0.46,
          0.5,
          0.4,
          0.23,
          0.07,
          0.54,
          0.11,
          0.49,
          0.21,
          0.17,
          0.13,
          0.71,
          0.62,
          0.07,
          0.17,
          0.03,
          0.11,
          0.13,
          0.13,
          0.18,
          0.16,
          0.05,
          0.12,
          0.66,
          0.48,
          0.51,
          0.25,
          0.45,
          0.13,
          2.94,
          1.26,
          1.61,
          2.13,
          0.76,
          0.73,
          0.54,
          0.59,
          0.03,
          0.45,
          0.4,
          0.25,
          0.23,
          0.21,
          0.14,
          0.14,
          0.21,
          1.65,
          1.03,
          1.23,
          0.71,
          0.46,
          0.12,
          0.23,
          0.1,
          0.63,
          1.92,
          1.59,
          1.3,
          1.84,
          1.17,
          0.96,
          0.61,
          0.67,
          0.48,
          0.35,
          0.22,
          0.14,
          0.01,
          0.28,
          0.14,
          0.09,
          0.32,
          0.16,
          0.17,
          0.14,
          0.13,
          1.14,
          0.54,
          0.52,
          0.43,
          0.27,
          11.55,
          15.42,
          12.34,
          10.79,
          18.95,
          0.05,
          0.15,
          0.09,
          0.14,
          0.01,
          0.39,
          0.21,
          0.67,
          0.8,
          0.6,
          0.43,
          0.29,
          0.34,
          0.17,
          0.09,
          0.04,
          4.98,
          3.15,
          4.02,
          3.58,
          3.01,
          1.4,
          1.63,
          1.25,
          1.44,
          0.93,
          0.72,
          0.83,
          0.31,
          0.23,
          0.17,
          0.13,
          0.1,
          2.04,
          1.55,
          0.87,
          0.53,
          0.52,
          0.52,
          0.48,
          0.37,
          0.24,
          0.22,
          0.82,
          0.48,
          0.56,
          0.51,
          0.46,
          0.33,
          0.22,
          0.21,
          0.2,
          0.06,
          1.17,
          1.79,
          1.37,
          1.76,
          1.15,
          0.8,
          0.61,
          0.36,
          0.01,
          0.09,
          0.22,
          0.26,
          0.17,
          0.2,
          0.31,
          0.03,
          1.2,
          0.7,
          0.36,
          0.49,
          0.3,
          0.24,
          0.01,
          0.1,
          5.67,
          3.39,
          11.62,
          1.92,
          2.03,
          0.01,
          0.22,
          0.17,
          0.22,
          0.11,
          0.07,
          4.04,
          4.16,
          3.99,
          4.38,
          2.93,
          2.19,
          2.52,
          1.68,
          1.38,
          1.3,
          0.92,
          1.17,
          1.51,
          0.03,
          0.08,
          0.05,
          0.11,
          0.19,
          0.03,
          0.02,
          0.53,
          0.35,
          0.25,
          0.12,
          0.14,
          0.05,
          3.49,
          2.33,
          0.01,
          3.82,
          1.74,
          0.91,
          5.87,
          0.17,
          0.1,
          0.09,
          0.07,
          0.05,
          0.06,
          0.07,
          0.01,
          0.3,
          5.37,
          4.51,
          4.35,
          4.74,
          2.92,
          2.32,
          3.25,
          2.5,
          0.04,
          0.02,
          0.12,
          0.07,
          0.06,
          1.23,
          0.76,
          0.58,
          0.41,
          0.44,
          0.49,
          0.05,
          0.07,
          0.05,
          2.66,
          2.03,
          1.25,
          0,
          0.02,
          0.98,
          0.08,
          0.2,
          0.1,
          0.09,
          0.1,
          0.06,
          0.03,
          2.9,
          1.54,
          1.28,
          1.94,
          0.12,
          0.07,
          0.01,
          0.12,
          0.01,
          2.41,
          2.42,
          1.8,
          0.04,
          0.03,
          0.02,
          0.79,
          0.63,
          0.46,
          0.34,
          0.33,
          0.23,
          0.27,
          0.43,
          0.01,
          2.02,
          2.28,
          1.43,
          1.48,
          0.85,
          0.69,
          1.05,
          2.19,
          0.24,
          0.14,
          0.07,
          0.13,
          0,
          1.14,
          0.74,
          0.44,
          0.42,
          0.06,
          0.01,
          0.35,
          0.16,
          0.09,
          0.08,
          0.04,
          0.01,
          0.15,
          0.15,
          0.12,
          0.09,
          0.01,
          0.05,
          0,
          0.06,
          0.01,
          0.46,
          0.2,
          0.16,
          0.11,
          0.08,
          0.1,
          0.08,
          0.06,
          0.05,
          0.14,
          1.11,
          0.04,
          0.31,
          0.1,
          0.03,
          2.06,
          1.86,
          1.17,
          0.7,
          0.75,
          0.46,
          0.35,
          0.37,
          0.04,
          0.02,
          0.04,
          0,
          0.77,
          0.17,
          0.03,
          0.01,
          0.03,
          3.94,
          12.77,
          4.88,
          1.82,
          2.22,
          2.45,
          1.3,
          2.3,
          1.24,
          1.31,
          0.94,
          0.6,
          0.96,
          0.78,
          0.4,
          0.22,
          0.31,
          0.31,
          0.29,
          0.28,
          0.04,
          0.88,
          1.19,
          0.89,
          0.6,
          0.36,
          0.43,
          0.43,
          0.21,
          0.13,
          0.07,
          0.01,
          3.76,
          2.71,
          1.93,
          2.94,
          2.72,
          1.79,
          1.02,
          0.91,
          1.01,
          1.04,
          0.81,
          0.66,
          0.74,
          0.49,
          0.4,
          0.4,
          0.27,
          0.28,
          0.63,
          0.07,
          0.14,
          0.06,
          0.07,
          0.43,
          0.78,
          0.19,
          1.07,
          0.94,
          0.44,
          0.39,
          0.56,
          0.27,
          0.8,
          0.06,
          0.62,
          0.44,
          0.3,
          0.31,
          0.1,
          0.09,
          0.06,
          1.29,
          1.54,
          4.51,
          1.07,
          0.99,
          0.07,
          0.12,
          0.05,
          0.15,
          0.16,
          0.13,
          0.12,
          0.08,
          0.02,
          0.23,
          0.38,
          0.19,
          0.51,
          0.35,
          0.35,
          0.25,
          0.16,
          0.12,
          0.03,
          2.26,
          0.82,
          0.76,
          0.83,
          0.38,
          0.63,
          0.83,
          0.53,
          0.33,
          0.34,
          0.32,
          0.26,
          0.24,
          0.16,
          0.13,
          0.07,
          0.04,
          0.05,
          0.05,
          2.21,
          3.43,
          1.34,
          1.1,
          0.11,
          0.08,
          1.91,
          2.25,
          2.03,
          1.21,
          0.7,
          0.7,
          0.76,
          0.73,
          0.05,
          0.01,
          2.75,
          1.38,
          1.24,
          0.61,
          0.07,
          0.02,
          2.44,
          2.7,
          2.93,
          3.6,
          1.8,
          0.45,
          0.63,
          0.31,
          0.24,
          0.18,
          0.14,
          0.17,
          0.1,
          0.14,
          0.1,
          0.06,
          0.01,
          0.01,
          0.36,
          0.27,
          0.09,
          0.53,
          0.45,
          0.44,
          0.26,
          0.23,
          0.21,
          0.15,
          0.16,
          0.27,
          0.01,
          0.2,
          0.12,
          0.14,
          0.23,
          0.63,
          0.05,
          1.52,
          0.96,
          0.87,
          0.03,
          0.79,
          0.72,
          0.36,
          0.11,
          0.6,
          0.48,
          0.5,
          0.39,
          0.39,
          0.26,
          1.51,
          1.07,
          0.79,
          0.63,
          0.54,
          0.7,
          2.81,
          3.61,
          1.86,
          3.65,
          0.98,
          1.45,
          0.87,
          0.91,
          0.28,
          0.04,
          0.82,
          0.7,
          0.45,
          0.68,
          0.18,
          0.1,
          0.08,
          4.84,
          2.45,
          2.47,
          2.28,
          1.28,
          0.02,
          0.01,
          0.02,
          0,
          0.15,
          0.14,
          0.1,
          0.14,
          0.18,
          0.08,
          0.01,
          0.35,
          0.02,
          0.03,
          11.18,
          5.08,
          3.12,
          5.84,
          1.15,
          0.01,
          0.6,
          0.31,
          0.29,
          0.12,
          0.08,
          0.06,
          0.03,
          0.02,
          0,
          0.52,
          0.39,
          0.32,
          0.21,
          0.24,
          0.01,
          0.38,
          0.09,
          0.78,
          1.65,
          0.07,
          0.3,
          0.25,
          0.28,
          0.17,
          0.16,
          0.12,
          0.06,
          0.01,
          0.15,
          0.09,
          0.06,
          0.04,
          0,
          0.08,
          0.01,
          0.17,
          0.06,
          0.62,
          0.29,
          0.26,
          0.17,
          0.42,
          0.31,
          0.04,
          0.14,
          0.05,
          0.03,
          0.13,
          0.08,
          0.02,
          0.12,
          1.08,
          6.44,
          6.33,
          3.47,
          2.82,
          0.01,
          0.02,
          0.07,
          0.02,
          0.25,
          0.24,
          0.08,
          0.01,
          2.92,
          2.12,
          1.65,
          1.24,
          1.41,
          0.96,
          1.03,
          0.18,
          0.09,
          0.1,
          0.11,
          0.1,
          0.3,
          0.18,
          0.21,
          0.87,
          0.53,
          0.43,
          0.31,
          0.33,
          0.71,
          0.15,
          1.67,
          1.07,
          0.81,
          0.62,
          1.05,
          0.1,
          0.29,
          0.3,
          0.16,
          0.23,
          0.11,
          2.79,
          1.28,
          0.98,
          0.08,
          0.05,
          0.04,
          0.54,
          0.31,
          0.33,
          0.32,
          0.24,
          0.16,
          0.2,
          0.01,
          0.08,
          0.41,
          0.38,
          0.19,
          0.05,
          0.79,
          0.42,
          0.27,
          0.03,
          0.03,
          0.15,
          0.04,
          0.01,
          0.01,
          0.14,
          0.3,
          0.99,
          0.65,
          0.69,
          0.43,
          0.5,
          0.36,
          0.25,
          0.02,
          0.12,
          0.04,
          0.01,
          0.83,
          0.77,
          0.46,
          0.22,
          0.03,
          0.03,
          2.36,
          1.53,
          1.21,
          1.45,
          0.85,
          0.96,
          0.36,
          0.02,
          0.7,
          0.01,
          0.08,
          0.03,
          2.58,
          2.99,
          3.04,
          1.61,
          0.85,
          0.77,
          1.09,
          0.39,
          0.23,
          13.42,
          10.87,
          9.26,
          5.52,
          7.1,
          4.58,
          0.14,
          0.05,
          7.66,
          7.94,
          6.97,
          2.58,
          2.43,
          0.09,
          0.02,
          0.03,
          0.14,
          0.03,
          4.5,
          2.26,
          0.04,
          0.02,
          0.17,
          29.25,
          55.01,
          2.21,
          0.2,
          0.07,
          0.04,
          0.03,
          0.05,
          3.02,
          1.45,
          1.21,
          0.11,
          1.3,
          0.74,
          0.86,
          0.76,
          0.6,
          0.44,
          0.32,
          0.39,
          0.11,
          0.09,
          0.08,
          0.08,
          0.07,
          1.11,
          0.79,
          0.58,
          0.62,
          0.31,
          0.18,
          0.02,
          0.03,
          0.59,
          0.17,
          0.02,
          0.07,
          0.01,
          0.07,
          0.59,
          0.43,
          0.23,
          0.32
         ],
         "yaxis": "y"
        },
        {
         "mode": "markers+lines",
         "type": "scatter",
         "x": [
          1990,
          1991,
          1992,
          1993,
          1994,
          1995,
          1996,
          1997,
          1998,
          1999,
          2000,
          2001,
          2002,
          2003,
          2004,
          2005,
          2006,
          2007,
          2008,
          2009,
          2010,
          2011,
          2012,
          2013,
          2014,
          2015,
          2016,
          2017,
          2018
         ],
         "xaxis": "x2",
         "y": [
          4,
          6,
          3,
          6,
          7,
          3,
          5,
          10,
          4,
          7,
          10,
          8,
          13,
          16,
          19,
          28,
          31,
          33,
          30,
          36,
          48,
          52,
          47,
          57,
          57,
          73,
          66,
          82,
          61
         ],
         "yaxis": "y2"
        }
       ],
       "layout": {
        "annotations": [
         {
          "font": {
           "size": 16
          },
          "showarrow": false,
          "text": "Crime Series' Share of Total Viewership",
          "x": 0.5,
          "xanchor": "center",
          "xref": "paper",
          "y": 1,
          "yanchor": "bottom",
          "yref": "paper"
         },
         {
          "font": {
           "size": 16
          },
          "showarrow": false,
          "text": "Total Crime Series per Year",
          "x": 0.5,
          "xanchor": "center",
          "xref": "paper",
          "y": 0.375,
          "yanchor": "bottom",
          "yref": "paper"
         }
        ],
        "height": 800,
        "showlegend": false,
        "template": {
         "data": {
          "bar": [
           {
            "error_x": {
             "color": "#2a3f5f"
            },
            "error_y": {
             "color": "#2a3f5f"
            },
            "marker": {
             "line": {
              "color": "#E5ECF6",
              "width": 0.5
             },
             "pattern": {
              "fillmode": "overlay",
              "size": 10,
              "solidity": 0.2
             }
            },
            "type": "bar"
           }
          ],
          "barpolar": [
           {
            "marker": {
             "line": {
              "color": "#E5ECF6",
              "width": 0.5
             },
             "pattern": {
              "fillmode": "overlay",
              "size": 10,
              "solidity": 0.2
             }
            },
            "type": "barpolar"
           }
          ],
          "carpet": [
           {
            "aaxis": {
             "endlinecolor": "#2a3f5f",
             "gridcolor": "white",
             "linecolor": "white",
             "minorgridcolor": "white",
             "startlinecolor": "#2a3f5f"
            },
            "baxis": {
             "endlinecolor": "#2a3f5f",
             "gridcolor": "white",
             "linecolor": "white",
             "minorgridcolor": "white",
             "startlinecolor": "#2a3f5f"
            },
            "type": "carpet"
           }
          ],
          "choropleth": [
           {
            "colorbar": {
             "outlinewidth": 0,
             "ticks": ""
            },
            "type": "choropleth"
           }
          ],
          "contour": [
           {
            "colorbar": {
             "outlinewidth": 0,
             "ticks": ""
            },
            "colorscale": [
             [
              0,
              "#0d0887"
             ],
             [
              0.1111111111111111,
              "#46039f"
             ],
             [
              0.2222222222222222,
              "#7201a8"
             ],
             [
              0.3333333333333333,
              "#9c179e"
             ],
             [
              0.4444444444444444,
              "#bd3786"
             ],
             [
              0.5555555555555556,
              "#d8576b"
             ],
             [
              0.6666666666666666,
              "#ed7953"
             ],
             [
              0.7777777777777778,
              "#fb9f3a"
             ],
             [
              0.8888888888888888,
              "#fdca26"
             ],
             [
              1,
              "#f0f921"
             ]
            ],
            "type": "contour"
           }
          ],
          "contourcarpet": [
           {
            "colorbar": {
             "outlinewidth": 0,
             "ticks": ""
            },
            "type": "contourcarpet"
           }
          ],
          "heatmap": [
           {
            "colorbar": {
             "outlinewidth": 0,
             "ticks": ""
            },
            "colorscale": [
             [
              0,
              "#0d0887"
             ],
             [
              0.1111111111111111,
              "#46039f"
             ],
             [
              0.2222222222222222,
              "#7201a8"
             ],
             [
              0.3333333333333333,
              "#9c179e"
             ],
             [
              0.4444444444444444,
              "#bd3786"
             ],
             [
              0.5555555555555556,
              "#d8576b"
             ],
             [
              0.6666666666666666,
              "#ed7953"
             ],
             [
              0.7777777777777778,
              "#fb9f3a"
             ],
             [
              0.8888888888888888,
              "#fdca26"
             ],
             [
              1,
              "#f0f921"
             ]
            ],
            "type": "heatmap"
           }
          ],
          "heatmapgl": [
           {
            "colorbar": {
             "outlinewidth": 0,
             "ticks": ""
            },
            "colorscale": [
             [
              0,
              "#0d0887"
             ],
             [
              0.1111111111111111,
              "#46039f"
             ],
             [
              0.2222222222222222,
              "#7201a8"
             ],
             [
              0.3333333333333333,
              "#9c179e"
             ],
             [
              0.4444444444444444,
              "#bd3786"
             ],
             [
              0.5555555555555556,
              "#d8576b"
             ],
             [
              0.6666666666666666,
              "#ed7953"
             ],
             [
              0.7777777777777778,
              "#fb9f3a"
             ],
             [
              0.8888888888888888,
              "#fdca26"
             ],
             [
              1,
              "#f0f921"
             ]
            ],
            "type": "heatmapgl"
           }
          ],
          "histogram": [
           {
            "marker": {
             "pattern": {
              "fillmode": "overlay",
              "size": 10,
              "solidity": 0.2
             }
            },
            "type": "histogram"
           }
          ],
          "histogram2d": [
           {
            "colorbar": {
             "outlinewidth": 0,
             "ticks": ""
            },
            "colorscale": [
             [
              0,
              "#0d0887"
             ],
             [
              0.1111111111111111,
              "#46039f"
             ],
             [
              0.2222222222222222,
              "#7201a8"
             ],
             [
              0.3333333333333333,
              "#9c179e"
             ],
             [
              0.4444444444444444,
              "#bd3786"
             ],
             [
              0.5555555555555556,
              "#d8576b"
             ],
             [
              0.6666666666666666,
              "#ed7953"
             ],
             [
              0.7777777777777778,
              "#fb9f3a"
             ],
             [
              0.8888888888888888,
              "#fdca26"
             ],
             [
              1,
              "#f0f921"
             ]
            ],
            "type": "histogram2d"
           }
          ],
          "histogram2dcontour": [
           {
            "colorbar": {
             "outlinewidth": 0,
             "ticks": ""
            },
            "colorscale": [
             [
              0,
              "#0d0887"
             ],
             [
              0.1111111111111111,
              "#46039f"
             ],
             [
              0.2222222222222222,
              "#7201a8"
             ],
             [
              0.3333333333333333,
              "#9c179e"
             ],
             [
              0.4444444444444444,
              "#bd3786"
             ],
             [
              0.5555555555555556,
              "#d8576b"
             ],
             [
              0.6666666666666666,
              "#ed7953"
             ],
             [
              0.7777777777777778,
              "#fb9f3a"
             ],
             [
              0.8888888888888888,
              "#fdca26"
             ],
             [
              1,
              "#f0f921"
             ]
            ],
            "type": "histogram2dcontour"
           }
          ],
          "mesh3d": [
           {
            "colorbar": {
             "outlinewidth": 0,
             "ticks": ""
            },
            "type": "mesh3d"
           }
          ],
          "parcoords": [
           {
            "line": {
             "colorbar": {
              "outlinewidth": 0,
              "ticks": ""
             }
            },
            "type": "parcoords"
           }
          ],
          "pie": [
           {
            "automargin": true,
            "type": "pie"
           }
          ],
          "scatter": [
           {
            "fillpattern": {
             "fillmode": "overlay",
             "size": 10,
             "solidity": 0.2
            },
            "type": "scatter"
           }
          ],
          "scatter3d": [
           {
            "line": {
             "colorbar": {
              "outlinewidth": 0,
              "ticks": ""
             }
            },
            "marker": {
             "colorbar": {
              "outlinewidth": 0,
              "ticks": ""
             }
            },
            "type": "scatter3d"
           }
          ],
          "scattercarpet": [
           {
            "marker": {
             "colorbar": {
              "outlinewidth": 0,
              "ticks": ""
             }
            },
            "type": "scattercarpet"
           }
          ],
          "scattergeo": [
           {
            "marker": {
             "colorbar": {
              "outlinewidth": 0,
              "ticks": ""
             }
            },
            "type": "scattergeo"
           }
          ],
          "scattergl": [
           {
            "marker": {
             "colorbar": {
              "outlinewidth": 0,
              "ticks": ""
             }
            },
            "type": "scattergl"
           }
          ],
          "scattermapbox": [
           {
            "marker": {
             "colorbar": {
              "outlinewidth": 0,
              "ticks": ""
             }
            },
            "type": "scattermapbox"
           }
          ],
          "scatterpolar": [
           {
            "marker": {
             "colorbar": {
              "outlinewidth": 0,
              "ticks": ""
             }
            },
            "type": "scatterpolar"
           }
          ],
          "scatterpolargl": [
           {
            "marker": {
             "colorbar": {
              "outlinewidth": 0,
              "ticks": ""
             }
            },
            "type": "scatterpolargl"
           }
          ],
          "scatterternary": [
           {
            "marker": {
             "colorbar": {
              "outlinewidth": 0,
              "ticks": ""
             }
            },
            "type": "scatterternary"
           }
          ],
          "surface": [
           {
            "colorbar": {
             "outlinewidth": 0,
             "ticks": ""
            },
            "colorscale": [
             [
              0,
              "#0d0887"
             ],
             [
              0.1111111111111111,
              "#46039f"
             ],
             [
              0.2222222222222222,
              "#7201a8"
             ],
             [
              0.3333333333333333,
              "#9c179e"
             ],
             [
              0.4444444444444444,
              "#bd3786"
             ],
             [
              0.5555555555555556,
              "#d8576b"
             ],
             [
              0.6666666666666666,
              "#ed7953"
             ],
             [
              0.7777777777777778,
              "#fb9f3a"
             ],
             [
              0.8888888888888888,
              "#fdca26"
             ],
             [
              1,
              "#f0f921"
             ]
            ],
            "type": "surface"
           }
          ],
          "table": [
           {
            "cells": {
             "fill": {
              "color": "#EBF0F8"
             },
             "line": {
              "color": "white"
             }
            },
            "header": {
             "fill": {
              "color": "#C8D4E3"
             },
             "line": {
              "color": "white"
             }
            },
            "type": "table"
           }
          ]
         },
         "layout": {
          "annotationdefaults": {
           "arrowcolor": "#2a3f5f",
           "arrowhead": 0,
           "arrowwidth": 1
          },
          "autotypenumbers": "strict",
          "coloraxis": {
           "colorbar": {
            "outlinewidth": 0,
            "ticks": ""
           }
          },
          "colorscale": {
           "diverging": [
            [
             0,
             "#8e0152"
            ],
            [
             0.1,
             "#c51b7d"
            ],
            [
             0.2,
             "#de77ae"
            ],
            [
             0.3,
             "#f1b6da"
            ],
            [
             0.4,
             "#fde0ef"
            ],
            [
             0.5,
             "#f7f7f7"
            ],
            [
             0.6,
             "#e6f5d0"
            ],
            [
             0.7,
             "#b8e186"
            ],
            [
             0.8,
             "#7fbc41"
            ],
            [
             0.9,
             "#4d9221"
            ],
            [
             1,
             "#276419"
            ]
           ],
           "sequential": [
            [
             0,
             "#0d0887"
            ],
            [
             0.1111111111111111,
             "#46039f"
            ],
            [
             0.2222222222222222,
             "#7201a8"
            ],
            [
             0.3333333333333333,
             "#9c179e"
            ],
            [
             0.4444444444444444,
             "#bd3786"
            ],
            [
             0.5555555555555556,
             "#d8576b"
            ],
            [
             0.6666666666666666,
             "#ed7953"
            ],
            [
             0.7777777777777778,
             "#fb9f3a"
            ],
            [
             0.8888888888888888,
             "#fdca26"
            ],
            [
             1,
             "#f0f921"
            ]
           ],
           "sequentialminus": [
            [
             0,
             "#0d0887"
            ],
            [
             0.1111111111111111,
             "#46039f"
            ],
            [
             0.2222222222222222,
             "#7201a8"
            ],
            [
             0.3333333333333333,
             "#9c179e"
            ],
            [
             0.4444444444444444,
             "#bd3786"
            ],
            [
             0.5555555555555556,
             "#d8576b"
            ],
            [
             0.6666666666666666,
             "#ed7953"
            ],
            [
             0.7777777777777778,
             "#fb9f3a"
            ],
            [
             0.8888888888888888,
             "#fdca26"
            ],
            [
             1,
             "#f0f921"
            ]
           ]
          },
          "colorway": [
           "#636efa",
           "#EF553B",
           "#00cc96",
           "#ab63fa",
           "#FFA15A",
           "#19d3f3",
           "#FF6692",
           "#B6E880",
           "#FF97FF",
           "#FECB52"
          ],
          "font": {
           "color": "#2a3f5f"
          },
          "geo": {
           "bgcolor": "white",
           "lakecolor": "white",
           "landcolor": "#E5ECF6",
           "showlakes": true,
           "showland": true,
           "subunitcolor": "white"
          },
          "hoverlabel": {
           "align": "left"
          },
          "hovermode": "closest",
          "mapbox": {
           "style": "light"
          },
          "paper_bgcolor": "white",
          "plot_bgcolor": "#E5ECF6",
          "polar": {
           "angularaxis": {
            "gridcolor": "white",
            "linecolor": "white",
            "ticks": ""
           },
           "bgcolor": "#E5ECF6",
           "radialaxis": {
            "gridcolor": "white",
            "linecolor": "white",
            "ticks": ""
           }
          },
          "scene": {
           "xaxis": {
            "backgroundcolor": "#E5ECF6",
            "gridcolor": "white",
            "gridwidth": 2,
            "linecolor": "white",
            "showbackground": true,
            "ticks": "",
            "zerolinecolor": "white"
           },
           "yaxis": {
            "backgroundcolor": "#E5ECF6",
            "gridcolor": "white",
            "gridwidth": 2,
            "linecolor": "white",
            "showbackground": true,
            "ticks": "",
            "zerolinecolor": "white"
           },
           "zaxis": {
            "backgroundcolor": "#E5ECF6",
            "gridcolor": "white",
            "gridwidth": 2,
            "linecolor": "white",
            "showbackground": true,
            "ticks": "",
            "zerolinecolor": "white"
           }
          },
          "shapedefaults": {
           "line": {
            "color": "#2a3f5f"
           }
          },
          "ternary": {
           "aaxis": {
            "gridcolor": "white",
            "linecolor": "white",
            "ticks": ""
           },
           "baxis": {
            "gridcolor": "white",
            "linecolor": "white",
            "ticks": ""
           },
           "bgcolor": "#E5ECF6",
           "caxis": {
            "gridcolor": "white",
            "linecolor": "white",
            "ticks": ""
           }
          },
          "title": {
           "x": 0.05
          },
          "xaxis": {
           "automargin": true,
           "gridcolor": "white",
           "linecolor": "white",
           "ticks": "",
           "title": {
            "standoff": 15
           },
           "zerolinecolor": "white",
           "zerolinewidth": 2
          },
          "yaxis": {
           "automargin": true,
           "gridcolor": "white",
           "linecolor": "white",
           "ticks": "",
           "title": {
            "standoff": 15
           },
           "zerolinecolor": "white",
           "zerolinewidth": 2
          }
         }
        },
        "xaxis": {
         "anchor": "y",
         "domain": [
          0,
          1
         ],
         "title": {
          "text": "Date"
         }
        },
        "xaxis2": {
         "anchor": "y2",
         "domain": [
          0,
          1
         ],
         "title": {
          "text": "Date"
         }
        },
        "yaxis": {
         "anchor": "x",
         "domain": [
          0.625,
          1
         ],
         "title": {
          "text": "Share(%)"
         }
        },
        "yaxis2": {
         "anchor": "x2",
         "domain": [
          0,
          0.375
         ],
         "title": {
          "text": "Count"
         }
        }
       }
      }
     },
     "metadata": {},
     "output_type": "display_data"
    }
   ],
   "source": [
    "#genre specific data for crime\n",
    "\n",
    "crime_data = data.query('genre_Crime == 1')\n",
    "crime_data_grouped = data.groupby(['year'], as_index=False)['genre_Crime'].sum()\n",
    "\n",
    "fig = make_subplots(rows=2, cols=1, subplot_titles=(\"Crime Series' Share of Total Viewership\", \"Total Crime Series per Year\"))\n",
    "\n",
    "fig.add_trace(go.Scatter(x=crime_data['date'], y=crime_data['share'], mode='markers', text=crime_data['title']), row=1, col=1)\n",
    "\n",
    "fig.add_trace(go.Scatter(x=crime_data_grouped['year'], y=crime_data_grouped['genre_Crime'], mode='markers+lines'), row=2, col=1)\n",
    "\n",
    "fig.update_layout(height=800, showlegend=False)\n",
    "\n",
    "fig.update_yaxes(title='Share(%)', row=1, col=1)\n",
    "fig.update_yaxes(title='Count', row=2, col=1)\n",
    "fig.update_xaxes(title='Date')"
   ]
  },
  {
   "cell_type": "code",
   "execution_count": 74,
   "metadata": {},
   "outputs": [
    {
     "data": {
      "application/vnd.plotly.v1+json": {
       "config": {
        "plotlyServerURL": "https://plot.ly"
       },
       "data": [
        {
         "mode": "markers",
         "text": [
          "24",
          "24",
          "24",
          "24",
          "24",
          "24",
          "24",
          "24",
          "24: Legacy",
          "24: Live Another Day",
          "9-1-1",
          "A Nero Wolfe Mystery",
          "Agent X",
          "Agents of S.H.I.E.L.D.",
          "Agents of S.H.I.E.L.D.",
          "Agents of S.H.I.E.L.D.",
          "Agents of S.H.I.E.L.D.",
          "Agents of S.H.I.E.L.D.",
          "Agents of S.H.I.E.L.D.: Slingshot",
          "Alcatraz",
          "Alias",
          "Alias",
          "Alias",
          "Alias",
          "Alias",
          "Almost Human",
          "Alphas",
          "Alphas",
          "Altered Carbon",
          "American Odyssey",
          "Andromeda",
          "Andromeda",
          "Andromeda",
          "Angel",
          "Angel",
          "Angel",
          "Angel",
          "Angel",
          "Arrow: Blood Rush",
          "Babylon 5",
          "Babylon 5",
          "Babylon 5",
          "Babylon 5",
          "Babylon 5",
          "Band of Brothers",
          "Banshee",
          "Banshee",
          "Banshee",
          "Banshee",
          "Barbarians Rising",
          "Battlestar Galactica",
          "Battlestar Galactica",
          "Battlestar Galactica",
          "Battlestar Galactica",
          "Battlestar Galactica",
          "Birds of Prey",
          "Black Lightning",
          "Blade: The Series",
          "Blindspot",
          "Blindspot",
          "Blindspot",
          "Buffy the Vampire Slayer",
          "Buffy the Vampire Slayer",
          "Buffy the Vampire Slayer",
          "Buffy the Vampire Slayer",
          "Buffy the Vampire Slayer",
          "Buffy the Vampire Slayer",
          "Buffy the Vampire Slayer",
          "Burn Notice",
          "Burn Notice",
          "Burn Notice",
          "Burn Notice",
          "Burn Notice",
          "Burn Notice",
          "Burn Notice",
          "CSI: Miami",
          "CSI: Miami",
          "CSI: Miami",
          "CSI: Miami",
          "CSI: Miami",
          "CSI: Miami",
          "CSI: Miami",
          "CSI: Miami",
          "CSI: Miami",
          "CSI: Miami",
          "CSI: NY",
          "CSI: NY",
          "CSI: NY",
          "CSI: NY",
          "CSI: NY",
          "CSI: NY",
          "CSI: NY",
          "CSI: NY",
          "CSI: NY",
          "Chase",
          "Chicago Fire",
          "Chicago Fire",
          "Chicago Fire",
          "Chicago Fire",
          "Chicago Fire",
          "Chicago Fire",
          "Chicago P.D.",
          "Chicago P.D.",
          "Chicago P.D.",
          "Chicago P.D.",
          "Chicago P.D.",
          "Chosen",
          "Chuck",
          "Chuck",
          "Chuck",
          "Chuck",
          "Chuck",
          "Cloak & Dagger",
          "Cobra Kai",
          "Colony",
          "Colony",
          "Colony",
          "Condor",
          "Copper",
          "Copper",
          "Covert Affairs",
          "Covert Affairs",
          "Covert Affairs",
          "Covert Affairs",
          "Covert Affairs",
          "Crisis",
          "Crusade",
          "Daredevil",
          "Daredevil",
          "Dark Angel",
          "Dark Angel",
          "Dark Blue",
          "Day Break",
          "Defiance",
          "Defiance",
          "Defiance",
          "Designated Survivor",
          "Designated Survivor",
          "Diamond Geezer",
          "Dominion",
          "Dominion",
          "Falling Skies",
          "Falling Skies",
          "Falling Skies",
          "Falling Skies",
          "Falling Skies",
          "Flash Gordon",
          "From the Earth to the Moon",
          "Game of Thrones",
          "Game of Thrones",
          "Game of Thrones",
          "Game of Thrones",
          "Game of Thrones",
          "Game of Thrones",
          "Game of Thrones",
          "Gang Related",
          "Generation War",
          "Gotham",
          "Gotham",
          "Gotham",
          "Gotham",
          "Graceland",
          "Graceland",
          "Graceland",
          "Hawaii Five-0",
          "Hawaii Five-0",
          "Hawaii Five-0",
          "Hawaii Five-0",
          "Hawaii Five-0",
          "Hawaii Five-0",
          "Hawaii Five-0",
          "Hawaii Five-0",
          "Hawaii Five-0",
          "Hercules: The Legendary Journeys",
          "Hercules: The Legendary Journeys",
          "Hercules: The Legendary Journeys",
          "Hercules: The Legendary Journeys",
          "Hercules: The Legendary Journeys",
          "Hercules: The Legendary Journeys",
          "Intelligence",
          "Into the Badlands",
          "Into the Badlands",
          "Into the Badlands",
          "JAG",
          "JAG",
          "JAG",
          "JAG",
          "JAG",
          "Jean-Claude Van Johnson",
          "Jericho",
          "Jericho",
          "Jessica Jones",
          "Jessica Jones",
          "Justified",
          "Justified",
          "Justified",
          "Justified",
          "Justified",
          "Justified",
          "Knightfall",
          "Krypton",
          "Last Resort",
          "Legend of the Seeker",
          "Legend of the Seeker",
          "Legends",
          "Legends",
          "Legends of Tomorrow",
          "Legends of Tomorrow",
          "Legends of Tomorrow",
          "Legion",
          "Legion",
          "Lethal Weapon",
          "Lethal Weapon",
          "Lethal Weapon",
          "Longmire",
          "Longmire",
          "Longmire",
          "Longmire",
          "Longmire",
          "Longmire",
          "Luke Cage",
          "Luke Cage",
          "MacGyver",
          "MacGyver",
          "Minority Report",
          "Missing",
          "My Own Worst Enemy",
          "Neon Genesis Evangelion",
          "Nikita",
          "Nikita",
          "Nikita",
          "Nikita",
          "No Ordinary Family",
          "Off the Map",
          "Pacific Blue",
          "Parade's End",
          "Person of Interest",
          "Person of Interest",
          "Person of Interest",
          "Person of Interest",
          "Person of Interest",
          "Powers",
          "Powers",
          "Prison Break",
          "Prison Break",
          "Prison Break",
          "Prison Break",
          "Prison Break",
          "Quantum Leap",
          "Quantum Leap",
          "Quantum Leap",
          "Quantum Leap",
          "Queen of the South",
          "Queen of the South",
          "Queen of the South",
          "Revolution",
          "Revolution",
          "Rogue",
          "Runaways",
          "SEAL Team",
          "SS-GB",
          "Scorpion",
          "Scorpion",
          "Scorpion",
          "Scorpion",
          "Seven Days",
          "Shooter",
          "Shooter",
          "Shooter",
          "Six",
          "Six",
          "Star Trek: Deep Space Nine",
          "Star Trek: Deep Space Nine",
          "Star Trek: Deep Space Nine",
          "Star Trek: Deep Space Nine",
          "Star Trek: Deep Space Nine",
          "Star Trek: Deep Space Nine",
          "Star Trek: Deep Space Nine",
          "Star Trek: Discovery",
          "Star Trek: Enterprise",
          "Star Trek: Enterprise",
          "Star Trek: Enterprise",
          "Star Trek: Enterprise",
          "Stargate SG-1",
          "Stargate SG-1",
          "Stargate SG-1",
          "Stargate SG-1",
          "Stargate SG-1",
          "Stargate SG-1",
          "Stargate SG-1",
          "Stargate SG-1",
          "Stargate SG-1",
          "Stargate SG-1",
          "Stargate: Atlantis",
          "Stargate: Atlantis",
          "Stargate: Atlantis",
          "Stargate: Atlantis",
          "Stargate: Atlantis",
          "Station 19",
          "Supergirl",
          "Supergirl",
          "Supergirl",
          "Teen Wolf",
          "Teen Wolf",
          "Teen Wolf",
          "Teen Wolf",
          "Teen Wolf",
          "Teen Wolf",
          "Terminator: The Sarah Connor Chronicles",
          "Terminator: The Sarah Connor Chronicles",
          "The Bible",
          "The Blacklist: Redemption",
          "The Brave",
          "The Cape",
          "The Cape",
          "The Chicago Code",
          "The Confession",
          "The Flash",
          "The Flash",
          "The Flash",
          "The Flash",
          "The Flash",
          "The Gifted",
          "The Gifted",
          "The Glades",
          "The Glades",
          "The Glades",
          "The Glades",
          "The Huntress",
          "The Kill Point",
          "The Last Man on Earth",
          "The Last Man on Earth",
          "The Last Man on Earth",
          "The Last Man on Earth",
          "The Last Ship",
          "The Last Ship",
          "The Last Ship",
          "The Last Ship",
          "The Last Ship",
          "The Long Road Home",
          "The Pacific",
          "The Player",
          "The Purge",
          "The Tomorrow People",
          "The Unit",
          "The Unit",
          "The Unit",
          "The Unit",
          "Third Watch",
          "Third Watch",
          "Threshold",
          "Timeless",
          "Timeless",
          "Tom Clancy's Jack Ryan",
          "Torchwood",
          "Torchwood",
          "Torchwood",
          "Torchwood",
          "Training Day",
          "True Justice",
          "True Justice",
          "Tyrant",
          "Tyrant",
          "Tyrant",
          "Van Helsing",
          "Van Helsing",
          "Vegas",
          "Vikings",
          "Vikings",
          "Vikings",
          "Vikings",
          "Vikings",
          "Wynonna Earp",
          "Wynonna Earp",
          "Wynonna Earp",
          "X-Men: Evolution",
          "XIII: The Series",
          "Xena: Warrior Princess",
          "Xena: Warrior Princess",
          "Xena: Warrior Princess",
          "Xena: Warrior Princess",
          "Xena: Warrior Princess",
          "Xena: Warrior Princess",
          "Z Nation",
          "Z Nation",
          "Z Nation",
          "Z Nation"
         ],
         "type": "scatter",
         "x": [
          "2002-02-16T00:00:00",
          "2003-02-09T00:00:00",
          "2004-02-09T00:00:00",
          "2005-03-08T00:00:00",
          "2006-03-10T00:00:00",
          "2007-03-08T00:00:00",
          "2009-03-10T00:00:00",
          "2010-03-17T00:00:00",
          "2017-03-05T00:00:00",
          "2014-06-06T00:00:00",
          "2018-02-09T00:00:00",
          "2001-04-29T00:00:00",
          "2015-12-02T00:00:00",
          "2014-01-15T00:00:00",
          "2015-01-25T00:00:00",
          "2016-01-30T00:00:00",
          "2017-01-22T00:00:00",
          "2018-02-22T00:00:00",
          "2016-12-13T00:00:00",
          "2012-02-20T00:00:00",
          "2002-01-09T00:00:00",
          "2003-01-19T00:00:00",
          "2004-01-21T00:00:00",
          "2005-03-21T00:00:00",
          "2006-02-03T00:00:00",
          "2013-12-28T00:00:00",
          "2011-08-16T00:00:00",
          "2012-09-06T00:00:00",
          "2018-02-02T00:00:00",
          "2015-05-17T00:00:00",
          "2001-01-12T00:00:00",
          "2002-01-01T00:00:00",
          "2003-02-28T00:00:00",
          "2000-01-28T00:00:00",
          "2001-01-14T00:00:00",
          "2002-01-05T00:00:00",
          "2003-01-29T00:00:00",
          "2004-01-23T00:00:00",
          "2013-11-06T00:00:00",
          "1994-05-12T00:00:00",
          "1995-03-10T00:00:00",
          "1996-04-18T00:00:00",
          "1997-04-20T00:00:00",
          "1998-05-17T00:00:00",
          "2001-10-04T00:00:00",
          "2013-02-11T00:00:00",
          "2014-02-10T00:00:00",
          "2015-02-09T00:00:00",
          "2016-04-25T00:00:00",
          "2016-06-06T00:00:00",
          "2003-12-08T00:00:00",
          "2005-02-18T00:00:00",
          "2005-11-12T00:00:00",
          "2006-12-25T00:00:00",
          "2008-09-27T00:00:00",
          "2002-10-09T00:00:00",
          "2018-03-03T00:00:00",
          "2006-07-05T00:00:00",
          "2016-01-27T00:00:00",
          "2017-01-10T00:00:00",
          "2018-02-04T00:00:00",
          "1997-04-14T00:00:00",
          "1997-12-31T00:00:00",
          "1999-01-29T00:00:00",
          "2000-01-19T00:00:00",
          "2001-01-12T00:00:00",
          "2002-01-29T00:00:00",
          "2003-01-18T00:00:00",
          "2007-08-08T00:00:00",
          "2008-10-30T00:00:00",
          "2009-10-10T00:00:00",
          "2010-08-26T00:00:00",
          "2011-09-08T00:00:00",
          "2012-09-17T00:00:00",
          "2013-07-23T00:00:00",
          "2003-01-12T00:00:00",
          "2004-01-18T00:00:00",
          "2005-01-14T00:00:00",
          "2006-01-16T00:00:00",
          "2007-01-11T00:00:00",
          "2008-01-10T00:00:00",
          "2009-01-17T00:00:00",
          "2010-01-15T00:00:00",
          "2011-01-17T00:00:00",
          "2011-12-30T00:00:00",
          "2005-01-15T00:00:00",
          "2006-01-18T00:00:00",
          "2007-01-06T00:00:00",
          "2008-01-11T00:00:00",
          "2009-01-24T00:00:00",
          "2010-01-14T00:00:00",
          "2011-01-08T00:00:00",
          "2012-01-02T00:00:00",
          "2012-12-07T00:00:00",
          "2010-09-20T00:00:00",
          "2013-01-22T00:00:00",
          "2014-01-13T00:00:00",
          "2015-01-12T00:00:00",
          "2016-01-24T00:00:00",
          "2017-01-25T00:00:00",
          "2018-01-31T00:00:00",
          "2014-03-13T00:00:00",
          "2015-01-18T00:00:00",
          "2016-01-20T00:00:00",
          "2017-01-18T00:00:00",
          "2018-01-16T00:00:00",
          "2013-01-17T00:00:00",
          "2007-11-11T00:00:00",
          "2009-01-12T00:00:00",
          "2010-03-14T00:00:00",
          "2011-01-13T00:00:00",
          "2011-12-18T00:00:00",
          "2018-07-02T00:00:00",
          "2018-05-02T00:00:00",
          "2016-02-14T00:00:00",
          "2017-02-23T00:00:00",
          "2018-06-13T00:00:00",
          "2018-07-11T00:00:00",
          "2012-09-19T00:00:00",
          "2013-06-23T00:00:00",
          "2010-08-16T00:00:00",
          "2011-08-27T00:00:00",
          "2012-09-13T00:00:00",
          "2013-09-15T00:00:00",
          "2014-08-23T00:00:00",
          "2014-05-03T00:00:00",
          "1999-07-04T00:00:00",
          "2015-04-10T00:00:00",
          "2016-03-18T00:00:00",
          "2001-01-30T00:00:00",
          "2002-01-27T00:00:00",
          "2009-07-15T00:00:00",
          "2007-01-03T00:00:00",
          "2013-05-23T00:00:00",
          "2014-07-28T00:00:00",
          "2015-07-17T00:00:00",
          "2017-01-25T00:00:00",
          "2018-01-16T00:00:00",
          "2005-03-20T00:00:00",
          "2014-07-13T00:00:00",
          "2015-08-20T00:00:00",
          "2011-07-13T00:00:00",
          "2012-07-14T00:00:00",
          "2013-07-04T00:00:00",
          "2014-07-29T00:00:00",
          "2015-07-29T00:00:00",
          "2007-08-17T00:00:00",
          "1998-04-24T00:00:00",
          "2011-05-18T00:00:00",
          "2012-05-02T00:00:00",
          "2013-05-02T00:00:00",
          "2014-05-09T00:00:00",
          "2015-05-13T00:00:00",
          "2016-05-25T00:00:00",
          "2017-08-06T00:00:00",
          "2014-07-03T00:00:00",
          "2013-03-18T00:00:00",
          "2015-01-02T00:00:00",
          "2016-01-17T00:00:00",
          "2017-01-19T00:00:00",
          "2018-01-16T00:00:00",
          "2013-07-23T00:00:00",
          "2014-07-28T00:00:00",
          "2015-07-04T00:00:00",
          "2011-01-04T00:00:00",
          "2011-12-31T00:00:00",
          "2013-01-15T00:00:00",
          "2014-01-08T00:00:00",
          "2015-01-19T00:00:00",
          "2016-01-22T00:00:00",
          "2017-01-11T00:00:00",
          "2018-01-21T00:00:00",
          "2018-09-28T00:00:00",
          "1995-02-27T00:00:00",
          "1996-01-04T00:00:00",
          "1997-01-14T00:00:00",
          "1997-12-29T00:00:00",
          "1999-01-06T00:00:00",
          "1999-10-17T00:00:00",
          "2014-02-17T00:00:00",
          "2015-12-02T00:00:00",
          "2017-04-19T00:00:00",
          "2018-05-19T00:00:00",
          "1995-11-13T00:00:00",
          "1997-01-03T00:00:00",
          "1997-10-28T00:00:00",
          "2003-04-25T00:00:00",
          "2005-04-29T00:00:00",
          "2017-09-25T00:00:00",
          "2007-01-07T00:00:00",
          "2008-03-04T00:00:00",
          "2015-11-20T00:00:00",
          "2018-03-08T00:00:00",
          "2010-04-27T00:00:00",
          "2011-03-23T00:00:00",
          "2012-02-28T00:00:00",
          "2013-02-19T00:00:00",
          "2014-02-21T00:00:00",
          "2015-03-03T00:00:00",
          "2018-01-06T00:00:00",
          "2018-04-21T00:00:00",
          "2012-11-20T00:00:00",
          "2009-02-06T00:00:00",
          "2010-02-15T00:00:00",
          "2014-09-12T00:00:00",
          "2015-12-07T00:00:00",
          "2016-03-20T00:00:00",
          "2017-01-07T00:00:00",
          "2018-01-08T00:00:00",
          "2017-03-04T00:00:00",
          "2018-05-11T00:00:00",
          "2016-12-17T00:00:00",
          "2018-01-09T00:00:00",
          "2018-10-02T00:00:00",
          "2012-07-05T00:00:00",
          "2013-07-10T00:00:00",
          "2014-07-03T00:00:00",
          "2015-09-10T00:00:00",
          "2016-09-23T00:00:00",
          "2017-11-17T00:00:00",
          "2016-09-30T00:00:00",
          "2018-06-22T00:00:00",
          "2016-12-22T00:00:00",
          "2018-01-09T00:00:00",
          "2015-10-24T00:00:00",
          "2012-04-15T00:00:00",
          "2008-10-13T00:00:00",
          "1996-06-20T00:00:00",
          "2011-01-04T00:00:00",
          "2012-01-15T00:00:00",
          "2013-02-12T00:00:00",
          "2013-12-09T00:00:00",
          "2011-01-09T00:00:00",
          "2011-03-04T00:00:00",
          "1997-09-28T00:00:00",
          "2013-02-26T00:00:00",
          "2012-01-14T00:00:00",
          "2013-01-10T00:00:00",
          "2014-01-10T00:00:00",
          "2015-01-07T00:00:00",
          "2016-05-24T00:00:00",
          "2015-04-10T00:00:00",
          "2016-05-31T00:00:00",
          "2005-12-26T00:00:00",
          "2006-12-04T00:00:00",
          "2007-11-26T00:00:00",
          "2008-12-28T00:00:00",
          "2017-05-02T00:00:00",
          "1990-01-03T00:00:00",
          "1991-01-24T00:00:00",
          "1992-01-07T00:00:00",
          "1993-01-02T00:00:00",
          "2016-08-04T00:00:00",
          "2017-07-20T00:00:00",
          "2018-07-02T00:00:00",
          "2013-01-25T00:00:00",
          "2014-01-15T00:00:00",
          "2013-04-03T00:00:00",
          "2017-12-10T00:00:00",
          "2018-01-01T00:00:00",
          "2017-03-05T00:00:00",
          "2014-12-24T00:00:00",
          "2016-01-01T00:00:00",
          "2017-01-13T00:00:00",
          "2017-12-26T00:00:00",
          "1998-10-07T00:00:00",
          "2016-12-16T00:00:00",
          "2017-08-11T00:00:00",
          "2018-08-02T00:00:00",
          "2017-02-11T00:00:00",
          "2018-07-01T00:00:00",
          "1993-03-25T00:00:00",
          "1994-01-27T00:00:00",
          "1995-01-29T00:00:00",
          "1996-02-02T00:00:00",
          "1997-02-02T00:00:00",
          "1998-02-04T00:00:00",
          "1999-01-31T00:00:00",
          "2017-11-25T00:00:00",
          "2002-01-18T00:00:00",
          "2003-01-16T00:00:00",
          "2004-01-17T00:00:00",
          "2005-01-24T00:00:00",
          "1997-11-02T00:00:00",
          "1998-10-25T00:00:00",
          "1999-10-26T00:00:00",
          "2000-10-14T00:00:00",
          "2001-11-26T00:00:00",
          "2002-10-30T00:00:00",
          "2003-10-30T00:00:00",
          "2004-11-15T00:00:00",
          "2005-11-11T00:00:00",
          "2006-12-31T00:00:00",
          "2004-11-23T00:00:00",
          "2005-11-12T00:00:00",
          "2006-12-24T00:00:00",
          "2007-12-18T00:00:00",
          "2008-10-04T00:00:00",
          "2018-04-16T00:00:00",
          "2016-01-17T00:00:00",
          "2017-01-29T00:00:00",
          "2018-02-11T00:00:00",
          "2011-07-08T00:00:00",
          "2012-07-06T00:00:00",
          "2013-10-28T00:00:00",
          "2014-07-31T00:00:00",
          "2015-10-30T00:00:00",
          "2017-04-26T00:00:00",
          "2008-02-08T00:00:00",
          "2008-12-22T00:00:00",
          "2013-03-17T00:00:00",
          "2017-03-19T00:00:00",
          "2017-11-13T00:00:00",
          "1996-09-09T00:00:00",
          "2011-02-04T00:00:00",
          "2011-02-26T00:00:00",
          "2011-03-14T00:00:00",
          "2015-01-29T00:00:00",
          "2016-01-28T00:00:00",
          "2017-01-27T00:00:00",
          "2018-01-28T00:00:00",
          "2018-10-09T00:00:00",
          "2017-11-14T00:00:00",
          "2018-09-28T00:00:00",
          "2010-08-15T00:00:00",
          "2011-07-10T00:00:00",
          "2012-06-03T00:00:00",
          "2013-07-11T00:00:00",
          "2000-03-07T00:00:00",
          "2007-07-22T00:00:00",
          "2015-03-31T00:00:00",
          "2016-01-13T00:00:00",
          "2017-01-19T00:00:00",
          "2018-01-18T00:00:00",
          "2014-07-23T00:00:00",
          "2015-07-26T00:00:00",
          "2016-07-27T00:00:00",
          "2017-09-07T00:00:00",
          "2018-09-16T00:00:00",
          "2017-11-07T00:00:00",
          "2010-04-14T00:00:00",
          "2015-10-22T00:00:00",
          "2018-09-18T00:00:00",
          "2014-01-20T00:00:00",
          "2006-04-15T00:00:00",
          "2007-01-07T00:00:00",
          "2007-10-31T00:00:00",
          "2009-01-09T00:00:00",
          "2000-02-17T00:00:00",
          "2005-05-06T00:00:00",
          "2005-09-17T00:00:00",
          "2016-12-09T00:00:00",
          "2018-04-18T00:00:00",
          "2018-08-31T00:00:00",
          "2006-11-26T00:00:00",
          "2008-02-23T00:00:00",
          "2009-07-22T00:00:00",
          "2011-08-08T00:00:00",
          "2017-02-19T00:00:00",
          "2011-09-25T00:00:00",
          "2012-04-01T00:00:00",
          "2014-07-25T00:00:00",
          "2015-07-24T00:00:00",
          "2016-08-10T00:00:00",
          "2016-10-28T00:00:00",
          "2017-11-15T00:00:00",
          "2012-10-09T00:00:00",
          "2013-03-31T00:00:00",
          "2014-03-30T00:00:00",
          "2015-03-22T00:00:00",
          "2016-08-10T00:00:00",
          "2017-12-24T00:00:00",
          "2016-05-13T00:00:00",
          "2017-07-17T00:00:00",
          "2018-07-06T00:00:00",
          "2000-12-10T00:00:00",
          "2012-06-29T00:00:00",
          "1996-01-12T00:00:00",
          "1997-01-16T00:00:00",
          "1998-01-09T00:00:00",
          "1999-01-16T00:00:00",
          "2000-01-20T00:00:00",
          "2001-01-28T00:00:00",
          "2014-10-24T00:00:00",
          "2015-10-30T00:00:00",
          "2016-11-02T00:00:00",
          "2017-11-02T00:00:00"
         ],
         "xaxis": "x",
         "y": [
          6.67,
          7.13,
          5.88,
          3.48,
          2.15,
          2.23,
          2.04,
          1.55,
          0.22,
          0.63,
          0.38,
          0.08,
          0.06,
          2.94,
          2.07,
          1.33,
          1.44,
          2.42,
          0.03,
          0.54,
          1.82,
          2.08,
          1.79,
          0.98,
          0.48,
          0.49,
          0.23,
          0.2,
          1.93,
          0.07,
          1.03,
          0.47,
          0.1,
          9.85,
          6.93,
          3.99,
          5.6,
          6.72,
          0.01,
          6.13,
          5.83,
          6.09,
          3.1,
          4.18,
          13.26,
          0.66,
          0.48,
          0.51,
          0.25,
          0,
          0.42,
          3.49,
          4.66,
          2.78,
          3.11,
          0.03,
          0.69,
          0.08,
          0.73,
          0.54,
          0.59,
          11.7,
          19.41,
          17.12,
          16.19,
          11.99,
          8.45,
          9.89,
          0.67,
          0.8,
          0.6,
          0.43,
          0.29,
          0.34,
          0.17,
          2.04,
          1.55,
          0.87,
          0.53,
          0.52,
          0.52,
          0.48,
          0.37,
          0.24,
          0.22,
          0.82,
          0.48,
          0.56,
          0.51,
          0.46,
          0.33,
          0.22,
          0.21,
          0.2,
          0.01,
          0.37,
          0.24,
          0.21,
          0.15,
          0.18,
          0.27,
          0.22,
          0.26,
          0.17,
          0.2,
          0.31,
          0.01,
          1.66,
          2.41,
          1.54,
          1.23,
          0.71,
          0.51,
          0.55,
          0.21,
          0.21,
          0.29,
          0.16,
          0.11,
          0.01,
          0.22,
          0.17,
          0.22,
          0.11,
          0.07,
          0.12,
          0.3,
          3.49,
          2.33,
          2.32,
          1.11,
          0.01,
          0.19,
          0.31,
          0.16,
          0.13,
          0.95,
          0.83,
          0.02,
          0.2,
          0.19,
          0.53,
          0.52,
          0.29,
          0.25,
          0.18,
          0.04,
          1.7,
          13.62,
          14.2,
          11.14,
          11.07,
          9.63,
          15.18,
          10.53,
          0.08,
          0.07,
          2.9,
          1.54,
          1.28,
          1.94,
          0.12,
          0.07,
          0.01,
          0.79,
          0.63,
          0.46,
          0.34,
          0.33,
          0.23,
          0.27,
          0.43,
          0.01,
          1.88,
          2.62,
          1.32,
          1.31,
          1.14,
          0.39,
          0.18,
          0.24,
          0.22,
          0.22,
          1.11,
          0.04,
          0.31,
          0.1,
          0.03,
          0.23,
          1.53,
          0.52,
          2.06,
          1.86,
          1.17,
          0.7,
          0.75,
          0.46,
          0.35,
          0.37,
          0.32,
          0.4,
          0.35,
          0.79,
          0.47,
          0.14,
          0.06,
          0.99,
          1,
          1.8,
          1.09,
          1.1,
          0.43,
          0.78,
          0.19,
          0.62,
          0.44,
          0.3,
          0.31,
          0.1,
          0.09,
          1.07,
          0.99,
          0.21,
          0.33,
          0.11,
          0.13,
          0.01,
          5.92,
          0.79,
          0.72,
          0.36,
          0.11,
          0.2,
          0.07,
          0.28,
          0.06,
          4.84,
          2.45,
          2.47,
          2.28,
          1.28,
          0.08,
          0.01,
          11.18,
          5.08,
          3.12,
          5.84,
          1.15,
          5.19,
          5.57,
          16.21,
          7.08,
          0.08,
          0.06,
          0.03,
          0.85,
          0.57,
          0.01,
          0.29,
          0.48,
          0.03,
          0.62,
          0.29,
          0.26,
          0.17,
          0.24,
          0.2,
          0.11,
          0.22,
          0.09,
          0.08,
          37.11,
          15.36,
          16.5,
          17.12,
          9.87,
          16.63,
          8.09,
          1.82,
          5.54,
          6.51,
          5.1,
          3.08,
          8.32,
          11.13,
          5.8,
          5.98,
          4.44,
          2.93,
          4.28,
          3.34,
          1.92,
          1.33,
          3.6,
          2,
          1.21,
          1.28,
          1.42,
          0.17,
          1.42,
          1.3,
          1.9,
          0.95,
          0.9,
          1.33,
          0.45,
          0.57,
          0.46,
          1.06,
          1.95,
          0.14,
          0.1,
          0.17,
          0.12,
          0.09,
          0.04,
          0.01,
          5.03,
          2.84,
          2.66,
          3.8,
          0.14,
          0.47,
          0.07,
          0.15,
          0.04,
          0.01,
          0.01,
          0.04,
          0.01,
          0.45,
          0.3,
          0.25,
          0.39,
          0.43,
          0.38,
          0.24,
          0.16,
          0.12,
          0.03,
          1.05,
          0.08,
          0.15,
          0.37,
          0.26,
          0.38,
          0.17,
          0.28,
          0.09,
          0.02,
          0.06,
          0.56,
          0.52,
          0.82,
          1.22,
          1.15,
          0.55,
          0.41,
          0.03,
          0.04,
          0.02,
          0.17,
          0.12,
          0.05,
          0.12,
          0.08,
          0.05,
          1.6,
          1.38,
          1.17,
          1.79,
          0.82,
          0.44,
          0.29,
          0.17,
          0.26,
          0.01,
          5.4,
          2.46,
          3.88,
          2.07,
          1.98,
          1.73,
          0.42,
          0.26,
          0.15,
          0.12
         ],
         "yaxis": "y"
        },
        {
         "mode": "markers+lines",
         "type": "scatter",
         "x": [
          1990,
          1991,
          1992,
          1993,
          1994,
          1995,
          1996,
          1997,
          1998,
          1999,
          2000,
          2001,
          2002,
          2003,
          2004,
          2005,
          2006,
          2007,
          2008,
          2009,
          2010,
          2011,
          2012,
          2013,
          2014,
          2015,
          2016,
          2017,
          2018
         ],
         "xaxis": "x2",
         "y": [
          1,
          1,
          1,
          2,
          2,
          4,
          6,
          11,
          6,
          7,
          7,
          8,
          9,
          10,
          7,
          14,
          11,
          13,
          11,
          9,
          11,
          23,
          20,
          26,
          27,
          30,
          32,
          38,
          40
         ],
         "yaxis": "y2"
        }
       ],
       "layout": {
        "annotations": [
         {
          "font": {
           "size": 16
          },
          "showarrow": false,
          "text": "Action Series' Share of Total Viewership",
          "x": 0.5,
          "xanchor": "center",
          "xref": "paper",
          "y": 1,
          "yanchor": "bottom",
          "yref": "paper"
         },
         {
          "font": {
           "size": 16
          },
          "showarrow": false,
          "text": "Total Action Series per Year",
          "x": 0.5,
          "xanchor": "center",
          "xref": "paper",
          "y": 0.375,
          "yanchor": "bottom",
          "yref": "paper"
         }
        ],
        "height": 800,
        "showlegend": false,
        "template": {
         "data": {
          "bar": [
           {
            "error_x": {
             "color": "#2a3f5f"
            },
            "error_y": {
             "color": "#2a3f5f"
            },
            "marker": {
             "line": {
              "color": "#E5ECF6",
              "width": 0.5
             },
             "pattern": {
              "fillmode": "overlay",
              "size": 10,
              "solidity": 0.2
             }
            },
            "type": "bar"
           }
          ],
          "barpolar": [
           {
            "marker": {
             "line": {
              "color": "#E5ECF6",
              "width": 0.5
             },
             "pattern": {
              "fillmode": "overlay",
              "size": 10,
              "solidity": 0.2
             }
            },
            "type": "barpolar"
           }
          ],
          "carpet": [
           {
            "aaxis": {
             "endlinecolor": "#2a3f5f",
             "gridcolor": "white",
             "linecolor": "white",
             "minorgridcolor": "white",
             "startlinecolor": "#2a3f5f"
            },
            "baxis": {
             "endlinecolor": "#2a3f5f",
             "gridcolor": "white",
             "linecolor": "white",
             "minorgridcolor": "white",
             "startlinecolor": "#2a3f5f"
            },
            "type": "carpet"
           }
          ],
          "choropleth": [
           {
            "colorbar": {
             "outlinewidth": 0,
             "ticks": ""
            },
            "type": "choropleth"
           }
          ],
          "contour": [
           {
            "colorbar": {
             "outlinewidth": 0,
             "ticks": ""
            },
            "colorscale": [
             [
              0,
              "#0d0887"
             ],
             [
              0.1111111111111111,
              "#46039f"
             ],
             [
              0.2222222222222222,
              "#7201a8"
             ],
             [
              0.3333333333333333,
              "#9c179e"
             ],
             [
              0.4444444444444444,
              "#bd3786"
             ],
             [
              0.5555555555555556,
              "#d8576b"
             ],
             [
              0.6666666666666666,
              "#ed7953"
             ],
             [
              0.7777777777777778,
              "#fb9f3a"
             ],
             [
              0.8888888888888888,
              "#fdca26"
             ],
             [
              1,
              "#f0f921"
             ]
            ],
            "type": "contour"
           }
          ],
          "contourcarpet": [
           {
            "colorbar": {
             "outlinewidth": 0,
             "ticks": ""
            },
            "type": "contourcarpet"
           }
          ],
          "heatmap": [
           {
            "colorbar": {
             "outlinewidth": 0,
             "ticks": ""
            },
            "colorscale": [
             [
              0,
              "#0d0887"
             ],
             [
              0.1111111111111111,
              "#46039f"
             ],
             [
              0.2222222222222222,
              "#7201a8"
             ],
             [
              0.3333333333333333,
              "#9c179e"
             ],
             [
              0.4444444444444444,
              "#bd3786"
             ],
             [
              0.5555555555555556,
              "#d8576b"
             ],
             [
              0.6666666666666666,
              "#ed7953"
             ],
             [
              0.7777777777777778,
              "#fb9f3a"
             ],
             [
              0.8888888888888888,
              "#fdca26"
             ],
             [
              1,
              "#f0f921"
             ]
            ],
            "type": "heatmap"
           }
          ],
          "heatmapgl": [
           {
            "colorbar": {
             "outlinewidth": 0,
             "ticks": ""
            },
            "colorscale": [
             [
              0,
              "#0d0887"
             ],
             [
              0.1111111111111111,
              "#46039f"
             ],
             [
              0.2222222222222222,
              "#7201a8"
             ],
             [
              0.3333333333333333,
              "#9c179e"
             ],
             [
              0.4444444444444444,
              "#bd3786"
             ],
             [
              0.5555555555555556,
              "#d8576b"
             ],
             [
              0.6666666666666666,
              "#ed7953"
             ],
             [
              0.7777777777777778,
              "#fb9f3a"
             ],
             [
              0.8888888888888888,
              "#fdca26"
             ],
             [
              1,
              "#f0f921"
             ]
            ],
            "type": "heatmapgl"
           }
          ],
          "histogram": [
           {
            "marker": {
             "pattern": {
              "fillmode": "overlay",
              "size": 10,
              "solidity": 0.2
             }
            },
            "type": "histogram"
           }
          ],
          "histogram2d": [
           {
            "colorbar": {
             "outlinewidth": 0,
             "ticks": ""
            },
            "colorscale": [
             [
              0,
              "#0d0887"
             ],
             [
              0.1111111111111111,
              "#46039f"
             ],
             [
              0.2222222222222222,
              "#7201a8"
             ],
             [
              0.3333333333333333,
              "#9c179e"
             ],
             [
              0.4444444444444444,
              "#bd3786"
             ],
             [
              0.5555555555555556,
              "#d8576b"
             ],
             [
              0.6666666666666666,
              "#ed7953"
             ],
             [
              0.7777777777777778,
              "#fb9f3a"
             ],
             [
              0.8888888888888888,
              "#fdca26"
             ],
             [
              1,
              "#f0f921"
             ]
            ],
            "type": "histogram2d"
           }
          ],
          "histogram2dcontour": [
           {
            "colorbar": {
             "outlinewidth": 0,
             "ticks": ""
            },
            "colorscale": [
             [
              0,
              "#0d0887"
             ],
             [
              0.1111111111111111,
              "#46039f"
             ],
             [
              0.2222222222222222,
              "#7201a8"
             ],
             [
              0.3333333333333333,
              "#9c179e"
             ],
             [
              0.4444444444444444,
              "#bd3786"
             ],
             [
              0.5555555555555556,
              "#d8576b"
             ],
             [
              0.6666666666666666,
              "#ed7953"
             ],
             [
              0.7777777777777778,
              "#fb9f3a"
             ],
             [
              0.8888888888888888,
              "#fdca26"
             ],
             [
              1,
              "#f0f921"
             ]
            ],
            "type": "histogram2dcontour"
           }
          ],
          "mesh3d": [
           {
            "colorbar": {
             "outlinewidth": 0,
             "ticks": ""
            },
            "type": "mesh3d"
           }
          ],
          "parcoords": [
           {
            "line": {
             "colorbar": {
              "outlinewidth": 0,
              "ticks": ""
             }
            },
            "type": "parcoords"
           }
          ],
          "pie": [
           {
            "automargin": true,
            "type": "pie"
           }
          ],
          "scatter": [
           {
            "fillpattern": {
             "fillmode": "overlay",
             "size": 10,
             "solidity": 0.2
            },
            "type": "scatter"
           }
          ],
          "scatter3d": [
           {
            "line": {
             "colorbar": {
              "outlinewidth": 0,
              "ticks": ""
             }
            },
            "marker": {
             "colorbar": {
              "outlinewidth": 0,
              "ticks": ""
             }
            },
            "type": "scatter3d"
           }
          ],
          "scattercarpet": [
           {
            "marker": {
             "colorbar": {
              "outlinewidth": 0,
              "ticks": ""
             }
            },
            "type": "scattercarpet"
           }
          ],
          "scattergeo": [
           {
            "marker": {
             "colorbar": {
              "outlinewidth": 0,
              "ticks": ""
             }
            },
            "type": "scattergeo"
           }
          ],
          "scattergl": [
           {
            "marker": {
             "colorbar": {
              "outlinewidth": 0,
              "ticks": ""
             }
            },
            "type": "scattergl"
           }
          ],
          "scattermapbox": [
           {
            "marker": {
             "colorbar": {
              "outlinewidth": 0,
              "ticks": ""
             }
            },
            "type": "scattermapbox"
           }
          ],
          "scatterpolar": [
           {
            "marker": {
             "colorbar": {
              "outlinewidth": 0,
              "ticks": ""
             }
            },
            "type": "scatterpolar"
           }
          ],
          "scatterpolargl": [
           {
            "marker": {
             "colorbar": {
              "outlinewidth": 0,
              "ticks": ""
             }
            },
            "type": "scatterpolargl"
           }
          ],
          "scatterternary": [
           {
            "marker": {
             "colorbar": {
              "outlinewidth": 0,
              "ticks": ""
             }
            },
            "type": "scatterternary"
           }
          ],
          "surface": [
           {
            "colorbar": {
             "outlinewidth": 0,
             "ticks": ""
            },
            "colorscale": [
             [
              0,
              "#0d0887"
             ],
             [
              0.1111111111111111,
              "#46039f"
             ],
             [
              0.2222222222222222,
              "#7201a8"
             ],
             [
              0.3333333333333333,
              "#9c179e"
             ],
             [
              0.4444444444444444,
              "#bd3786"
             ],
             [
              0.5555555555555556,
              "#d8576b"
             ],
             [
              0.6666666666666666,
              "#ed7953"
             ],
             [
              0.7777777777777778,
              "#fb9f3a"
             ],
             [
              0.8888888888888888,
              "#fdca26"
             ],
             [
              1,
              "#f0f921"
             ]
            ],
            "type": "surface"
           }
          ],
          "table": [
           {
            "cells": {
             "fill": {
              "color": "#EBF0F8"
             },
             "line": {
              "color": "white"
             }
            },
            "header": {
             "fill": {
              "color": "#C8D4E3"
             },
             "line": {
              "color": "white"
             }
            },
            "type": "table"
           }
          ]
         },
         "layout": {
          "annotationdefaults": {
           "arrowcolor": "#2a3f5f",
           "arrowhead": 0,
           "arrowwidth": 1
          },
          "autotypenumbers": "strict",
          "coloraxis": {
           "colorbar": {
            "outlinewidth": 0,
            "ticks": ""
           }
          },
          "colorscale": {
           "diverging": [
            [
             0,
             "#8e0152"
            ],
            [
             0.1,
             "#c51b7d"
            ],
            [
             0.2,
             "#de77ae"
            ],
            [
             0.3,
             "#f1b6da"
            ],
            [
             0.4,
             "#fde0ef"
            ],
            [
             0.5,
             "#f7f7f7"
            ],
            [
             0.6,
             "#e6f5d0"
            ],
            [
             0.7,
             "#b8e186"
            ],
            [
             0.8,
             "#7fbc41"
            ],
            [
             0.9,
             "#4d9221"
            ],
            [
             1,
             "#276419"
            ]
           ],
           "sequential": [
            [
             0,
             "#0d0887"
            ],
            [
             0.1111111111111111,
             "#46039f"
            ],
            [
             0.2222222222222222,
             "#7201a8"
            ],
            [
             0.3333333333333333,
             "#9c179e"
            ],
            [
             0.4444444444444444,
             "#bd3786"
            ],
            [
             0.5555555555555556,
             "#d8576b"
            ],
            [
             0.6666666666666666,
             "#ed7953"
            ],
            [
             0.7777777777777778,
             "#fb9f3a"
            ],
            [
             0.8888888888888888,
             "#fdca26"
            ],
            [
             1,
             "#f0f921"
            ]
           ],
           "sequentialminus": [
            [
             0,
             "#0d0887"
            ],
            [
             0.1111111111111111,
             "#46039f"
            ],
            [
             0.2222222222222222,
             "#7201a8"
            ],
            [
             0.3333333333333333,
             "#9c179e"
            ],
            [
             0.4444444444444444,
             "#bd3786"
            ],
            [
             0.5555555555555556,
             "#d8576b"
            ],
            [
             0.6666666666666666,
             "#ed7953"
            ],
            [
             0.7777777777777778,
             "#fb9f3a"
            ],
            [
             0.8888888888888888,
             "#fdca26"
            ],
            [
             1,
             "#f0f921"
            ]
           ]
          },
          "colorway": [
           "#636efa",
           "#EF553B",
           "#00cc96",
           "#ab63fa",
           "#FFA15A",
           "#19d3f3",
           "#FF6692",
           "#B6E880",
           "#FF97FF",
           "#FECB52"
          ],
          "font": {
           "color": "#2a3f5f"
          },
          "geo": {
           "bgcolor": "white",
           "lakecolor": "white",
           "landcolor": "#E5ECF6",
           "showlakes": true,
           "showland": true,
           "subunitcolor": "white"
          },
          "hoverlabel": {
           "align": "left"
          },
          "hovermode": "closest",
          "mapbox": {
           "style": "light"
          },
          "paper_bgcolor": "white",
          "plot_bgcolor": "#E5ECF6",
          "polar": {
           "angularaxis": {
            "gridcolor": "white",
            "linecolor": "white",
            "ticks": ""
           },
           "bgcolor": "#E5ECF6",
           "radialaxis": {
            "gridcolor": "white",
            "linecolor": "white",
            "ticks": ""
           }
          },
          "scene": {
           "xaxis": {
            "backgroundcolor": "#E5ECF6",
            "gridcolor": "white",
            "gridwidth": 2,
            "linecolor": "white",
            "showbackground": true,
            "ticks": "",
            "zerolinecolor": "white"
           },
           "yaxis": {
            "backgroundcolor": "#E5ECF6",
            "gridcolor": "white",
            "gridwidth": 2,
            "linecolor": "white",
            "showbackground": true,
            "ticks": "",
            "zerolinecolor": "white"
           },
           "zaxis": {
            "backgroundcolor": "#E5ECF6",
            "gridcolor": "white",
            "gridwidth": 2,
            "linecolor": "white",
            "showbackground": true,
            "ticks": "",
            "zerolinecolor": "white"
           }
          },
          "shapedefaults": {
           "line": {
            "color": "#2a3f5f"
           }
          },
          "ternary": {
           "aaxis": {
            "gridcolor": "white",
            "linecolor": "white",
            "ticks": ""
           },
           "baxis": {
            "gridcolor": "white",
            "linecolor": "white",
            "ticks": ""
           },
           "bgcolor": "#E5ECF6",
           "caxis": {
            "gridcolor": "white",
            "linecolor": "white",
            "ticks": ""
           }
          },
          "title": {
           "x": 0.05
          },
          "xaxis": {
           "automargin": true,
           "gridcolor": "white",
           "linecolor": "white",
           "ticks": "",
           "title": {
            "standoff": 15
           },
           "zerolinecolor": "white",
           "zerolinewidth": 2
          },
          "yaxis": {
           "automargin": true,
           "gridcolor": "white",
           "linecolor": "white",
           "ticks": "",
           "title": {
            "standoff": 15
           },
           "zerolinecolor": "white",
           "zerolinewidth": 2
          }
         }
        },
        "xaxis": {
         "anchor": "y",
         "domain": [
          0,
          1
         ],
         "title": {
          "text": "Date"
         }
        },
        "xaxis2": {
         "anchor": "y2",
         "domain": [
          0,
          1
         ],
         "title": {
          "text": "Date"
         }
        },
        "yaxis": {
         "anchor": "x",
         "domain": [
          0.625,
          1
         ],
         "title": {
          "text": "Share(%)"
         }
        },
        "yaxis2": {
         "anchor": "x2",
         "domain": [
          0,
          0.375
         ],
         "title": {
          "text": "Count"
         }
        }
       }
      }
     },
     "metadata": {},
     "output_type": "display_data"
    }
   ],
   "source": [
    "#genre specific data for action\n",
    "\n",
    "action_data = data.query('genre_Action == 1')\n",
    "action_data_grouped = data.groupby(['year'], as_index=False)['genre_Action'].sum()\n",
    "\n",
    "fig = make_subplots(rows=2, cols=1, subplot_titles=(\"Action Series' Share of Total Viewership\", \"Total Action Series per Year\"))\n",
    "\n",
    "fig.add_trace(go.Scatter(x=action_data['date'], y=action_data['share'], mode='markers', text=action_data['title']), row=1, col=1)\n",
    "\n",
    "fig.add_trace(go.Scatter(x=action_data_grouped['year'], y=action_data_grouped['genre_Action'], mode='markers+lines'), row=2, col=1)\n",
    "\n",
    "fig.update_layout(height=800, showlegend=False)\n",
    "\n",
    "fig.update_yaxes(title='Share(%)', row=1, col=1)\n",
    "fig.update_yaxes(title='Count', row=2, col=1)\n",
    "fig.update_xaxes(title='Date')"
   ]
  },
  {
   "cell_type": "code",
   "execution_count": 75,
   "metadata": {},
   "outputs": [
    {
     "data": {
      "application/vnd.plotly.v1+json": {
       "config": {
        "plotlyServerURL": "https://plot.ly"
       },
       "data": [
        {
         "mode": "markers",
         "text": [
          "11.22.63",
          "12 Monkeys",
          "12 Monkeys",
          "12 Monkeys",
          "12 Monkeys",
          "13 Reasons Why",
          "13 Reasons Why",
          "666 Park Avenue",
          "A Nero Wolfe Mystery",
          "Absentia",
          "Agatha Christie's Marple",
          "Agatha Christie's Marple",
          "Agatha Christie's Marple",
          "Agatha Christie's Marple",
          "Agatha Christie's Marple",
          "Agatha Christie's Marple",
          "Alias",
          "Alias",
          "Alias",
          "Alias",
          "Alias",
          "All My Children",
          "American Gods",
          "American Gothic",
          "And Then There Were None",
          "Awake",
          "Bag of Bones",
          "Bates Motel",
          "Bates Motel",
          "Bates Motel",
          "Bates Motel",
          "Bates Motel",
          "Beyond",
          "Big Little Lies",
          "C.B. Strike",
          "C.B. Strike",
          "CSI: Crime Scene Investigation",
          "CSI: Crime Scene Investigation",
          "CSI: Crime Scene Investigation",
          "CSI: Crime Scene Investigation",
          "CSI: Crime Scene Investigation",
          "CSI: Crime Scene Investigation",
          "CSI: Crime Scene Investigation",
          "CSI: Crime Scene Investigation",
          "CSI: Crime Scene Investigation",
          "CSI: Crime Scene Investigation",
          "CSI: Crime Scene Investigation",
          "CSI: Crime Scene Investigation",
          "CSI: Crime Scene Investigation",
          "CSI: Crime Scene Investigation",
          "CSI: Crime Scene Investigation",
          "CSI: Cyber",
          "CSI: Cyber",
          "Carnivàle",
          "Carnivàle",
          "Chance",
          "Chance",
          "Channel Zero",
          "Channel Zero",
          "Channel Zero",
          "Charmed",
          "Charmed",
          "Charmed",
          "Charmed",
          "Charmed",
          "Charmed",
          "Charmed",
          "Charmed",
          "Cold Case",
          "Cold Case",
          "Cold Case",
          "Cold Case",
          "Cold Case",
          "Cold Case",
          "Cold Case",
          "Collateral",
          "Columbo",
          "Columbo",
          "Columbo",
          "Columbo",
          "Columbo",
          "Coma",
          "Criminal Minds",
          "Criminal Minds",
          "Criminal Minds",
          "Criminal Minds",
          "Criminal Minds",
          "Criminal Minds",
          "Criminal Minds",
          "Criminal Minds",
          "Criminal Minds",
          "Criminal Minds",
          "Criminal Minds",
          "Criminal Minds",
          "Criminal Minds",
          "Criminal Minds",
          "Criminal Minds: Beyond Borders",
          "Criminal Minds: Beyond Borders",
          "Criminal Minds: Suspect Behavior",
          "Crossing Jordan",
          "Crossing Jordan",
          "Crossing Jordan",
          "Cult",
          "Damages",
          "Damages",
          "Damages",
          "Damages",
          "Damages",
          "Dante's Cove",
          "Dark Angel",
          "Dark Angel",
          "Death Comes to Pemberley",
          "Death in Paradise",
          "Death in Paradise",
          "Death in Paradise",
          "Death in Paradise",
          "Death in Paradise",
          "Death in Paradise",
          "Death in Paradise",
          "Deception",
          "Deception",
          "Designated Survivor",
          "Designated Survivor",
          "Desperate Housewives",
          "Desperate Housewives",
          "Desperate Housewives",
          "Desperate Housewives",
          "Desperate Housewives",
          "Desperate Housewives",
          "Desperate Housewives",
          "Desperate Housewives",
          "Devious Maids",
          "Devious Maids",
          "Devious Maids",
          "Devious Maids",
          "Dexter",
          "Dexter",
          "Dexter",
          "Dexter",
          "Dexter",
          "Dexter",
          "Dexter",
          "Dexter",
          "Diagnosis Murder",
          "Dig",
          "Dollhouse",
          "Dollhouse",
          "Elementary",
          "Elementary",
          "Elementary",
          "Elementary",
          "Elementary",
          "Elementary",
          "Eleventh Hour",
          "Eye Candy",
          "FBI",
          "Falling Water",
          "Fearless",
          "Flashforward",
          "Frequency",
          "Fringe",
          "Fringe",
          "Fringe",
          "Fringe",
          "Fringe",
          "Good Behavior",
          "Good Behavior",
          "Harper's Island",
          "Homeland",
          "Homeland",
          "Homeland",
          "Homeland",
          "Homeland",
          "Homeland",
          "Homeland",
          "Homicide: Life on the Street",
          "Homicide: Life on the Street",
          "Homicide: Life on the Street",
          "Homicide: Life on the Street",
          "Homicide: Life on the Street",
          "Hostages",
          "Hotel Beau Séjour",
          "Hotel Room",
          "House",
          "House",
          "House",
          "House",
          "House",
          "House",
          "House",
          "House",
          "How to Get Away with Murder",
          "How to Get Away with Murder",
          "How to Get Away with Murder",
          "How to Get Away with Murder",
          "How to Get Away with Murder",
          "Hustle",
          "Hustle",
          "Hustle",
          "Hustle",
          "Hustle",
          "Hustle",
          "Hysteria",
          "Il commissario Montalbano",
          "Il commissario Montalbano",
          "Il commissario Montalbano",
          "Il commissario Montalbano",
          "Il commissario Montalbano",
          "Imposters",
          "In Plain Sight",
          "In the Dark",
          "Innocent",
          "Inspector Lewis",
          "Inspector Lewis",
          "Inspector Lewis",
          "Inspector Lewis",
          "Inspector Lewis",
          "Inspector Lewis",
          "Inspector Lewis",
          "Inspector Lewis",
          "Inspector Lewis",
          "Instinct",
          "Invasion",
          "Jericho",
          "Jericho",
          "John Doe",
          "Kojak",
          "Kyle XY",
          "Kyle XY",
          "Kyle XY",
          "Last Resort",
          "Law & Order",
          "Law & Order",
          "Law & Order",
          "Law & Order",
          "Law & Order",
          "Law & Order",
          "Law & Order",
          "Law & Order",
          "Law & Order",
          "Law & Order",
          "Law & Order",
          "Law & Order",
          "Law & Order",
          "Law & Order",
          "Law & Order",
          "Law & Order",
          "Law & Order",
          "Law & Order",
          "Law & Order",
          "Law & Order",
          "Law & Order True Crime",
          "Law & Order: Criminal Intent",
          "Law & Order: Criminal Intent",
          "Law & Order: Criminal Intent",
          "Law & Order: Criminal Intent",
          "Law & Order: Criminal Intent",
          "Law & Order: Criminal Intent",
          "Law & Order: Criminal Intent",
          "Law & Order: Criminal Intent",
          "Law & Order: Criminal Intent",
          "Law & Order: Criminal Intent",
          "Law & Order: LA",
          "Law & Order: Special Victims Unit",
          "Law & Order: Special Victims Unit",
          "Law & Order: Special Victims Unit",
          "Law & Order: Special Victims Unit",
          "Law & Order: Special Victims Unit",
          "Law & Order: Special Victims Unit",
          "Law & Order: Special Victims Unit",
          "Law & Order: Special Victims Unit",
          "Law & Order: Special Victims Unit",
          "Law & Order: Special Victims Unit",
          "Law & Order: Special Victims Unit",
          "Law & Order: Special Victims Unit",
          "Law & Order: Special Victims Unit",
          "Law & Order: Special Victims Unit",
          "Law & Order: Special Victims Unit",
          "Law & Order: Special Victims Unit",
          "Law & Order: Special Victims Unit",
          "Law & Order: Special Victims Unit",
          "Law & Order: Special Victims Unit",
          "Law & Order: Special Victims Unit",
          "Lie to Me",
          "Lie to Me",
          "Lie to Me",
          "Life",
          "Life",
          "Life on Mars",
          "Little Dorrit",
          "London Spy",
          "Major Crimes",
          "Major Crimes",
          "Major Crimes",
          "Major Crimes",
          "Major Crimes",
          "Major Crimes",
          "Manifest",
          "Matlock",
          "Midnight, Texas",
          "Midsomer Murders",
          "Midsomer Murders",
          "Midsomer Murders",
          "Midsomer Murders",
          "Midsomer Murders",
          "Midsomer Murders",
          "Midsomer Murders",
          "Midsomer Murders",
          "Midsomer Murders",
          "Midsomer Murders",
          "Midsomer Murders",
          "Midsomer Murders",
          "Midsomer Murders",
          "Midsomer Murders",
          "Midsomer Murders",
          "Midsomer Murders",
          "Midsomer Murders",
          "Midsomer Murders",
          "Midsomer Murders",
          "Mob City",
          "Mosaic",
          "Murder Rooms: Mysteries of the Real Sherlock Holmes",
          "Murder in the First",
          "Murder in the First",
          "Murder, She Wrote",
          "Murder, She Wrote",
          "Murder, She Wrote",
          "Murder, She Wrote",
          "Murder, She Wrote",
          "Murder, She Wrote",
          "Murder, She Wrote",
          "Murdoch Mysteries",
          "Murdoch Mysteries",
          "Murdoch Mysteries",
          "Murdoch Mysteries",
          "Murdoch Mysteries",
          "Murdoch Mysteries",
          "Murdoch Mysteries",
          "Murdoch Mysteries",
          "Murdoch Mysteries",
          "Murdoch Mysteries",
          "Murdoch Mysteries",
          "Mystery!: Cadfael",
          "Mystery!: Cadfael",
          "Mystery!: Cadfael",
          "NCIS: Los Angeles",
          "NCIS: Los Angeles",
          "NCIS: Los Angeles",
          "NCIS: Los Angeles",
          "NCIS: Los Angeles",
          "NCIS: Los Angeles",
          "NCIS: Los Angeles",
          "NCIS: Los Angeles",
          "NCIS: Los Angeles",
          "NCIS: Los Angeles",
          "NYPD Blue",
          "NYPD Blue",
          "Numb3rs",
          "Numb3rs",
          "Numb3rs",
          "Numb3rs",
          "Numb3rs",
          "Numb3rs",
          "Paranoid",
          "Perception",
          "Perception",
          "Perception",
          "Persons Unknown",
          "Picnic at Hanging Rock",
          "Pretty Little Liars",
          "Pretty Little Liars",
          "Pretty Little Liars",
          "Pretty Little Liars",
          "Pretty Little Liars",
          "Pretty Little Liars",
          "Pretty Little Liars",
          "Prime Suspect",
          "Proof",
          "Quantico",
          "Quantico",
          "Quantico",
          "Raines",
          "Rellik",
          "Requiem",
          "Revenge",
          "Revenge",
          "Revenge",
          "Revenge",
          "Ringer",
          "River",
          "Riverdale",
          "Riverdale",
          "Riverdale",
          "Rizzoli & Isles",
          "Rizzoli & Isles",
          "Rizzoli & Isles",
          "Rizzoli & Isles",
          "Rizzoli & Isles",
          "Rizzoli & Isles",
          "Rizzoli & Isles",
          "Rosemary's Baby",
          "Rosewood",
          "Rosewood",
          "Roswell",
          "Roswell",
          "Roswell",
          "Rubicon",
          "Sahsiyet",
          "Sense8",
          "Sense8",
          "Shark",
          "Sharp Objects",
          "Sherlock",
          "Sherlock",
          "Sherlock",
          "Sherlock",
          "Siberia",
          "Silk Stalkings",
          "Slasher",
          "Slasher",
          "Strange Angel",
          "Strange Luck",
          "Terriers",
          "The 100",
          "The 100",
          "The 100",
          "The 100",
          "The 100",
          "The 4400",
          "The 4400",
          "The 4400",
          "The 4400",
          "The Alienist",
          "The Americans",
          "The Americans",
          "The Americans",
          "The Americans",
          "The Americans",
          "The Americans",
          "The Blacklist",
          "The Blacklist",
          "The Blacklist",
          "The Blacklist",
          "The Blacklist",
          "The Booth at the End",
          "The Bridge",
          "The Bridge",
          "The Case-Book of Sherlock Holmes",
          "The Case-Book of Sherlock Holmes",
          "The Case-Book of Sherlock Holmes",
          "The Closer",
          "The Closer",
          "The Closer",
          "The Closer",
          "The Closer",
          "The Closer",
          "The Closer",
          "The Dead Zone",
          "The Dead Zone",
          "The Event",
          "The Expanse",
          "The Expanse",
          "The Expanse",
          "The Family",
          "The Five",
          "The Following",
          "The Following",
          "The Following",
          "The Good Wife",
          "The Good Wife",
          "The Good Wife",
          "The Good Wife",
          "The Good Wife",
          "The Good Wife",
          "The Good Wife",
          "The Killing",
          "The Killing",
          "The Killing",
          "The Killing",
          "The Leftovers",
          "The Leftovers",
          "The Leftovers",
          "The Loch",
          "The Lying Game",
          "The Lying Game",
          "The Mentalist",
          "The Mentalist",
          "The Mentalist",
          "The Mentalist",
          "The Mentalist",
          "The Mentalist",
          "The Mentalist",
          "The Messengers",
          "The Miniaturist",
          "The Mob Doctor",
          "The OA",
          "The Pretender",
          "The Sinner",
          "The Sinner",
          "The Whispers",
          "The Whispers",
          "The X-Files",
          "The X-Files",
          "The X-Files",
          "The X-Files",
          "The X-Files",
          "The X-Files",
          "The X-Files",
          "The X-Files",
          "The X-Files",
          "The X-Files",
          "The X-Files",
          "Thirteen",
          "Threat Matrix",
          "Touch",
          "Touch",
          "True Blood",
          "True Blood",
          "True Blood",
          "True Blood",
          "True Blood",
          "True Blood",
          "True Blood",
          "True Detective",
          "True Detective",
          "Twin Peaks",
          "Twin Peaks",
          "Twisted",
          "Under the Dome",
          "Under the Dome",
          "Under the Dome",
          "Unforgettable",
          "Unforgettable",
          "Unforgettable",
          "Unforgettable",
          "Veronica Mars",
          "Veronica Mars",
          "Veronica Mars",
          "Warehouse 13",
          "Warehouse 13",
          "Warehouse 13",
          "Warehouse 13",
          "Warehouse 13",
          "Wayward Pines",
          "Wayward Pines",
          "Westworld",
          "Westworld",
          "Wilfred",
          "Wilfred",
          "Wilfred",
          "Wilfred",
          "Without a Trace",
          "Without a Trace",
          "Without a Trace",
          "Without a Trace",
          "Zoo",
          "Zoo",
          "Zoo"
         ],
         "type": "scatter",
         "x": [
          "2016-03-10T00:00:00",
          "2015-02-27T00:00:00",
          "2016-05-30T00:00:00",
          "2017-05-19T00:00:00",
          "2018-06-26T00:00:00",
          "2017-03-31T00:00:00",
          "2018-05-18T00:00:00",
          "2013-01-13T00:00:00",
          "2001-04-29T00:00:00",
          "2017-11-02T00:00:00",
          "2005-01-23T00:00:00",
          "2006-03-03T00:00:00",
          "2008-03-27T00:00:00",
          "2009-07-15T00:00:00",
          "2010-09-19T00:00:00",
          "2014-09-23T00:00:00",
          "2002-01-09T00:00:00",
          "2003-01-19T00:00:00",
          "2004-01-21T00:00:00",
          "2005-03-21T00:00:00",
          "2006-02-03T00:00:00",
          "2007-06-08T00:00:00",
          "2017-05-24T00:00:00",
          "2016-08-05T00:00:00",
          "2015-12-27T00:00:00",
          "2012-04-10T00:00:00",
          "2011-12-11T00:00:00",
          "2013-04-18T00:00:00",
          "2014-04-03T00:00:00",
          "2015-04-09T00:00:00",
          "2016-04-11T00:00:00",
          "2017-03-23T00:00:00",
          "2017-01-29T00:00:00",
          "2017-03-11T00:00:00",
          "2017-10-30T00:00:00",
          "2018-02-28T00:00:00",
          "2001-01-20T00:00:00",
          "2002-01-10T00:00:00",
          "2003-01-15T00:00:00",
          "2004-01-18T00:00:00",
          "2005-01-24T00:00:00",
          "2006-01-16T00:00:00",
          "2007-01-14T00:00:00",
          "2008-01-07T00:00:00",
          "2009-01-27T00:00:00",
          "2010-01-23T00:00:00",
          "2011-01-07T00:00:00",
          "2012-01-09T00:00:00",
          "2013-01-14T00:00:00",
          "2014-01-04T00:00:00",
          "2014-12-09T00:00:00",
          "2015-04-14T00:00:00",
          "2015-12-20T00:00:00",
          "2003-10-22T00:00:00",
          "2005-02-16T00:00:00",
          "2016-11-13T00:00:00",
          "2017-11-01T00:00:00",
          "2016-10-28T00:00:00",
          "2017-10-04T00:00:00",
          "2018-02-22T00:00:00",
          "1999-06-29T00:00:00",
          "2000-01-25T00:00:00",
          "2001-01-23T00:00:00",
          "2002-01-19T00:00:00",
          "2003-01-16T00:00:00",
          "2004-01-14T00:00:00",
          "2005-01-12T00:00:00",
          "2006-01-12T00:00:00",
          "2004-01-06T00:00:00",
          "2005-01-18T00:00:00",
          "2006-01-23T00:00:00",
          "2007-01-26T00:00:00",
          "2007-12-17T00:00:00",
          "2008-12-13T00:00:00",
          "2010-05-02T00:00:00",
          "2018-02-28T00:00:00",
          "1990-03-02T00:00:00",
          "1991-02-18T00:00:00",
          "1992-05-07T00:00:00",
          "1994-01-23T00:00:00",
          "1999-02-25T00:00:00",
          "2012-09-03T00:00:00",
          "2006-01-06T00:00:00",
          "2007-01-02T00:00:00",
          "2008-01-09T00:00:00",
          "2009-01-20T00:00:00",
          "2010-01-14T00:00:00",
          "2011-01-13T00:00:00",
          "2012-01-20T00:00:00",
          "2013-01-21T00:00:00",
          "2014-01-12T00:00:00",
          "2015-01-14T00:00:00",
          "2016-01-09T00:00:00",
          "2017-01-21T00:00:00",
          "2018-01-10T00:00:00",
          "2018-10-03T00:00:00",
          "2016-04-12T00:00:00",
          "2017-04-07T00:00:00",
          "2011-04-03T00:00:00",
          "2001-10-20T00:00:00",
          "2004-11-14T00:00:00",
          "2005-11-27T00:00:00",
          "2013-02-19T00:00:00",
          "2007-09-07T00:00:00",
          "2009-02-19T00:00:00",
          "2010-03-08T00:00:00",
          "2011-08-12T00:00:00",
          "2012-08-16T00:00:00",
          "2005-10-07T00:00:00",
          "2001-01-30T00:00:00",
          "2002-01-27T00:00:00",
          "2014-04-07T00:00:00",
          "2011-11-18T00:00:00",
          "2013-01-30T00:00:00",
          "2014-02-07T00:00:00",
          "2015-02-01T00:00:00",
          "2016-01-31T00:00:00",
          "2017-01-29T00:00:00",
          "2018-01-27T00:00:00",
          "2013-01-07T00:00:00",
          "2018-04-22T00:00:00",
          "2017-01-25T00:00:00",
          "2018-01-16T00:00:00",
          "2005-01-22T00:00:00",
          "2006-01-22T00:00:00",
          "2007-01-15T00:00:00",
          "2008-01-18T00:00:00",
          "2009-01-23T00:00:00",
          "2010-01-13T00:00:00",
          "2011-01-17T00:00:00",
          "2012-01-18T00:00:00",
          "2013-08-05T00:00:00",
          "2014-06-01T00:00:00",
          "2015-07-13T00:00:00",
          "2016-06-30T00:00:00",
          "2006-11-08T00:00:00",
          "2007-11-07T00:00:00",
          "2008-11-05T00:00:00",
          "2009-11-04T00:00:00",
          "2010-11-03T00:00:00",
          "2011-11-09T00:00:00",
          "2012-11-07T00:00:00",
          "2013-08-09T00:00:00",
          "2000-02-10T00:00:00",
          "2015-04-05T00:00:00",
          "2009-04-13T00:00:00",
          "2009-11-29T00:00:00",
          "2013-01-19T00:00:00",
          "2014-01-12T00:00:00",
          "2015-02-03T00:00:00",
          "2016-02-11T00:00:00",
          "2017-01-26T00:00:00",
          "2018-07-10T00:00:00",
          "2008-10-16T00:00:00",
          "2015-02-12T00:00:00",
          "2018-09-28T00:00:00",
          "2016-11-10T00:00:00",
          "2017-06-12T00:00:00",
          "2010-01-29T00:00:00",
          "2016-11-25T00:00:00",
          "2009-01-04T00:00:00",
          "2010-01-16T00:00:00",
          "2011-01-16T00:00:00",
          "2012-01-27T00:00:00",
          "2012-11-23T00:00:00",
          "2016-12-13T00:00:00",
          "2017-11-15T00:00:00",
          "2009-05-28T00:00:00",
          "2011-11-09T00:00:00",
          "2012-11-07T00:00:00",
          "2013-11-06T00:00:00",
          "2014-11-07T00:00:00",
          "2015-11-11T00:00:00",
          "2017-02-27T00:00:00",
          "2018-03-21T00:00:00",
          "1993-02-25T00:00:00",
          "1994-01-06T00:00:00",
          "1994-12-02T00:00:00",
          "1995-12-01T00:00:00",
          "1997-12-05T00:00:00",
          "2013-11-12T00:00:00",
          "2017-01-08T00:00:00",
          "1993-01-08T00:00:00",
          "2005-02-17T00:00:00",
          "2006-02-02T00:00:00",
          "2007-01-22T00:00:00",
          "2008-01-02T00:00:00",
          "2009-01-12T00:00:00",
          "2010-01-17T00:00:00",
          "2011-01-26T00:00:00",
          "2012-02-01T00:00:00",
          "2014-12-07T00:00:00",
          "2015-12-12T00:00:00",
          "2016-12-04T00:00:00",
          "2017-12-14T00:00:00",
          "2018-09-30T00:00:00",
          "2004-03-16T00:00:00",
          "2005-04-07T00:00:00",
          "2006-03-25T00:00:00",
          "2007-05-05T00:00:00",
          "2009-01-25T00:00:00",
          "2012-02-17T00:00:00",
          "2014-08-28T00:00:00",
          "1999-05-09T00:00:00",
          "2000-05-05T00:00:00",
          "2002-11-06T00:00:00",
          "2003-03-31T00:00:00",
          "2013-04-15T00:00:00",
          "2017-03-10T00:00:00",
          "2008-06-04T00:00:00",
          "2017-07-11T00:00:00",
          "2018-03-22T00:00:00",
          "2008-01-06T00:00:00",
          "2008-03-05T00:00:00",
          "2009-08-05T00:00:00",
          "2010-09-15T00:00:00",
          "2011-09-21T00:00:00",
          "2012-07-05T00:00:00",
          "2013-04-04T00:00:00",
          "2014-10-21T00:00:00",
          "2015-10-23T00:00:00",
          "2018-05-11T00:00:00",
          "2006-01-30T00:00:00",
          "2007-01-07T00:00:00",
          "2008-03-04T00:00:00",
          "2002-09-20T00:00:00",
          "2005-03-25T00:00:00",
          "2006-07-27T00:00:00",
          "2007-10-18T00:00:00",
          "2009-02-12T00:00:00",
          "2012-11-20T00:00:00",
          "1990-12-31T00:00:00",
          "1992-01-04T00:00:00",
          "1993-01-27T00:00:00",
          "1994-01-13T00:00:00",
          "1995-01-13T00:00:00",
          "1996-02-02T00:00:00",
          "1997-02-14T00:00:00",
          "1998-01-22T00:00:00",
          "1999-02-09T00:00:00",
          "2000-01-30T00:00:00",
          "2001-02-04T00:00:00",
          "2002-01-14T00:00:00",
          "2003-01-24T00:00:00",
          "2004-01-12T00:00:00",
          "2005-01-30T00:00:00",
          "2006-01-29T00:00:00",
          "2007-01-16T00:00:00",
          "2008-03-02T00:00:00",
          "2009-02-17T00:00:00",
          "2010-01-28T00:00:00",
          "2017-10-20T00:00:00",
          "2002-01-14T00:00:00",
          "2003-01-22T00:00:00",
          "2004-01-13T00:00:00",
          "2005-01-21T00:00:00",
          "2006-01-20T00:00:00",
          "2007-01-03T00:00:00",
          "2008-04-03T00:00:00",
          "2009-06-09T00:00:00",
          "2010-06-09T00:00:00",
          "2011-05-31T00:00:00",
          "2010-09-29T00:00:00",
          "2000-01-14T00:00:00",
          "2001-01-23T00:00:00",
          "2002-01-12T00:00:00",
          "2003-01-18T00:00:00",
          "2004-01-14T00:00:00",
          "2005-01-14T00:00:00",
          "2006-01-01T00:00:00",
          "2006-12-31T00:00:00",
          "2007-12-29T00:00:00",
          "2009-01-06T00:00:00",
          "2010-01-21T00:00:00",
          "2011-01-06T00:00:00",
          "2012-01-13T00:00:00",
          "2013-01-18T00:00:00",
          "2014-01-18T00:00:00",
          "2015-01-18T00:00:00",
          "2016-01-14T00:00:00",
          "2017-02-02T00:00:00",
          "2018-01-30T00:00:00",
          "2018-09-29T00:00:00",
          "2009-03-19T00:00:00",
          "2010-03-25T00:00:00",
          "2010-12-01T00:00:00",
          "2007-11-01T00:00:00",
          "2009-01-29T00:00:00",
          "2009-01-14T00:00:00",
          "2009-03-29T00:00:00",
          "2015-11-23T00:00:00",
          "2012-09-16T00:00:00",
          "2013-09-19T00:00:00",
          "2014-09-26T00:00:00",
          "2015-10-17T00:00:00",
          "2016-10-20T00:00:00",
          "2017-12-05T00:00:00",
          "2018-09-27T00:00:00",
          "1992-11-05T00:00:00",
          "2017-08-14T00:00:00",
          "1998-05-19T00:00:00",
          "1999-05-22T00:00:00",
          "2000-01-21T00:00:00",
          "2001-07-10T00:00:00",
          "2002-07-21T00:00:00",
          "2003-01-17T00:00:00",
          "2004-02-28T00:00:00",
          "2005-02-10T00:00:00",
          "2006-05-20T00:00:00",
          "2007-06-17T00:00:00",
          "2008-07-10T00:00:00",
          "2009-10-21T00:00:00",
          "2010-09-10T00:00:00",
          "2011-07-25T00:00:00",
          "2012-09-09T00:00:00",
          "2014-01-21T00:00:00",
          "2015-02-08T00:00:00",
          "2016-01-24T00:00:00",
          "2017-01-18T00:00:00",
          "2013-12-11T00:00:00",
          "2018-01-24T00:00:00",
          "2001-05-20T00:00:00",
          "2014-07-10T00:00:00",
          "2015-07-01T00:00:00",
          "1990-01-07T00:00:00",
          "1991-01-28T00:00:00",
          "1991-12-26T00:00:00",
          "1993-01-06T00:00:00",
          "1993-12-22T00:00:00",
          "1994-12-22T00:00:00",
          "1996-01-07T00:00:00",
          "2008-03-01T00:00:00",
          "2009-03-11T00:00:00",
          "2010-05-02T00:00:00",
          "2011-07-20T00:00:00",
          "2012-07-02T00:00:00",
          "2013-02-02T00:00:00",
          "2013-12-26T00:00:00",
          "2015-01-02T00:00:00",
          "2015-12-02T00:00:00",
          "2017-01-20T00:00:00",
          "2017-10-19T00:00:00",
          "1994-06-08T00:00:00",
          "1996-06-02T00:00:00",
          "1997-08-15T00:00:00",
          "2010-01-18T00:00:00",
          "2010-12-29T00:00:00",
          "2012-01-11T00:00:00",
          "2013-01-19T00:00:00",
          "2014-01-12T00:00:00",
          "2015-01-15T00:00:00",
          "2016-01-09T00:00:00",
          "2017-01-17T00:00:00",
          "2018-01-20T00:00:00",
          "2018-09-30T00:00:00",
          "1993-09-30T00:00:00",
          "1997-04-22T00:00:00",
          "2005-03-17T00:00:00",
          "2006-01-24T00:00:00",
          "2007-01-06T00:00:00",
          "2008-01-14T00:00:00",
          "2009-01-21T00:00:00",
          "2009-12-08T00:00:00",
          "2016-10-16T00:00:00",
          "2012-08-13T00:00:00",
          "2013-09-28T00:00:00",
          "2014-10-02T00:00:00",
          "2010-07-26T00:00:00",
          "2018-05-25T00:00:00",
          "2010-11-04T00:00:00",
          "2011-10-31T00:00:00",
          "2012-10-25T00:00:00",
          "2013-10-26T00:00:00",
          "2014-11-02T00:00:00",
          "2015-10-25T00:00:00",
          "2016-12-23T00:00:00",
          "1991-04-07T00:00:00",
          "2015-07-15T00:00:00",
          "2016-01-21T00:00:00",
          "2017-01-28T00:00:00",
          "2018-06-17T00:00:00",
          "2007-03-15T00:00:00",
          "2017-09-14T00:00:00",
          "2018-02-19T00:00:00",
          "2012-01-12T00:00:00",
          "2013-01-17T00:00:00",
          "2014-01-15T00:00:00",
          "2015-01-14T00:00:00",
          "2012-01-15T00:00:00",
          "2015-09-04T00:00:00",
          "2017-03-17T00:00:00",
          "2018-01-25T00:00:00",
          "2018-10-10T00:00:00",
          "2010-08-12T00:00:00",
          "2011-09-21T00:00:00",
          "2012-08-28T00:00:00",
          "2013-09-25T00:00:00",
          "2014-10-07T00:00:00",
          "2015-10-05T00:00:00",
          "2016-07-18T00:00:00",
          "2014-05-13T00:00:00",
          "2015-12-17T00:00:00",
          "2017-03-03T00:00:00",
          "2000-01-27T00:00:00",
          "2001-01-19T00:00:00",
          "2002-01-23T00:00:00",
          "2010-08-11T00:00:00",
          "2018-04-20T00:00:00",
          "2015-06-05T00:00:00",
          "2017-05-27T00:00:00",
          "2007-01-01T00:00:00",
          "2018-07-22T00:00:00",
          "2010-12-24T00:00:00",
          "2012-05-13T00:00:00",
          "2014-01-24T00:00:00",
          "2016-10-06T00:00:00",
          "2013-06-25T00:00:00",
          "1996-11-24T00:00:00",
          "2016-03-22T00:00:00",
          "2017-10-17T00:00:00",
          "2018-06-14T00:00:00",
          "1995-09-15T00:00:00",
          "2010-10-25T00:00:00",
          "2014-04-30T00:00:00",
          "2015-01-01T00:00:00",
          "2016-03-20T00:00:00",
          "2017-03-27T00:00:00",
          "2018-06-02T00:00:00",
          "2004-07-26T00:00:00",
          "2005-07-18T00:00:00",
          "2006-07-15T00:00:00",
          "2007-07-30T00:00:00",
          "2018-02-22T00:00:00",
          "2013-03-15T00:00:00",
          "2014-04-09T00:00:00",
          "2015-03-11T00:00:00",
          "2016-04-27T00:00:00",
          "2017-04-18T00:00:00",
          "2018-04-28T00:00:00",
          "2014-01-11T00:00:00",
          "2015-01-22T00:00:00",
          "2016-01-24T00:00:00",
          "2017-01-21T00:00:00",
          "2018-01-19T00:00:00",
          "2011-07-11T00:00:00",
          "2013-08-21T00:00:00",
          "2014-08-20T00:00:00",
          "1991-03-10T00:00:00",
          "1993-05-06T00:00:00",
          "1994-02-03T00:00:00",
          "2005-07-25T00:00:00",
          "2006-08-11T00:00:00",
          "2007-08-08T00:00:00",
          "2008-10-13T00:00:00",
          "2009-08-15T00:00:00",
          "2010-09-28T00:00:00",
          "2011-12-19T00:00:00",
          "2002-07-29T00:00:00",
          "2003-04-10T00:00:00",
          "2011-01-18T00:00:00",
          "2016-01-04T00:00:00",
          "2017-03-08T00:00:00",
          "2018-05-24T00:00:00",
          "2016-04-02T00:00:00",
          "2016-04-29T00:00:00",
          "2013-03-11T00:00:00",
          "2014-03-09T00:00:00",
          "2015-04-13T00:00:00",
          "2010-01-17T00:00:00",
          "2011-01-20T00:00:00",
          "2012-01-03T00:00:00",
          "2013-01-09T00:00:00",
          "2014-01-19T00:00:00",
          "2015-01-11T00:00:00",
          "2016-01-13T00:00:00",
          "2011-05-08T00:00:00",
          "2012-05-06T00:00:00",
          "2013-07-03T00:00:00",
          "2014-08-01T00:00:00",
          "2014-07-31T00:00:00",
          "2015-11-04T00:00:00",
          "2017-05-10T00:00:00",
          "2017-07-05T00:00:00",
          "2011-08-18T00:00:00",
          "2013-03-12T00:00:00",
          "2009-01-17T00:00:00",
          "2010-01-20T00:00:00",
          "2011-01-18T00:00:00",
          "2012-01-16T00:00:00",
          "2013-01-11T00:00:00",
          "2014-01-21T00:00:00",
          "2015-01-12T00:00:00",
          "2015-06-01T00:00:00",
          "2017-12-26T00:00:00",
          "2012-10-25T00:00:00",
          "2016-12-16T00:00:00",
          "1996-09-19T00:00:00",
          "2017-08-26T00:00:00",
          "2018-08-24T00:00:00",
          "2015-07-15T00:00:00",
          "2015-07-15T00:00:00",
          "1994-01-04T00:00:00",
          "1995-01-11T00:00:00",
          "1996-01-12T00:00:00",
          "1997-01-22T00:00:00",
          "1998-02-04T00:00:00",
          "1999-02-09T00:00:00",
          "2000-02-14T00:00:00",
          "2001-02-07T00:00:00",
          "2002-02-22T00:00:00",
          "2016-02-05T00:00:00",
          "2018-02-09T00:00:00",
          "2016-04-05T00:00:00",
          "2003-10-02T00:00:00",
          "2012-04-24T00:00:00",
          "2013-03-18T00:00:00",
          "2008-10-15T00:00:00",
          "2009-07-28T00:00:00",
          "2010-07-27T00:00:00",
          "2011-08-03T00:00:00",
          "2012-07-18T00:00:00",
          "2013-07-17T00:00:00",
          "2014-07-23T00:00:00",
          "2014-02-09T00:00:00",
          "2015-07-15T00:00:00",
          "1990-04-29T00:00:00",
          "1991-01-11T00:00:00",
          "2013-06-14T00:00:00",
          "2013-08-05T00:00:00",
          "2014-08-11T00:00:00",
          "2015-07-30T00:00:00",
          "2011-12-31T00:00:00",
          "2013-11-29T00:00:00",
          "2014-08-02T00:00:00",
          "2015-12-28T00:00:00",
          "2005-01-24T00:00:00",
          "2006-01-19T00:00:00",
          "2007-01-18T00:00:00",
          "2009-08-14T00:00:00",
          "2010-08-20T00:00:00",
          "2011-08-29T00:00:00",
          "2013-01-30T00:00:00",
          "2014-05-01T00:00:00",
          "2015-06-18T00:00:00",
          "2016-06-25T00:00:00",
          "2016-11-02T00:00:00",
          "2018-05-23T00:00:00",
          "2011-07-30T00:00:00",
          "2012-08-03T00:00:00",
          "2013-07-22T00:00:00",
          "2014-07-19T00:00:00",
          "2002-12-23T00:00:00",
          "2003-11-18T00:00:00",
          "2005-05-12T00:00:00",
          "2006-02-06T00:00:00",
          "2015-08-09T00:00:00",
          "2016-08-05T00:00:00",
          "2017-07-31T00:00:00"
         ],
         "xaxis": "x",
         "y": [
          0.51,
          0.46,
          0.25,
          0.19,
          0.38,
          2.38,
          2.19,
          0.16,
          0.08,
          0.1,
          0.94,
          0.46,
          0.5,
          0.4,
          0.23,
          0.07,
          1.82,
          2.08,
          1.79,
          0.98,
          0.48,
          0.01,
          0.75,
          0.07,
          0.11,
          0.31,
          0.02,
          0.88,
          0.56,
          0.46,
          0.36,
          0.4,
          0.08,
          0.76,
          0.09,
          0.04,
          4.98,
          3.15,
          4.02,
          3.58,
          3.01,
          1.4,
          1.63,
          1.25,
          1.44,
          0.93,
          0.72,
          0.83,
          0.31,
          0.23,
          0.17,
          0.13,
          0.1,
          1.96,
          0.82,
          0.1,
          0.06,
          0.08,
          0.07,
          0.07,
          4.8,
          3.97,
          3.26,
          2.02,
          2.63,
          2.28,
          1.31,
          0.82,
          1.2,
          0.7,
          0.36,
          0.49,
          0.3,
          0.24,
          0.01,
          0.1,
          5.67,
          3.39,
          11.62,
          1.92,
          2.03,
          0.02,
          4.04,
          4.16,
          3.99,
          4.38,
          2.93,
          2.19,
          2.52,
          1.68,
          1.38,
          1.3,
          0.92,
          1.17,
          1.51,
          0.03,
          0.08,
          0.05,
          0.11,
          0.19,
          0.03,
          0.02,
          0.02,
          0.53,
          0.35,
          0.25,
          0.12,
          0.14,
          0.02,
          2.32,
          1.11,
          0.02,
          0.17,
          0.1,
          0.09,
          0.07,
          0.05,
          0.06,
          0.07,
          0.01,
          0.3,
          0.95,
          0.83,
          1.84,
          0.87,
          1.07,
          0.86,
          0.92,
          0.61,
          0.43,
          0.57,
          0.12,
          0.08,
          0.07,
          0.03,
          5.37,
          4.51,
          4.35,
          4.74,
          2.92,
          2.32,
          3.25,
          2.5,
          0.04,
          0.07,
          1.19,
          0.78,
          1.23,
          0.76,
          0.58,
          0.41,
          0.44,
          0.49,
          0.05,
          0.07,
          0.05,
          0.03,
          0,
          1.02,
          0.13,
          3.93,
          3.14,
          1.98,
          2.28,
          1.35,
          0.1,
          0.06,
          0.43,
          2.02,
          2.28,
          1.43,
          1.48,
          0.85,
          0.69,
          1.05,
          2.19,
          0.24,
          0.14,
          0.07,
          0.13,
          0.13,
          0,
          0.44,
          8.73,
          4.76,
          4.89,
          4.78,
          4.64,
          3.37,
          2.22,
          2.63,
          1.14,
          0.74,
          0.44,
          0.42,
          0.06,
          0.35,
          0.16,
          0.09,
          0.08,
          0.04,
          0.01,
          0,
          0.15,
          0.15,
          0.12,
          0.09,
          0.01,
          0.07,
          0.05,
          0,
          0.01,
          0.46,
          0.2,
          0.16,
          0.11,
          0.08,
          0.1,
          0.08,
          0.06,
          0.05,
          0.14,
          0.28,
          1.53,
          0.52,
          0.17,
          0.04,
          0.27,
          0.44,
          0.16,
          0.35,
          3.94,
          12.77,
          4.88,
          1.82,
          2.22,
          2.45,
          1.3,
          2.3,
          1.24,
          1.31,
          0.94,
          0.6,
          0.96,
          0.78,
          0.4,
          0.22,
          0.31,
          0.31,
          0.29,
          0.28,
          0.04,
          0.88,
          1.19,
          0.89,
          0.6,
          0.36,
          0.43,
          0.43,
          0.21,
          0.13,
          0.07,
          0.01,
          3.76,
          2.71,
          1.93,
          2.94,
          2.72,
          1.79,
          1.02,
          0.91,
          1.01,
          1.04,
          0.81,
          0.66,
          0.74,
          0.49,
          0.4,
          0.4,
          0.27,
          0.28,
          0.63,
          0.07,
          1.07,
          0.94,
          0.44,
          0.39,
          0.56,
          0.27,
          0.02,
          0.06,
          0.15,
          0.16,
          0.13,
          0.12,
          0.08,
          0.02,
          0.15,
          0.38,
          0.14,
          2.26,
          0.82,
          0.76,
          0.83,
          0.38,
          0.63,
          0.83,
          0.53,
          0.33,
          0.34,
          0.32,
          0.26,
          0.24,
          0.16,
          0.13,
          0.07,
          0.04,
          0.05,
          0.05,
          0.08,
          0.05,
          0.61,
          0.07,
          0.02,
          2.44,
          2.7,
          2.93,
          3.6,
          1.8,
          0.45,
          0.63,
          0.31,
          0.24,
          0.18,
          0.14,
          0.17,
          0.1,
          0.14,
          0.1,
          0.06,
          0.01,
          0.01,
          0.36,
          0.27,
          0.09,
          0.53,
          0.45,
          0.44,
          0.26,
          0.23,
          0.21,
          0.15,
          0.16,
          0.27,
          0.01,
          0.63,
          0.05,
          0.6,
          0.48,
          0.5,
          0.39,
          0.39,
          0.26,
          0.04,
          0.18,
          0.1,
          0.08,
          0.1,
          0.06,
          1.44,
          1.05,
          1.14,
          0.7,
          0.59,
          0.53,
          0.3,
          0.35,
          0.05,
          0.6,
          0.31,
          0.29,
          0.02,
          0.01,
          0.05,
          1.32,
          0.66,
          0.51,
          0.43,
          0.38,
          0.09,
          0.78,
          1.65,
          0.07,
          0.3,
          0.25,
          0.28,
          0.17,
          0.16,
          0.12,
          0.06,
          0.01,
          0.08,
          0.01,
          1.81,
          1.2,
          0.68,
          0.17,
          0.06,
          1.7,
          1.17,
          0.12,
          1.08,
          6.44,
          6.33,
          3.47,
          2.82,
          0.01,
          0.07,
          0.08,
          0.02,
          0.01,
          0.09,
          0.21,
          1.92,
          2.02,
          2.86,
          0.99,
          1.52,
          0.66,
          0.67,
          0.35,
          0.35,
          0.61,
          0.87,
          0.53,
          0.43,
          0.31,
          0.33,
          0.71,
          1.67,
          1.07,
          0.81,
          0.62,
          1.05,
          0.01,
          0.23,
          0.11,
          2.79,
          1.28,
          0.98,
          0.54,
          0.31,
          0.33,
          0.32,
          0.24,
          0.16,
          0.2,
          0.38,
          0.1,
          0.38,
          0.56,
          0.71,
          1.24,
          0.06,
          0.05,
          0.79,
          0.42,
          0.27,
          0.99,
          0.65,
          0.69,
          0.43,
          0.5,
          0.36,
          0.25,
          0.83,
          0.77,
          0.46,
          0.22,
          1.37,
          1.29,
          0.95,
          0.03,
          0.02,
          0.01,
          2.36,
          1.53,
          1.21,
          1.45,
          0.85,
          0.96,
          0.36,
          0.11,
          0.01,
          0.02,
          0.36,
          0.08,
          0.39,
          0.23,
          0.14,
          0.14,
          55.65,
          49.15,
          46.29,
          24.76,
          32.43,
          19.67,
          17.25,
          11.76,
          6.93,
          1.01,
          1.69,
          0.03,
          0.2,
          0.53,
          0.16,
          2.49,
          1.75,
          1.17,
          0.84,
          0.98,
          0.5,
          0.43,
          4.5,
          2.26,
          29.25,
          55.01,
          0.01,
          0.89,
          0.51,
          0.32,
          0.2,
          0.07,
          0.04,
          0.03,
          3.02,
          1.45,
          1.21,
          0.61,
          0.4,
          0.29,
          0.28,
          0.08,
          0.66,
          0.2,
          4.2,
          5.82,
          0.25,
          0.2,
          0.09,
          0.06,
          0.59,
          0.17,
          0.02,
          0.07,
          0.25,
          0.12,
          0.09
         ],
         "yaxis": "y"
        },
        {
         "mode": "markers+lines",
         "type": "scatter",
         "x": [
          1990,
          1991,
          1992,
          1993,
          1994,
          1995,
          1996,
          1997,
          1998,
          1999,
          2000,
          2001,
          2002,
          2003,
          2004,
          2005,
          2006,
          2007,
          2008,
          2009,
          2010,
          2011,
          2012,
          2013,
          2014,
          2015,
          2016,
          2017,
          2018
         ],
         "xaxis": "x2",
         "y": [
          4,
          6,
          3,
          7,
          8,
          4,
          6,
          5,
          3,
          6,
          8,
          11,
          14,
          12,
          11,
          21,
          22,
          23,
          19,
          29,
          32,
          29,
          32,
          39,
          39,
          44,
          38,
          45,
          38
         ],
         "yaxis": "y2"
        }
       ],
       "layout": {
        "annotations": [
         {
          "font": {
           "size": 16
          },
          "showarrow": false,
          "text": "Mystery Series' Share of Total Viewership",
          "x": 0.5,
          "xanchor": "center",
          "xref": "paper",
          "y": 1,
          "yanchor": "bottom",
          "yref": "paper"
         },
         {
          "font": {
           "size": 16
          },
          "showarrow": false,
          "text": "Total Mystery Series per Year",
          "x": 0.5,
          "xanchor": "center",
          "xref": "paper",
          "y": 0.375,
          "yanchor": "bottom",
          "yref": "paper"
         }
        ],
        "height": 800,
        "showlegend": false,
        "template": {
         "data": {
          "bar": [
           {
            "error_x": {
             "color": "#2a3f5f"
            },
            "error_y": {
             "color": "#2a3f5f"
            },
            "marker": {
             "line": {
              "color": "#E5ECF6",
              "width": 0.5
             },
             "pattern": {
              "fillmode": "overlay",
              "size": 10,
              "solidity": 0.2
             }
            },
            "type": "bar"
           }
          ],
          "barpolar": [
           {
            "marker": {
             "line": {
              "color": "#E5ECF6",
              "width": 0.5
             },
             "pattern": {
              "fillmode": "overlay",
              "size": 10,
              "solidity": 0.2
             }
            },
            "type": "barpolar"
           }
          ],
          "carpet": [
           {
            "aaxis": {
             "endlinecolor": "#2a3f5f",
             "gridcolor": "white",
             "linecolor": "white",
             "minorgridcolor": "white",
             "startlinecolor": "#2a3f5f"
            },
            "baxis": {
             "endlinecolor": "#2a3f5f",
             "gridcolor": "white",
             "linecolor": "white",
             "minorgridcolor": "white",
             "startlinecolor": "#2a3f5f"
            },
            "type": "carpet"
           }
          ],
          "choropleth": [
           {
            "colorbar": {
             "outlinewidth": 0,
             "ticks": ""
            },
            "type": "choropleth"
           }
          ],
          "contour": [
           {
            "colorbar": {
             "outlinewidth": 0,
             "ticks": ""
            },
            "colorscale": [
             [
              0,
              "#0d0887"
             ],
             [
              0.1111111111111111,
              "#46039f"
             ],
             [
              0.2222222222222222,
              "#7201a8"
             ],
             [
              0.3333333333333333,
              "#9c179e"
             ],
             [
              0.4444444444444444,
              "#bd3786"
             ],
             [
              0.5555555555555556,
              "#d8576b"
             ],
             [
              0.6666666666666666,
              "#ed7953"
             ],
             [
              0.7777777777777778,
              "#fb9f3a"
             ],
             [
              0.8888888888888888,
              "#fdca26"
             ],
             [
              1,
              "#f0f921"
             ]
            ],
            "type": "contour"
           }
          ],
          "contourcarpet": [
           {
            "colorbar": {
             "outlinewidth": 0,
             "ticks": ""
            },
            "type": "contourcarpet"
           }
          ],
          "heatmap": [
           {
            "colorbar": {
             "outlinewidth": 0,
             "ticks": ""
            },
            "colorscale": [
             [
              0,
              "#0d0887"
             ],
             [
              0.1111111111111111,
              "#46039f"
             ],
             [
              0.2222222222222222,
              "#7201a8"
             ],
             [
              0.3333333333333333,
              "#9c179e"
             ],
             [
              0.4444444444444444,
              "#bd3786"
             ],
             [
              0.5555555555555556,
              "#d8576b"
             ],
             [
              0.6666666666666666,
              "#ed7953"
             ],
             [
              0.7777777777777778,
              "#fb9f3a"
             ],
             [
              0.8888888888888888,
              "#fdca26"
             ],
             [
              1,
              "#f0f921"
             ]
            ],
            "type": "heatmap"
           }
          ],
          "heatmapgl": [
           {
            "colorbar": {
             "outlinewidth": 0,
             "ticks": ""
            },
            "colorscale": [
             [
              0,
              "#0d0887"
             ],
             [
              0.1111111111111111,
              "#46039f"
             ],
             [
              0.2222222222222222,
              "#7201a8"
             ],
             [
              0.3333333333333333,
              "#9c179e"
             ],
             [
              0.4444444444444444,
              "#bd3786"
             ],
             [
              0.5555555555555556,
              "#d8576b"
             ],
             [
              0.6666666666666666,
              "#ed7953"
             ],
             [
              0.7777777777777778,
              "#fb9f3a"
             ],
             [
              0.8888888888888888,
              "#fdca26"
             ],
             [
              1,
              "#f0f921"
             ]
            ],
            "type": "heatmapgl"
           }
          ],
          "histogram": [
           {
            "marker": {
             "pattern": {
              "fillmode": "overlay",
              "size": 10,
              "solidity": 0.2
             }
            },
            "type": "histogram"
           }
          ],
          "histogram2d": [
           {
            "colorbar": {
             "outlinewidth": 0,
             "ticks": ""
            },
            "colorscale": [
             [
              0,
              "#0d0887"
             ],
             [
              0.1111111111111111,
              "#46039f"
             ],
             [
              0.2222222222222222,
              "#7201a8"
             ],
             [
              0.3333333333333333,
              "#9c179e"
             ],
             [
              0.4444444444444444,
              "#bd3786"
             ],
             [
              0.5555555555555556,
              "#d8576b"
             ],
             [
              0.6666666666666666,
              "#ed7953"
             ],
             [
              0.7777777777777778,
              "#fb9f3a"
             ],
             [
              0.8888888888888888,
              "#fdca26"
             ],
             [
              1,
              "#f0f921"
             ]
            ],
            "type": "histogram2d"
           }
          ],
          "histogram2dcontour": [
           {
            "colorbar": {
             "outlinewidth": 0,
             "ticks": ""
            },
            "colorscale": [
             [
              0,
              "#0d0887"
             ],
             [
              0.1111111111111111,
              "#46039f"
             ],
             [
              0.2222222222222222,
              "#7201a8"
             ],
             [
              0.3333333333333333,
              "#9c179e"
             ],
             [
              0.4444444444444444,
              "#bd3786"
             ],
             [
              0.5555555555555556,
              "#d8576b"
             ],
             [
              0.6666666666666666,
              "#ed7953"
             ],
             [
              0.7777777777777778,
              "#fb9f3a"
             ],
             [
              0.8888888888888888,
              "#fdca26"
             ],
             [
              1,
              "#f0f921"
             ]
            ],
            "type": "histogram2dcontour"
           }
          ],
          "mesh3d": [
           {
            "colorbar": {
             "outlinewidth": 0,
             "ticks": ""
            },
            "type": "mesh3d"
           }
          ],
          "parcoords": [
           {
            "line": {
             "colorbar": {
              "outlinewidth": 0,
              "ticks": ""
             }
            },
            "type": "parcoords"
           }
          ],
          "pie": [
           {
            "automargin": true,
            "type": "pie"
           }
          ],
          "scatter": [
           {
            "fillpattern": {
             "fillmode": "overlay",
             "size": 10,
             "solidity": 0.2
            },
            "type": "scatter"
           }
          ],
          "scatter3d": [
           {
            "line": {
             "colorbar": {
              "outlinewidth": 0,
              "ticks": ""
             }
            },
            "marker": {
             "colorbar": {
              "outlinewidth": 0,
              "ticks": ""
             }
            },
            "type": "scatter3d"
           }
          ],
          "scattercarpet": [
           {
            "marker": {
             "colorbar": {
              "outlinewidth": 0,
              "ticks": ""
             }
            },
            "type": "scattercarpet"
           }
          ],
          "scattergeo": [
           {
            "marker": {
             "colorbar": {
              "outlinewidth": 0,
              "ticks": ""
             }
            },
            "type": "scattergeo"
           }
          ],
          "scattergl": [
           {
            "marker": {
             "colorbar": {
              "outlinewidth": 0,
              "ticks": ""
             }
            },
            "type": "scattergl"
           }
          ],
          "scattermapbox": [
           {
            "marker": {
             "colorbar": {
              "outlinewidth": 0,
              "ticks": ""
             }
            },
            "type": "scattermapbox"
           }
          ],
          "scatterpolar": [
           {
            "marker": {
             "colorbar": {
              "outlinewidth": 0,
              "ticks": ""
             }
            },
            "type": "scatterpolar"
           }
          ],
          "scatterpolargl": [
           {
            "marker": {
             "colorbar": {
              "outlinewidth": 0,
              "ticks": ""
             }
            },
            "type": "scatterpolargl"
           }
          ],
          "scatterternary": [
           {
            "marker": {
             "colorbar": {
              "outlinewidth": 0,
              "ticks": ""
             }
            },
            "type": "scatterternary"
           }
          ],
          "surface": [
           {
            "colorbar": {
             "outlinewidth": 0,
             "ticks": ""
            },
            "colorscale": [
             [
              0,
              "#0d0887"
             ],
             [
              0.1111111111111111,
              "#46039f"
             ],
             [
              0.2222222222222222,
              "#7201a8"
             ],
             [
              0.3333333333333333,
              "#9c179e"
             ],
             [
              0.4444444444444444,
              "#bd3786"
             ],
             [
              0.5555555555555556,
              "#d8576b"
             ],
             [
              0.6666666666666666,
              "#ed7953"
             ],
             [
              0.7777777777777778,
              "#fb9f3a"
             ],
             [
              0.8888888888888888,
              "#fdca26"
             ],
             [
              1,
              "#f0f921"
             ]
            ],
            "type": "surface"
           }
          ],
          "table": [
           {
            "cells": {
             "fill": {
              "color": "#EBF0F8"
             },
             "line": {
              "color": "white"
             }
            },
            "header": {
             "fill": {
              "color": "#C8D4E3"
             },
             "line": {
              "color": "white"
             }
            },
            "type": "table"
           }
          ]
         },
         "layout": {
          "annotationdefaults": {
           "arrowcolor": "#2a3f5f",
           "arrowhead": 0,
           "arrowwidth": 1
          },
          "autotypenumbers": "strict",
          "coloraxis": {
           "colorbar": {
            "outlinewidth": 0,
            "ticks": ""
           }
          },
          "colorscale": {
           "diverging": [
            [
             0,
             "#8e0152"
            ],
            [
             0.1,
             "#c51b7d"
            ],
            [
             0.2,
             "#de77ae"
            ],
            [
             0.3,
             "#f1b6da"
            ],
            [
             0.4,
             "#fde0ef"
            ],
            [
             0.5,
             "#f7f7f7"
            ],
            [
             0.6,
             "#e6f5d0"
            ],
            [
             0.7,
             "#b8e186"
            ],
            [
             0.8,
             "#7fbc41"
            ],
            [
             0.9,
             "#4d9221"
            ],
            [
             1,
             "#276419"
            ]
           ],
           "sequential": [
            [
             0,
             "#0d0887"
            ],
            [
             0.1111111111111111,
             "#46039f"
            ],
            [
             0.2222222222222222,
             "#7201a8"
            ],
            [
             0.3333333333333333,
             "#9c179e"
            ],
            [
             0.4444444444444444,
             "#bd3786"
            ],
            [
             0.5555555555555556,
             "#d8576b"
            ],
            [
             0.6666666666666666,
             "#ed7953"
            ],
            [
             0.7777777777777778,
             "#fb9f3a"
            ],
            [
             0.8888888888888888,
             "#fdca26"
            ],
            [
             1,
             "#f0f921"
            ]
           ],
           "sequentialminus": [
            [
             0,
             "#0d0887"
            ],
            [
             0.1111111111111111,
             "#46039f"
            ],
            [
             0.2222222222222222,
             "#7201a8"
            ],
            [
             0.3333333333333333,
             "#9c179e"
            ],
            [
             0.4444444444444444,
             "#bd3786"
            ],
            [
             0.5555555555555556,
             "#d8576b"
            ],
            [
             0.6666666666666666,
             "#ed7953"
            ],
            [
             0.7777777777777778,
             "#fb9f3a"
            ],
            [
             0.8888888888888888,
             "#fdca26"
            ],
            [
             1,
             "#f0f921"
            ]
           ]
          },
          "colorway": [
           "#636efa",
           "#EF553B",
           "#00cc96",
           "#ab63fa",
           "#FFA15A",
           "#19d3f3",
           "#FF6692",
           "#B6E880",
           "#FF97FF",
           "#FECB52"
          ],
          "font": {
           "color": "#2a3f5f"
          },
          "geo": {
           "bgcolor": "white",
           "lakecolor": "white",
           "landcolor": "#E5ECF6",
           "showlakes": true,
           "showland": true,
           "subunitcolor": "white"
          },
          "hoverlabel": {
           "align": "left"
          },
          "hovermode": "closest",
          "mapbox": {
           "style": "light"
          },
          "paper_bgcolor": "white",
          "plot_bgcolor": "#E5ECF6",
          "polar": {
           "angularaxis": {
            "gridcolor": "white",
            "linecolor": "white",
            "ticks": ""
           },
           "bgcolor": "#E5ECF6",
           "radialaxis": {
            "gridcolor": "white",
            "linecolor": "white",
            "ticks": ""
           }
          },
          "scene": {
           "xaxis": {
            "backgroundcolor": "#E5ECF6",
            "gridcolor": "white",
            "gridwidth": 2,
            "linecolor": "white",
            "showbackground": true,
            "ticks": "",
            "zerolinecolor": "white"
           },
           "yaxis": {
            "backgroundcolor": "#E5ECF6",
            "gridcolor": "white",
            "gridwidth": 2,
            "linecolor": "white",
            "showbackground": true,
            "ticks": "",
            "zerolinecolor": "white"
           },
           "zaxis": {
            "backgroundcolor": "#E5ECF6",
            "gridcolor": "white",
            "gridwidth": 2,
            "linecolor": "white",
            "showbackground": true,
            "ticks": "",
            "zerolinecolor": "white"
           }
          },
          "shapedefaults": {
           "line": {
            "color": "#2a3f5f"
           }
          },
          "ternary": {
           "aaxis": {
            "gridcolor": "white",
            "linecolor": "white",
            "ticks": ""
           },
           "baxis": {
            "gridcolor": "white",
            "linecolor": "white",
            "ticks": ""
           },
           "bgcolor": "#E5ECF6",
           "caxis": {
            "gridcolor": "white",
            "linecolor": "white",
            "ticks": ""
           }
          },
          "title": {
           "x": 0.05
          },
          "xaxis": {
           "automargin": true,
           "gridcolor": "white",
           "linecolor": "white",
           "ticks": "",
           "title": {
            "standoff": 15
           },
           "zerolinecolor": "white",
           "zerolinewidth": 2
          },
          "yaxis": {
           "automargin": true,
           "gridcolor": "white",
           "linecolor": "white",
           "ticks": "",
           "title": {
            "standoff": 15
           },
           "zerolinecolor": "white",
           "zerolinewidth": 2
          }
         }
        },
        "xaxis": {
         "anchor": "y",
         "domain": [
          0,
          1
         ],
         "title": {
          "text": "Date"
         }
        },
        "xaxis2": {
         "anchor": "y2",
         "domain": [
          0,
          1
         ],
         "title": {
          "text": "Date"
         }
        },
        "yaxis": {
         "anchor": "x",
         "domain": [
          0.625,
          1
         ],
         "title": {
          "text": "Share(%)"
         }
        },
        "yaxis2": {
         "anchor": "x2",
         "domain": [
          0,
          0.375
         ],
         "title": {
          "text": "Count"
         }
        }
       }
      }
     },
     "metadata": {},
     "output_type": "display_data"
    }
   ],
   "source": [
    "#genre specific data for mystery\n",
    "\n",
    "mystery_data = data.query('genre_Mystery == 1')\n",
    "mystery_data_grouped = data.groupby(['year'], as_index=False)['genre_Mystery'].sum()\n",
    "\n",
    "fig = make_subplots(rows=2, cols=1, subplot_titles=(\"Mystery Series' Share of Total Viewership\", \"Total Mystery Series per Year\"))\n",
    "\n",
    "fig.add_trace(go.Scatter(x=mystery_data['date'], y=mystery_data['share'], mode='markers', text=mystery_data['title']), row=1, col=1)\n",
    "\n",
    "fig.add_trace(go.Scatter(x=mystery_data_grouped['year'], y=mystery_data_grouped['genre_Mystery'], mode='markers+lines'), row=2, col=1)\n",
    "\n",
    "fig.update_layout(height=800, showlegend=False)\n",
    "\n",
    "fig.update_yaxes(title='Share(%)', row=1, col=1)\n",
    "fig.update_yaxes(title='Count', row=2, col=1)\n",
    "fig.update_xaxes(title='Date')"
   ]
  },
  {
   "cell_type": "markdown",
   "metadata": {},
   "source": [
    "---\n",
    "## <font color='red'>Findings and Results</font>\n",
    "\n",
    "* Despite the early success of _Twin Peaks_, _The Sopranos_ seems to precede a sharp increase of crime series\n",
    "* Action is an extremely broad genre, and has many early successful series. However, _Star Trek_ and _Buffy the Vampire Slayer_ are both successful shows which are followed by an influx of new action series\n",
    "* _The X-Files_ certainly appears to be far and above the most popular mystery show, and many new shows air after its success\n",
    "* It seems many more dramas air starting in about 2004\n",
    "---"
   ]
  },
  {
   "cell_type": "markdown",
   "metadata": {},
   "source": [
    "---\n",
    "## <font color=green>Genre Quality</font>\n",
    "* Create a \"quality\" metric per year. The 25th percentile rating for `av_rating` is 7.73. Create a line plot to show lower quality shows over the years. \n",
    "* Apply this quality metric to genres\n",
    "---"
   ]
  },
  {
   "cell_type": "code",
   "execution_count": 76,
   "metadata": {},
   "outputs": [
    {
     "data": {
      "application/vnd.plotly.v1+json": {
       "config": {
        "plotlyServerURL": "https://plot.ly"
       },
       "data": [
        {
         "mode": "markers+lines",
         "type": "scatter",
         "x": [
          1990,
          1991,
          1992,
          1993,
          1994,
          1995,
          1996,
          1997,
          1998,
          1999,
          2000,
          2001,
          2002,
          2003,
          2004,
          2005,
          2006,
          2007,
          2008,
          2009,
          2010,
          2011,
          2012,
          2013,
          2014,
          2015,
          2016,
          2017,
          2018
         ],
         "y": [
          0.6363636363636364,
          0.7647058823529411,
          0.6,
          0.631578947368421,
          0.6190476190476191,
          0.5789473684210527,
          0.6818181818181818,
          0.6896551724137931,
          0.7727272727272727,
          0.5384615384615384,
          0.625,
          0.71875,
          0.7142857142857143,
          0.7555555555555555,
          0.9,
          0.7580645161290323,
          0.7083333333333334,
          0.7,
          0.8082191780821918,
          0.7419354838709677,
          0.7857142857142857,
          0.696,
          0.8,
          0.7676056338028169,
          0.8012048192771084,
          0.7616580310880829,
          0.8,
          0.7391304347826086,
          0.75
         ]
        }
       ],
       "layout": {
        "showlegend": false,
        "template": {
         "data": {
          "bar": [
           {
            "error_x": {
             "color": "#2a3f5f"
            },
            "error_y": {
             "color": "#2a3f5f"
            },
            "marker": {
             "line": {
              "color": "#E5ECF6",
              "width": 0.5
             },
             "pattern": {
              "fillmode": "overlay",
              "size": 10,
              "solidity": 0.2
             }
            },
            "type": "bar"
           }
          ],
          "barpolar": [
           {
            "marker": {
             "line": {
              "color": "#E5ECF6",
              "width": 0.5
             },
             "pattern": {
              "fillmode": "overlay",
              "size": 10,
              "solidity": 0.2
             }
            },
            "type": "barpolar"
           }
          ],
          "carpet": [
           {
            "aaxis": {
             "endlinecolor": "#2a3f5f",
             "gridcolor": "white",
             "linecolor": "white",
             "minorgridcolor": "white",
             "startlinecolor": "#2a3f5f"
            },
            "baxis": {
             "endlinecolor": "#2a3f5f",
             "gridcolor": "white",
             "linecolor": "white",
             "minorgridcolor": "white",
             "startlinecolor": "#2a3f5f"
            },
            "type": "carpet"
           }
          ],
          "choropleth": [
           {
            "colorbar": {
             "outlinewidth": 0,
             "ticks": ""
            },
            "type": "choropleth"
           }
          ],
          "contour": [
           {
            "colorbar": {
             "outlinewidth": 0,
             "ticks": ""
            },
            "colorscale": [
             [
              0,
              "#0d0887"
             ],
             [
              0.1111111111111111,
              "#46039f"
             ],
             [
              0.2222222222222222,
              "#7201a8"
             ],
             [
              0.3333333333333333,
              "#9c179e"
             ],
             [
              0.4444444444444444,
              "#bd3786"
             ],
             [
              0.5555555555555556,
              "#d8576b"
             ],
             [
              0.6666666666666666,
              "#ed7953"
             ],
             [
              0.7777777777777778,
              "#fb9f3a"
             ],
             [
              0.8888888888888888,
              "#fdca26"
             ],
             [
              1,
              "#f0f921"
             ]
            ],
            "type": "contour"
           }
          ],
          "contourcarpet": [
           {
            "colorbar": {
             "outlinewidth": 0,
             "ticks": ""
            },
            "type": "contourcarpet"
           }
          ],
          "heatmap": [
           {
            "colorbar": {
             "outlinewidth": 0,
             "ticks": ""
            },
            "colorscale": [
             [
              0,
              "#0d0887"
             ],
             [
              0.1111111111111111,
              "#46039f"
             ],
             [
              0.2222222222222222,
              "#7201a8"
             ],
             [
              0.3333333333333333,
              "#9c179e"
             ],
             [
              0.4444444444444444,
              "#bd3786"
             ],
             [
              0.5555555555555556,
              "#d8576b"
             ],
             [
              0.6666666666666666,
              "#ed7953"
             ],
             [
              0.7777777777777778,
              "#fb9f3a"
             ],
             [
              0.8888888888888888,
              "#fdca26"
             ],
             [
              1,
              "#f0f921"
             ]
            ],
            "type": "heatmap"
           }
          ],
          "heatmapgl": [
           {
            "colorbar": {
             "outlinewidth": 0,
             "ticks": ""
            },
            "colorscale": [
             [
              0,
              "#0d0887"
             ],
             [
              0.1111111111111111,
              "#46039f"
             ],
             [
              0.2222222222222222,
              "#7201a8"
             ],
             [
              0.3333333333333333,
              "#9c179e"
             ],
             [
              0.4444444444444444,
              "#bd3786"
             ],
             [
              0.5555555555555556,
              "#d8576b"
             ],
             [
              0.6666666666666666,
              "#ed7953"
             ],
             [
              0.7777777777777778,
              "#fb9f3a"
             ],
             [
              0.8888888888888888,
              "#fdca26"
             ],
             [
              1,
              "#f0f921"
             ]
            ],
            "type": "heatmapgl"
           }
          ],
          "histogram": [
           {
            "marker": {
             "pattern": {
              "fillmode": "overlay",
              "size": 10,
              "solidity": 0.2
             }
            },
            "type": "histogram"
           }
          ],
          "histogram2d": [
           {
            "colorbar": {
             "outlinewidth": 0,
             "ticks": ""
            },
            "colorscale": [
             [
              0,
              "#0d0887"
             ],
             [
              0.1111111111111111,
              "#46039f"
             ],
             [
              0.2222222222222222,
              "#7201a8"
             ],
             [
              0.3333333333333333,
              "#9c179e"
             ],
             [
              0.4444444444444444,
              "#bd3786"
             ],
             [
              0.5555555555555556,
              "#d8576b"
             ],
             [
              0.6666666666666666,
              "#ed7953"
             ],
             [
              0.7777777777777778,
              "#fb9f3a"
             ],
             [
              0.8888888888888888,
              "#fdca26"
             ],
             [
              1,
              "#f0f921"
             ]
            ],
            "type": "histogram2d"
           }
          ],
          "histogram2dcontour": [
           {
            "colorbar": {
             "outlinewidth": 0,
             "ticks": ""
            },
            "colorscale": [
             [
              0,
              "#0d0887"
             ],
             [
              0.1111111111111111,
              "#46039f"
             ],
             [
              0.2222222222222222,
              "#7201a8"
             ],
             [
              0.3333333333333333,
              "#9c179e"
             ],
             [
              0.4444444444444444,
              "#bd3786"
             ],
             [
              0.5555555555555556,
              "#d8576b"
             ],
             [
              0.6666666666666666,
              "#ed7953"
             ],
             [
              0.7777777777777778,
              "#fb9f3a"
             ],
             [
              0.8888888888888888,
              "#fdca26"
             ],
             [
              1,
              "#f0f921"
             ]
            ],
            "type": "histogram2dcontour"
           }
          ],
          "mesh3d": [
           {
            "colorbar": {
             "outlinewidth": 0,
             "ticks": ""
            },
            "type": "mesh3d"
           }
          ],
          "parcoords": [
           {
            "line": {
             "colorbar": {
              "outlinewidth": 0,
              "ticks": ""
             }
            },
            "type": "parcoords"
           }
          ],
          "pie": [
           {
            "automargin": true,
            "type": "pie"
           }
          ],
          "scatter": [
           {
            "fillpattern": {
             "fillmode": "overlay",
             "size": 10,
             "solidity": 0.2
            },
            "type": "scatter"
           }
          ],
          "scatter3d": [
           {
            "line": {
             "colorbar": {
              "outlinewidth": 0,
              "ticks": ""
             }
            },
            "marker": {
             "colorbar": {
              "outlinewidth": 0,
              "ticks": ""
             }
            },
            "type": "scatter3d"
           }
          ],
          "scattercarpet": [
           {
            "marker": {
             "colorbar": {
              "outlinewidth": 0,
              "ticks": ""
             }
            },
            "type": "scattercarpet"
           }
          ],
          "scattergeo": [
           {
            "marker": {
             "colorbar": {
              "outlinewidth": 0,
              "ticks": ""
             }
            },
            "type": "scattergeo"
           }
          ],
          "scattergl": [
           {
            "marker": {
             "colorbar": {
              "outlinewidth": 0,
              "ticks": ""
             }
            },
            "type": "scattergl"
           }
          ],
          "scattermapbox": [
           {
            "marker": {
             "colorbar": {
              "outlinewidth": 0,
              "ticks": ""
             }
            },
            "type": "scattermapbox"
           }
          ],
          "scatterpolar": [
           {
            "marker": {
             "colorbar": {
              "outlinewidth": 0,
              "ticks": ""
             }
            },
            "type": "scatterpolar"
           }
          ],
          "scatterpolargl": [
           {
            "marker": {
             "colorbar": {
              "outlinewidth": 0,
              "ticks": ""
             }
            },
            "type": "scatterpolargl"
           }
          ],
          "scatterternary": [
           {
            "marker": {
             "colorbar": {
              "outlinewidth": 0,
              "ticks": ""
             }
            },
            "type": "scatterternary"
           }
          ],
          "surface": [
           {
            "colorbar": {
             "outlinewidth": 0,
             "ticks": ""
            },
            "colorscale": [
             [
              0,
              "#0d0887"
             ],
             [
              0.1111111111111111,
              "#46039f"
             ],
             [
              0.2222222222222222,
              "#7201a8"
             ],
             [
              0.3333333333333333,
              "#9c179e"
             ],
             [
              0.4444444444444444,
              "#bd3786"
             ],
             [
              0.5555555555555556,
              "#d8576b"
             ],
             [
              0.6666666666666666,
              "#ed7953"
             ],
             [
              0.7777777777777778,
              "#fb9f3a"
             ],
             [
              0.8888888888888888,
              "#fdca26"
             ],
             [
              1,
              "#f0f921"
             ]
            ],
            "type": "surface"
           }
          ],
          "table": [
           {
            "cells": {
             "fill": {
              "color": "#EBF0F8"
             },
             "line": {
              "color": "white"
             }
            },
            "header": {
             "fill": {
              "color": "#C8D4E3"
             },
             "line": {
              "color": "white"
             }
            },
            "type": "table"
           }
          ]
         },
         "layout": {
          "annotationdefaults": {
           "arrowcolor": "#2a3f5f",
           "arrowhead": 0,
           "arrowwidth": 1
          },
          "autotypenumbers": "strict",
          "coloraxis": {
           "colorbar": {
            "outlinewidth": 0,
            "ticks": ""
           }
          },
          "colorscale": {
           "diverging": [
            [
             0,
             "#8e0152"
            ],
            [
             0.1,
             "#c51b7d"
            ],
            [
             0.2,
             "#de77ae"
            ],
            [
             0.3,
             "#f1b6da"
            ],
            [
             0.4,
             "#fde0ef"
            ],
            [
             0.5,
             "#f7f7f7"
            ],
            [
             0.6,
             "#e6f5d0"
            ],
            [
             0.7,
             "#b8e186"
            ],
            [
             0.8,
             "#7fbc41"
            ],
            [
             0.9,
             "#4d9221"
            ],
            [
             1,
             "#276419"
            ]
           ],
           "sequential": [
            [
             0,
             "#0d0887"
            ],
            [
             0.1111111111111111,
             "#46039f"
            ],
            [
             0.2222222222222222,
             "#7201a8"
            ],
            [
             0.3333333333333333,
             "#9c179e"
            ],
            [
             0.4444444444444444,
             "#bd3786"
            ],
            [
             0.5555555555555556,
             "#d8576b"
            ],
            [
             0.6666666666666666,
             "#ed7953"
            ],
            [
             0.7777777777777778,
             "#fb9f3a"
            ],
            [
             0.8888888888888888,
             "#fdca26"
            ],
            [
             1,
             "#f0f921"
            ]
           ],
           "sequentialminus": [
            [
             0,
             "#0d0887"
            ],
            [
             0.1111111111111111,
             "#46039f"
            ],
            [
             0.2222222222222222,
             "#7201a8"
            ],
            [
             0.3333333333333333,
             "#9c179e"
            ],
            [
             0.4444444444444444,
             "#bd3786"
            ],
            [
             0.5555555555555556,
             "#d8576b"
            ],
            [
             0.6666666666666666,
             "#ed7953"
            ],
            [
             0.7777777777777778,
             "#fb9f3a"
            ],
            [
             0.8888888888888888,
             "#fdca26"
            ],
            [
             1,
             "#f0f921"
            ]
           ]
          },
          "colorway": [
           "#636efa",
           "#EF553B",
           "#00cc96",
           "#ab63fa",
           "#FFA15A",
           "#19d3f3",
           "#FF6692",
           "#B6E880",
           "#FF97FF",
           "#FECB52"
          ],
          "font": {
           "color": "#2a3f5f"
          },
          "geo": {
           "bgcolor": "white",
           "lakecolor": "white",
           "landcolor": "#E5ECF6",
           "showlakes": true,
           "showland": true,
           "subunitcolor": "white"
          },
          "hoverlabel": {
           "align": "left"
          },
          "hovermode": "closest",
          "mapbox": {
           "style": "light"
          },
          "paper_bgcolor": "white",
          "plot_bgcolor": "#E5ECF6",
          "polar": {
           "angularaxis": {
            "gridcolor": "white",
            "linecolor": "white",
            "ticks": ""
           },
           "bgcolor": "#E5ECF6",
           "radialaxis": {
            "gridcolor": "white",
            "linecolor": "white",
            "ticks": ""
           }
          },
          "scene": {
           "xaxis": {
            "backgroundcolor": "#E5ECF6",
            "gridcolor": "white",
            "gridwidth": 2,
            "linecolor": "white",
            "showbackground": true,
            "ticks": "",
            "zerolinecolor": "white"
           },
           "yaxis": {
            "backgroundcolor": "#E5ECF6",
            "gridcolor": "white",
            "gridwidth": 2,
            "linecolor": "white",
            "showbackground": true,
            "ticks": "",
            "zerolinecolor": "white"
           },
           "zaxis": {
            "backgroundcolor": "#E5ECF6",
            "gridcolor": "white",
            "gridwidth": 2,
            "linecolor": "white",
            "showbackground": true,
            "ticks": "",
            "zerolinecolor": "white"
           }
          },
          "shapedefaults": {
           "line": {
            "color": "#2a3f5f"
           }
          },
          "ternary": {
           "aaxis": {
            "gridcolor": "white",
            "linecolor": "white",
            "ticks": ""
           },
           "baxis": {
            "gridcolor": "white",
            "linecolor": "white",
            "ticks": ""
           },
           "bgcolor": "#E5ECF6",
           "caxis": {
            "gridcolor": "white",
            "linecolor": "white",
            "ticks": ""
           }
          },
          "title": {
           "x": 0.05
          },
          "xaxis": {
           "automargin": true,
           "gridcolor": "white",
           "linecolor": "white",
           "ticks": "",
           "title": {
            "standoff": 15
           },
           "zerolinecolor": "white",
           "zerolinewidth": 2
          },
          "yaxis": {
           "automargin": true,
           "gridcolor": "white",
           "linecolor": "white",
           "ticks": "",
           "title": {
            "standoff": 15
           },
           "zerolinecolor": "white",
           "zerolinewidth": 2
          }
         }
        },
        "title": {
         "text": "TV Series Quality (by Rating)"
        },
        "xaxis": {
         "title": {
          "text": "Date"
         }
        },
        "yaxis": {
         "title": {
          "text": "% Quality"
         }
        }
       }
      }
     },
     "metadata": {},
     "output_type": "display_data"
    }
   ],
   "source": [
    "#overall series quality per year\n",
    "\n",
    "data['quality'] = data['av_rating'] > 7.73\n",
    "data['quality'] = data['quality'].map({True:1, False:0})\n",
    "\n",
    "data_quality = data.groupby('year', as_index=False).agg(Sum=pd.NamedAgg(column='quality', aggfunc='sum'), Count=pd.NamedAgg(column='quality', aggfunc='count'))\n",
    "fig = go.Figure()\n",
    "\n",
    "fig.add_trace(go.Scatter(x=data_quality['year'], y=data_quality['Sum'] / data_quality['Count'], mode='markers+lines'))\n",
    "\n",
    "fig.update_layout(showlegend=False, title_text=\"TV Series Quality (by Rating)\")\n",
    "fig.update_yaxes(title='% Quality')\n",
    "fig.update_xaxes(title='Date')"
   ]
  },
  {
   "cell_type": "code",
   "execution_count": 77,
   "metadata": {},
   "outputs": [
    {
     "data": {
      "application/vnd.plotly.v1+json": {
       "config": {
        "plotlyServerURL": "https://plot.ly"
       },
       "data": [
        {
         "connectgaps": true,
         "name": "Crime",
         "type": "scatter",
         "x": [
          1990,
          1990,
          1991,
          1991,
          1992,
          1992,
          1993,
          1993,
          1994,
          1994,
          1995,
          1995,
          1996,
          1996,
          1997,
          1997,
          1998,
          1998,
          1999,
          1999,
          2000,
          2000,
          2001,
          2001,
          2002,
          2002,
          2003,
          2003,
          2004,
          2004,
          2005,
          2005,
          2006,
          2006,
          2007,
          2007,
          2008,
          2008,
          2009,
          2009,
          2010,
          2010,
          2011,
          2011,
          2012,
          2012,
          2013,
          2013,
          2014,
          2014,
          2015,
          2015,
          2016,
          2016,
          2017,
          2017,
          2018,
          2018
         ],
         "y": [
          0.6111111111111112,
          0.75,
          0.7272727272727273,
          0.8333333333333334,
          0.8571428571428571,
          0,
          0.5384615384615384,
          0.8333333333333334,
          0.5714285714285714,
          0.7142857142857143,
          1,
          0.5,
          1,
          0.5882352941176471,
          0.8,
          0.631578947368421,
          0.7777777777777778,
          0.75,
          0.5714285714285714,
          0.5263157894736842,
          0.6363636363636364,
          0.6,
          0.75,
          0.625,
          0.7692307692307693,
          0.6896551724137931,
          0.75,
          0.7586206896551724,
          0.8947368421052632,
          0.9032258064516129,
          0.8823529411764706,
          0.6071428571428571,
          0.7419354838709677,
          0.6829268292682927,
          0.7272727272727273,
          0.6842105263157895,
          0.8,
          0.813953488372093,
          0.8055555555555556,
          0.7017543859649122,
          0.75,
          0.82,
          0.6923076923076923,
          0.6986301369863014,
          0.8085106382978723,
          0.7941176470588235,
          0.7411764705882353,
          0.8070175438596491,
          0.8596491228070176,
          0.7706422018348624,
          0.7397260273972602,
          0.775,
          0.8636363636363636,
          0.7718120805369127,
          0.7682926829268293,
          0.722972972972973,
          0.7317073170731707,
          0.7868852459016393
         ]
        },
        {
         "connectgaps": true,
         "name": "Action",
         "type": "scatter",
         "x": [
          1990,
          1990,
          1991,
          1991,
          1992,
          1992,
          1993,
          1993,
          1994,
          1994,
          1995,
          1995,
          1996,
          1996,
          1997,
          1997,
          1998,
          1998,
          1999,
          1999,
          2000,
          2000,
          2001,
          2001,
          2002,
          2002,
          2003,
          2003,
          2004,
          2004,
          2005,
          2005,
          2006,
          2006,
          2007,
          2007,
          2008,
          2008,
          2009,
          2009,
          2010,
          2010,
          2011,
          2011,
          2012,
          2012,
          2013,
          2013,
          2014,
          2014,
          2015,
          2015,
          2016,
          2016,
          2017,
          2017,
          2018,
          2018
         ],
         "y": [
          0.6190476190476191,
          1,
          0.75,
          1,
          0.5555555555555556,
          1,
          0.6470588235294118,
          0.5,
          0.6842105263157895,
          0,
          0.5,
          0.6,
          0.5,
          0.75,
          0.8181818181818182,
          0.6111111111111112,
          0.8125,
          0.6666666666666666,
          0.2857142857142857,
          0.631578947368421,
          0.64,
          0.5714285714285714,
          0.7083333333333334,
          0.75,
          0.5555555555555556,
          0.7575757575757576,
          0.6,
          0.8,
          0.7142857142857143,
          0.9302325581395349,
          0.75,
          0.7857142857142857,
          0.5454545454545454,
          0.7377049180327869,
          0.8461538461538461,
          0.6753246753246753,
          0.8181818181818182,
          0.8064516129032258,
          1,
          0.7142857142857143,
          0.6363636363636364,
          0.8045977011494253,
          0.6521739130434783,
          0.7058823529411765,
          0.7,
          0.8210526315789474,
          0.75,
          0.8461538461538461,
          0.8518518518518519,
          0.7913669064748201,
          0.8333333333333334,
          0.7484662576687117,
          0.875,
          0.7868852459016393,
          0.8157894736842105,
          0.7239583333333334,
          0.7361111111111112,
          0.8
         ]
        },
        {
         "connectgaps": true,
         "name": "Mystery",
         "type": "scatter",
         "x": [
          1990,
          1990,
          1991,
          1991,
          1992,
          1992,
          1993,
          1993,
          1994,
          1994,
          1995,
          1995,
          1996,
          1996,
          1997,
          1997,
          1998,
          1998,
          1999,
          1999,
          2000,
          2000,
          2001,
          2001,
          2002,
          2002,
          2003,
          2003,
          2004,
          2004,
          2005,
          2005,
          2006,
          2006,
          2007,
          2007,
          2008,
          2008,
          2009,
          2009,
          2010,
          2010,
          2011,
          2011,
          2012,
          2012,
          2013,
          2013,
          2014,
          2014,
          2015,
          2015,
          2016,
          2016,
          2017,
          2017,
          2018,
          2018
         ],
         "y": [
          0.6111111111111112,
          0.75,
          0.7272727272727273,
          0.8333333333333334,
          0.8571428571428571,
          0,
          0.5833333333333334,
          0.7142857142857143,
          0.5384615384615384,
          0.75,
          1,
          0.4666666666666667,
          1,
          0.5625,
          0.8,
          0.6666666666666666,
          0.7894736842105263,
          0.6666666666666666,
          0.6666666666666666,
          0.5,
          0.5833333333333334,
          0.75,
          0.8095238095238095,
          0.5454545454545454,
          0.5714285714285714,
          0.7857142857142857,
          0.75,
          0.7575757575757576,
          0.8181818181818182,
          0.9230769230769231,
          0.8536585365853658,
          0.5714285714285714,
          0.6818181818181818,
          0.72,
          0.7391304347826086,
          0.6865671641791045,
          0.7894736842105263,
          0.8148148148148148,
          0.8275862068965517,
          0.703125,
          0.8125,
          0.7727272727272727,
          0.6896551724137931,
          0.6979166666666666,
          0.875,
          0.7710843373493976,
          0.7864077669902912,
          0.717948717948718,
          0.7435897435897436,
          0.8188976377952756,
          0.75,
          0.7651006711409396,
          0.631578947368421,
          0.8361581920903954,
          0.7555555555555555,
          0.7351351351351352,
          0.7808219178082192,
          0.631578947368421
         ]
        },
        {
         "connectgaps": true,
         "name": "Comedy",
         "type": "scatter",
         "x": [
          1990,
          1990,
          1991,
          1991,
          1992,
          1992,
          1993,
          1993,
          1994,
          1994,
          1995,
          1995,
          1996,
          1996,
          1997,
          1997,
          1998,
          1998,
          1999,
          1999,
          2000,
          2000,
          2001,
          2001,
          2002,
          2002,
          2003,
          2003,
          2004,
          2004,
          2005,
          2005,
          2006,
          2006,
          2007,
          2007,
          2008,
          2008,
          2009,
          2009,
          2010,
          2010,
          2011,
          2011,
          2012,
          2012,
          2013,
          2013,
          2014,
          2014,
          2015,
          2015,
          2016,
          2016,
          2017,
          2017,
          2018,
          2018
         ],
         "y": [
          0.8181818181818182,
          0.45454545454545453,
          0.7,
          0.8571428571428571,
          0.25,
          0.8333333333333334,
          0.7142857142857143,
          0.4,
          0.5714285714285714,
          0.7142857142857143,
          0,
          0.7333333333333333,
          0.4,
          0.7647058823529411,
          0.5714285714285714,
          0.7272727272727273,
          0.75,
          0.8333333333333334,
          0.75,
          0.5,
          0.6,
          0.7142857142857143,
          0.6923076923076923,
          0.8333333333333334,
          0.7777777777777778,
          0.696969696969697,
          0.8,
          0.7428571428571429,
          1,
          0.8648648648648649,
          0.7169811320754716,
          1,
          0.75,
          0.6964285714285714,
          0.75,
          0.6857142857142857,
          0.7894736842105263,
          0.8148148148148148,
          0.6428571428571429,
          0.7846153846153846,
          0.8148148148148148,
          0.7746478873239436,
          0.75,
          0.6741573033707865,
          0.8666666666666667,
          0.7764705882352941,
          0.7739130434782608,
          0.7407407407407407,
          0.78125,
          0.8059701492537313,
          0.8461538461538461,
          0.7402597402597403,
          0.88,
          0.7757575757575758,
          0.7674418604651163,
          0.732620320855615,
          0.7483443708609272,
          0.7575757575757576
         ]
        },
        {
         "connectgaps": true,
         "name": "Sci-Fi",
         "type": "scatter",
         "x": [
          1990,
          1991,
          1992,
          1993,
          1994,
          1994,
          1995,
          1995,
          1996,
          1996,
          1997,
          1997,
          1998,
          1998,
          1999,
          1999,
          2000,
          2000,
          2001,
          2001,
          2002,
          2002,
          2003,
          2004,
          2004,
          2005,
          2005,
          2006,
          2006,
          2007,
          2007,
          2008,
          2008,
          2009,
          2009,
          2010,
          2010,
          2011,
          2011,
          2012,
          2012,
          2013,
          2013,
          2014,
          2014,
          2015,
          2015,
          2016,
          2016,
          2017,
          2017,
          2018,
          2018
         ],
         "y": [
          0.6363636363636364,
          0.7647058823529411,
          0.6,
          0.631578947368421,
          1,
          0.6,
          0.5555555555555556,
          1,
          1,
          0.631578947368421,
          1,
          0.6785714285714286,
          0.8,
          0.5,
          0.5416666666666666,
          0.5,
          0.6206896551724138,
          0.6666666666666666,
          0.7241379310344828,
          0.6666666666666666,
          0.7222222222222222,
          0.6666666666666666,
          0.7555555555555555,
          1,
          0.8979591836734694,
          0,
          0.7833333333333333,
          0,
          0.7391304347826086,
          0.6666666666666666,
          0.7023809523809523,
          0.8115942028985508,
          0.75,
          0.6666666666666666,
          0.75,
          0.6666666666666666,
          0.7934782608695652,
          0.5555555555555556,
          0.7068965517241379,
          0.6666666666666666,
          0.8073394495412844,
          0.7761194029850746,
          0.625,
          0.8051948051948052,
          0.75,
          0.6428571428571429,
          0.770949720670391,
          0.5882352941176471,
          0.8181818181818182,
          0.7523364485981309,
          0.5625,
          0.7636363636363637,
          0.631578947368421
         ]
        }
       ],
       "layout": {
        "template": {
         "data": {
          "bar": [
           {
            "error_x": {
             "color": "#2a3f5f"
            },
            "error_y": {
             "color": "#2a3f5f"
            },
            "marker": {
             "line": {
              "color": "#E5ECF6",
              "width": 0.5
             },
             "pattern": {
              "fillmode": "overlay",
              "size": 10,
              "solidity": 0.2
             }
            },
            "type": "bar"
           }
          ],
          "barpolar": [
           {
            "marker": {
             "line": {
              "color": "#E5ECF6",
              "width": 0.5
             },
             "pattern": {
              "fillmode": "overlay",
              "size": 10,
              "solidity": 0.2
             }
            },
            "type": "barpolar"
           }
          ],
          "carpet": [
           {
            "aaxis": {
             "endlinecolor": "#2a3f5f",
             "gridcolor": "white",
             "linecolor": "white",
             "minorgridcolor": "white",
             "startlinecolor": "#2a3f5f"
            },
            "baxis": {
             "endlinecolor": "#2a3f5f",
             "gridcolor": "white",
             "linecolor": "white",
             "minorgridcolor": "white",
             "startlinecolor": "#2a3f5f"
            },
            "type": "carpet"
           }
          ],
          "choropleth": [
           {
            "colorbar": {
             "outlinewidth": 0,
             "ticks": ""
            },
            "type": "choropleth"
           }
          ],
          "contour": [
           {
            "colorbar": {
             "outlinewidth": 0,
             "ticks": ""
            },
            "colorscale": [
             [
              0,
              "#0d0887"
             ],
             [
              0.1111111111111111,
              "#46039f"
             ],
             [
              0.2222222222222222,
              "#7201a8"
             ],
             [
              0.3333333333333333,
              "#9c179e"
             ],
             [
              0.4444444444444444,
              "#bd3786"
             ],
             [
              0.5555555555555556,
              "#d8576b"
             ],
             [
              0.6666666666666666,
              "#ed7953"
             ],
             [
              0.7777777777777778,
              "#fb9f3a"
             ],
             [
              0.8888888888888888,
              "#fdca26"
             ],
             [
              1,
              "#f0f921"
             ]
            ],
            "type": "contour"
           }
          ],
          "contourcarpet": [
           {
            "colorbar": {
             "outlinewidth": 0,
             "ticks": ""
            },
            "type": "contourcarpet"
           }
          ],
          "heatmap": [
           {
            "colorbar": {
             "outlinewidth": 0,
             "ticks": ""
            },
            "colorscale": [
             [
              0,
              "#0d0887"
             ],
             [
              0.1111111111111111,
              "#46039f"
             ],
             [
              0.2222222222222222,
              "#7201a8"
             ],
             [
              0.3333333333333333,
              "#9c179e"
             ],
             [
              0.4444444444444444,
              "#bd3786"
             ],
             [
              0.5555555555555556,
              "#d8576b"
             ],
             [
              0.6666666666666666,
              "#ed7953"
             ],
             [
              0.7777777777777778,
              "#fb9f3a"
             ],
             [
              0.8888888888888888,
              "#fdca26"
             ],
             [
              1,
              "#f0f921"
             ]
            ],
            "type": "heatmap"
           }
          ],
          "heatmapgl": [
           {
            "colorbar": {
             "outlinewidth": 0,
             "ticks": ""
            },
            "colorscale": [
             [
              0,
              "#0d0887"
             ],
             [
              0.1111111111111111,
              "#46039f"
             ],
             [
              0.2222222222222222,
              "#7201a8"
             ],
             [
              0.3333333333333333,
              "#9c179e"
             ],
             [
              0.4444444444444444,
              "#bd3786"
             ],
             [
              0.5555555555555556,
              "#d8576b"
             ],
             [
              0.6666666666666666,
              "#ed7953"
             ],
             [
              0.7777777777777778,
              "#fb9f3a"
             ],
             [
              0.8888888888888888,
              "#fdca26"
             ],
             [
              1,
              "#f0f921"
             ]
            ],
            "type": "heatmapgl"
           }
          ],
          "histogram": [
           {
            "marker": {
             "pattern": {
              "fillmode": "overlay",
              "size": 10,
              "solidity": 0.2
             }
            },
            "type": "histogram"
           }
          ],
          "histogram2d": [
           {
            "colorbar": {
             "outlinewidth": 0,
             "ticks": ""
            },
            "colorscale": [
             [
              0,
              "#0d0887"
             ],
             [
              0.1111111111111111,
              "#46039f"
             ],
             [
              0.2222222222222222,
              "#7201a8"
             ],
             [
              0.3333333333333333,
              "#9c179e"
             ],
             [
              0.4444444444444444,
              "#bd3786"
             ],
             [
              0.5555555555555556,
              "#d8576b"
             ],
             [
              0.6666666666666666,
              "#ed7953"
             ],
             [
              0.7777777777777778,
              "#fb9f3a"
             ],
             [
              0.8888888888888888,
              "#fdca26"
             ],
             [
              1,
              "#f0f921"
             ]
            ],
            "type": "histogram2d"
           }
          ],
          "histogram2dcontour": [
           {
            "colorbar": {
             "outlinewidth": 0,
             "ticks": ""
            },
            "colorscale": [
             [
              0,
              "#0d0887"
             ],
             [
              0.1111111111111111,
              "#46039f"
             ],
             [
              0.2222222222222222,
              "#7201a8"
             ],
             [
              0.3333333333333333,
              "#9c179e"
             ],
             [
              0.4444444444444444,
              "#bd3786"
             ],
             [
              0.5555555555555556,
              "#d8576b"
             ],
             [
              0.6666666666666666,
              "#ed7953"
             ],
             [
              0.7777777777777778,
              "#fb9f3a"
             ],
             [
              0.8888888888888888,
              "#fdca26"
             ],
             [
              1,
              "#f0f921"
             ]
            ],
            "type": "histogram2dcontour"
           }
          ],
          "mesh3d": [
           {
            "colorbar": {
             "outlinewidth": 0,
             "ticks": ""
            },
            "type": "mesh3d"
           }
          ],
          "parcoords": [
           {
            "line": {
             "colorbar": {
              "outlinewidth": 0,
              "ticks": ""
             }
            },
            "type": "parcoords"
           }
          ],
          "pie": [
           {
            "automargin": true,
            "type": "pie"
           }
          ],
          "scatter": [
           {
            "fillpattern": {
             "fillmode": "overlay",
             "size": 10,
             "solidity": 0.2
            },
            "type": "scatter"
           }
          ],
          "scatter3d": [
           {
            "line": {
             "colorbar": {
              "outlinewidth": 0,
              "ticks": ""
             }
            },
            "marker": {
             "colorbar": {
              "outlinewidth": 0,
              "ticks": ""
             }
            },
            "type": "scatter3d"
           }
          ],
          "scattercarpet": [
           {
            "marker": {
             "colorbar": {
              "outlinewidth": 0,
              "ticks": ""
             }
            },
            "type": "scattercarpet"
           }
          ],
          "scattergeo": [
           {
            "marker": {
             "colorbar": {
              "outlinewidth": 0,
              "ticks": ""
             }
            },
            "type": "scattergeo"
           }
          ],
          "scattergl": [
           {
            "marker": {
             "colorbar": {
              "outlinewidth": 0,
              "ticks": ""
             }
            },
            "type": "scattergl"
           }
          ],
          "scattermapbox": [
           {
            "marker": {
             "colorbar": {
              "outlinewidth": 0,
              "ticks": ""
             }
            },
            "type": "scattermapbox"
           }
          ],
          "scatterpolar": [
           {
            "marker": {
             "colorbar": {
              "outlinewidth": 0,
              "ticks": ""
             }
            },
            "type": "scatterpolar"
           }
          ],
          "scatterpolargl": [
           {
            "marker": {
             "colorbar": {
              "outlinewidth": 0,
              "ticks": ""
             }
            },
            "type": "scatterpolargl"
           }
          ],
          "scatterternary": [
           {
            "marker": {
             "colorbar": {
              "outlinewidth": 0,
              "ticks": ""
             }
            },
            "type": "scatterternary"
           }
          ],
          "surface": [
           {
            "colorbar": {
             "outlinewidth": 0,
             "ticks": ""
            },
            "colorscale": [
             [
              0,
              "#0d0887"
             ],
             [
              0.1111111111111111,
              "#46039f"
             ],
             [
              0.2222222222222222,
              "#7201a8"
             ],
             [
              0.3333333333333333,
              "#9c179e"
             ],
             [
              0.4444444444444444,
              "#bd3786"
             ],
             [
              0.5555555555555556,
              "#d8576b"
             ],
             [
              0.6666666666666666,
              "#ed7953"
             ],
             [
              0.7777777777777778,
              "#fb9f3a"
             ],
             [
              0.8888888888888888,
              "#fdca26"
             ],
             [
              1,
              "#f0f921"
             ]
            ],
            "type": "surface"
           }
          ],
          "table": [
           {
            "cells": {
             "fill": {
              "color": "#EBF0F8"
             },
             "line": {
              "color": "white"
             }
            },
            "header": {
             "fill": {
              "color": "#C8D4E3"
             },
             "line": {
              "color": "white"
             }
            },
            "type": "table"
           }
          ]
         },
         "layout": {
          "annotationdefaults": {
           "arrowcolor": "#2a3f5f",
           "arrowhead": 0,
           "arrowwidth": 1
          },
          "autotypenumbers": "strict",
          "coloraxis": {
           "colorbar": {
            "outlinewidth": 0,
            "ticks": ""
           }
          },
          "colorscale": {
           "diverging": [
            [
             0,
             "#8e0152"
            ],
            [
             0.1,
             "#c51b7d"
            ],
            [
             0.2,
             "#de77ae"
            ],
            [
             0.3,
             "#f1b6da"
            ],
            [
             0.4,
             "#fde0ef"
            ],
            [
             0.5,
             "#f7f7f7"
            ],
            [
             0.6,
             "#e6f5d0"
            ],
            [
             0.7,
             "#b8e186"
            ],
            [
             0.8,
             "#7fbc41"
            ],
            [
             0.9,
             "#4d9221"
            ],
            [
             1,
             "#276419"
            ]
           ],
           "sequential": [
            [
             0,
             "#0d0887"
            ],
            [
             0.1111111111111111,
             "#46039f"
            ],
            [
             0.2222222222222222,
             "#7201a8"
            ],
            [
             0.3333333333333333,
             "#9c179e"
            ],
            [
             0.4444444444444444,
             "#bd3786"
            ],
            [
             0.5555555555555556,
             "#d8576b"
            ],
            [
             0.6666666666666666,
             "#ed7953"
            ],
            [
             0.7777777777777778,
             "#fb9f3a"
            ],
            [
             0.8888888888888888,
             "#fdca26"
            ],
            [
             1,
             "#f0f921"
            ]
           ],
           "sequentialminus": [
            [
             0,
             "#0d0887"
            ],
            [
             0.1111111111111111,
             "#46039f"
            ],
            [
             0.2222222222222222,
             "#7201a8"
            ],
            [
             0.3333333333333333,
             "#9c179e"
            ],
            [
             0.4444444444444444,
             "#bd3786"
            ],
            [
             0.5555555555555556,
             "#d8576b"
            ],
            [
             0.6666666666666666,
             "#ed7953"
            ],
            [
             0.7777777777777778,
             "#fb9f3a"
            ],
            [
             0.8888888888888888,
             "#fdca26"
            ],
            [
             1,
             "#f0f921"
            ]
           ]
          },
          "colorway": [
           "#636efa",
           "#EF553B",
           "#00cc96",
           "#ab63fa",
           "#FFA15A",
           "#19d3f3",
           "#FF6692",
           "#B6E880",
           "#FF97FF",
           "#FECB52"
          ],
          "font": {
           "color": "#2a3f5f"
          },
          "geo": {
           "bgcolor": "white",
           "lakecolor": "white",
           "landcolor": "#E5ECF6",
           "showlakes": true,
           "showland": true,
           "subunitcolor": "white"
          },
          "hoverlabel": {
           "align": "left"
          },
          "hovermode": "closest",
          "mapbox": {
           "style": "light"
          },
          "paper_bgcolor": "white",
          "plot_bgcolor": "#E5ECF6",
          "polar": {
           "angularaxis": {
            "gridcolor": "white",
            "linecolor": "white",
            "ticks": ""
           },
           "bgcolor": "#E5ECF6",
           "radialaxis": {
            "gridcolor": "white",
            "linecolor": "white",
            "ticks": ""
           }
          },
          "scene": {
           "xaxis": {
            "backgroundcolor": "#E5ECF6",
            "gridcolor": "white",
            "gridwidth": 2,
            "linecolor": "white",
            "showbackground": true,
            "ticks": "",
            "zerolinecolor": "white"
           },
           "yaxis": {
            "backgroundcolor": "#E5ECF6",
            "gridcolor": "white",
            "gridwidth": 2,
            "linecolor": "white",
            "showbackground": true,
            "ticks": "",
            "zerolinecolor": "white"
           },
           "zaxis": {
            "backgroundcolor": "#E5ECF6",
            "gridcolor": "white",
            "gridwidth": 2,
            "linecolor": "white",
            "showbackground": true,
            "ticks": "",
            "zerolinecolor": "white"
           }
          },
          "shapedefaults": {
           "line": {
            "color": "#2a3f5f"
           }
          },
          "ternary": {
           "aaxis": {
            "gridcolor": "white",
            "linecolor": "white",
            "ticks": ""
           },
           "baxis": {
            "gridcolor": "white",
            "linecolor": "white",
            "ticks": ""
           },
           "bgcolor": "#E5ECF6",
           "caxis": {
            "gridcolor": "white",
            "linecolor": "white",
            "ticks": ""
           }
          },
          "title": {
           "x": 0.05
          },
          "xaxis": {
           "automargin": true,
           "gridcolor": "white",
           "linecolor": "white",
           "ticks": "",
           "title": {
            "standoff": 15
           },
           "zerolinecolor": "white",
           "zerolinewidth": 2
          },
          "yaxis": {
           "automargin": true,
           "gridcolor": "white",
           "linecolor": "white",
           "ticks": "",
           "title": {
            "standoff": 15
           },
           "zerolinecolor": "white",
           "zerolinewidth": 2
          }
         }
        },
        "title": {
         "text": "Top Genres TV Series Quality (by Rating)"
        },
        "xaxis": {
         "title": {
          "text": "Year"
         }
        },
        "yaxis": {
         "title": {
          "text": "% Quality"
         }
        }
       }
      }
     },
     "metadata": {},
     "output_type": "display_data"
    }
   ],
   "source": [
    "#series quality by genre\n",
    "\n",
    "fig = go.Figure()\n",
    "\n",
    "genres = ['genre_Crime', 'genre_Action', 'genre_Mystery', 'genre_Comedy', 'genre_Sci-Fi']\n",
    "\n",
    "for genre in genres:\n",
    "    data_quality_genre = data.groupby([genre, 'year'], as_index=False).agg(Sum=pd.NamedAgg(column='quality', aggfunc='sum'), Count=pd.NamedAgg(column='quality', aggfunc='count')).sort_values(by='year')\n",
    "    fig.add_trace(go.Scatter(\n",
    "        x=data_quality_genre['year'],\n",
    "        y=data_quality_genre['Sum'] / data_quality_genre['Count'],\n",
    "        connectgaps=True,\n",
    "        name=genre.replace('genre_', '')\n",
    "    ))\n",
    "\n",
    "fig.update_layout(title_text=\"Top Genres TV Series Quality (by Rating)\")\n",
    "fig.update_yaxes(title='% Quality')\n",
    "fig.update_xaxes(title='Year')"
   ]
  },
  {
   "cell_type": "markdown",
   "metadata": {},
   "source": [
    "---\n",
    "## <font color='red'>Findings and Results</font>\n",
    "\n",
    "* Date pre 2000 must be interpreted carefully, as far fewer series aired in this time frame, leading to inflated quality metrics\n",
    "* Aside from Sci-Fi, the local maximum for multiple series occurs in 2004\n",
    "* 2005/2007 is an extreme low point for Sci-Fi\n",
    "* 2004 is significant as this is when the volume of series increases greatly, making this somewhat a \"golden period\"\n",
    "---"
   ]
  },
  {
   "cell_type": "code",
   "execution_count": 78,
   "metadata": {},
   "outputs": [],
   "source": [
    "# EXPORT FINAL CSV\n",
    "\n",
    "data.to_csv('data_cleaned.csv', index=False)"
   ]
  }
 ],
 "metadata": {
  "kernelspec": {
   "display_name": "Python 3",
   "language": "python",
   "name": "python3"
  },
  "language_info": {
   "codemirror_mode": {
    "name": "ipython",
    "version": 3
   },
   "file_extension": ".py",
   "mimetype": "text/x-python",
   "name": "python",
   "nbconvert_exporter": "python",
   "pygments_lexer": "ipython3",
   "version": "3.9.0"
  }
 },
 "nbformat": 4,
 "nbformat_minor": 2
}
